{
 "cells": [
  {
   "cell_type": "code",
   "execution_count": 13,
   "metadata": {
    "_cell_guid": "b1076dfc-b9ad-4769-8c92-a6c4dae69d19",
    "_uuid": "8f2839f25d086af736a60e9eeb907d3b93b6e0e5"
   },
   "outputs": [
    {
     "name": "stdout",
     "output_type": "stream",
     "text": [
      "['.DS_Store', 'retrieval_sample_submission.csv', 'google-landmarks-dataset']\n",
      "Training data size: (1225029, 3)\n",
      "Test data size: (117703, 2)\n",
      "Retreival data size: (117703, 2)\n"
     ]
    }
   ],
   "source": [
    "# This Python 3 environment comes with many helpful analytics libraries installed\n",
    "# It is defined by the kaggle/python docker image: https://github.com/kaggle/docker-python\n",
    "# For example, here's several helpful packages to load in \n",
    "\n",
    "import numpy as np # linear algebra\n",
    "import pandas as pd # data processing, CSV file I/O (e.g. pd.read_csv)\n",
    "import matplotlib.pyplot as plt\n",
    "import seaborn as sns\n",
    "\n",
    "# Input data files are available in the \"../input/\" directory.\n",
    "# For example, running this (by clicking run or pressing Shift+Enter) will list the files in the input directory\n",
    "\n",
    "import os\n",
    "print(os.listdir(\"input/\"))\n",
    "\n",
    "# Any results you write to the current directory are saved as output.\n",
    "\n",
    "#reading the training and test data\n",
    "train_data = pd.read_csv('input/google-landmarks-dataset/train.csv')\n",
    "test_data = pd.read_csv('input/google-landmarks-dataset/test.csv')\n",
    "matching_data = pd.read_csv('input/retrieval_sample_submission.csv')\n",
    "\n",
    "print(\"Training data size:\",train_data.shape)\n",
    "print(\"Test data size:\",test_data.shape)\n",
    "print(\"Retreival data size:\",matching_data.shape)\n"
   ]
  },
  {
   "cell_type": "code",
   "execution_count": 48,
   "metadata": {},
   "outputs": [],
   "source": [
    "#Downloading the images \n",
    "from IPython.display import Image\n",
    "from IPython.core.display import HTML \n",
    "def display_image(url):\n",
    "    img_style = \"width: 500px; margin: 0px; float: left; border: 1px solid black;\"\n",
    "    #images_list = ''.join([f\"<img style='{img_style}' src='{u}' />\" for _, u in urls.head(20).iteritems()])\n",
    "    image=f\"<img style='{img_style}' src='{url}' />\"\n",
    "    display(HTML(image))"
   ]
  },
  {
   "cell_type": "code",
   "execution_count": 50,
   "metadata": {},
   "outputs": [
    {
     "data": {
      "text/html": [
       "<img style='width: 500px; margin: 0px; float: left; border: 1px solid black;' src='http://lh4.ggpht.com/-f8xYA5l4apw/RSziSQVaABI/AAAAAAAAASE/V8rWCdC0cvI/s1600/' />"
      ],
      "text/plain": [
       "<IPython.core.display.HTML object>"
      ]
     },
     "metadata": {},
     "output_type": "display_data"
    },
    {
     "data": {
      "text/html": [
       "<img style='width: 500px; margin: 0px; float: left; border: 1px solid black;' src='https://lh5.googleusercontent.com/-PUnMrX7oOyA/TySyn1rpTTI/AAAAAAAAASE/1O6VjsWhkdo/s1600/' />"
      ],
      "text/plain": [
       "<IPython.core.display.HTML object>"
      ]
     },
     "metadata": {},
     "output_type": "display_data"
    },
    {
     "data": {
      "text/html": [
       "<img style='width: 500px; margin: 0px; float: left; border: 1px solid black;' src='http://mw2.google.com/mw-panoramio/photos/medium/31965247.jpg' />"
      ],
      "text/plain": [
       "<IPython.core.display.HTML object>"
      ]
     },
     "metadata": {},
     "output_type": "display_data"
    },
    {
     "data": {
      "text/html": [
       "<img style='width: 500px; margin: 0px; float: left; border: 1px solid black;' src='http://lh3.ggpht.com/-9fgSxDYwhHA/SMvGEoltKTI/AAAAAAAAAmQ/okImAMVbiM8/s1600/' />"
      ],
      "text/plain": [
       "<IPython.core.display.HTML object>"
      ]
     },
     "metadata": {},
     "output_type": "display_data"
    },
    {
     "data": {
      "text/html": [
       "<img style='width: 500px; margin: 0px; float: left; border: 1px solid black;' src='http://lh6.ggpht.com/-UGAXxvPbr98/S-jGZbyMIPI/AAAAAAAACjk/cDbltIKSaEs/s1600/' />"
      ],
      "text/plain": [
       "<IPython.core.display.HTML object>"
      ]
     },
     "metadata": {},
     "output_type": "display_data"
    },
    {
     "data": {
      "text/html": [
       "<img style='width: 500px; margin: 0px; float: left; border: 1px solid black;' src='https://lh3.googleusercontent.com/-nbz_XT1dGz4/AAAAAAAAAAI/AAAAAAAAAAA/_QzphS62Sws/rj/' />"
      ],
      "text/plain": [
       "<IPython.core.display.HTML object>"
      ]
     },
     "metadata": {},
     "output_type": "display_data"
    },
    {
     "data": {
      "text/html": [
       "<img style='width: 500px; margin: 0px; float: left; border: 1px solid black;' src='https://lh6.googleusercontent.com/-onL5-pK9nZI/SvfWv6_P-pI/AAAAAAAABPY/Le1iu-JSmgY/s1600/' />"
      ],
      "text/plain": [
       "<IPython.core.display.HTML object>"
      ]
     },
     "metadata": {},
     "output_type": "display_data"
    },
    {
     "data": {
      "text/html": [
       "<img style='width: 500px; margin: 0px; float: left; border: 1px solid black;' src='http://lh5.ggpht.com/-3GWjPriaA9g/Sg3e_S0qEgI/AAAAAAAADY0/ysitBi2mSLc/s1600/' />"
      ],
      "text/plain": [
       "<IPython.core.display.HTML object>"
      ]
     },
     "metadata": {},
     "output_type": "display_data"
    },
    {
     "data": {
      "text/html": [
       "<img style='width: 500px; margin: 0px; float: left; border: 1px solid black;' src='https://lh4.googleusercontent.com/-FcAwNv0-WeY/T0AzkaCi3eI/AAAAAAAAFb8/Ehmw2DwGe6s/s1600/' />"
      ],
      "text/plain": [
       "<IPython.core.display.HTML object>"
      ]
     },
     "metadata": {},
     "output_type": "display_data"
    },
    {
     "data": {
      "text/html": [
       "<img style='width: 500px; margin: 0px; float: left; border: 1px solid black;' src='http://mw2.google.com/mw-panoramio/photos/medium/82951930.jpg' />"
      ],
      "text/plain": [
       "<IPython.core.display.HTML object>"
      ]
     },
     "metadata": {},
     "output_type": "display_data"
    },
    {
     "data": {
      "text/html": [
       "<img style='width: 500px; margin: 0px; float: left; border: 1px solid black;' src='https://lh6.googleusercontent.com/-xIJ3I2i3ESk/Ud-m9bYtxoI/AAAAAAAAdho/l-zOMG1nosw/s1600/' />"
      ],
      "text/plain": [
       "<IPython.core.display.HTML object>"
      ]
     },
     "metadata": {},
     "output_type": "display_data"
    },
    {
     "data": {
      "text/html": [
       "<img style='width: 500px; margin: 0px; float: left; border: 1px solid black;' src='http://lh3.ggpht.com/-3bysCvkJIBs/Tnf_HqJhFaI/AAAAAAAAbxQ/xpqzo2s6C-U/s1600/' />"
      ],
      "text/plain": [
       "<IPython.core.display.HTML object>"
      ]
     },
     "metadata": {},
     "output_type": "display_data"
    },
    {
     "data": {
      "text/html": [
       "<img style='width: 500px; margin: 0px; float: left; border: 1px solid black;' src='https://lh5.googleusercontent.com/-eoC653AtqLs/RlnlPeWOUCI/AAAAAAAAAJo/0UYvWJieL0w/rj/' />"
      ],
      "text/plain": [
       "<IPython.core.display.HTML object>"
      ]
     },
     "metadata": {},
     "output_type": "display_data"
    },
    {
     "data": {
      "text/html": [
       "<img style='width: 500px; margin: 0px; float: left; border: 1px solid black;' src='http://lh6.ggpht.com/-5upOUlKrK5g/RT9rdTOxABI/AAAAAAAADjc/90fCmeY5nTM/s1600/' />"
      ],
      "text/plain": [
       "<IPython.core.display.HTML object>"
      ]
     },
     "metadata": {},
     "output_type": "display_data"
    },
    {
     "data": {
      "text/html": [
       "<img style='width: 500px; margin: 0px; float: left; border: 1px solid black;' src='http://lh4.ggpht.com/-2Z3YgkH6iI8/TW5MB3UmXhI/AAAAAAAAAfk/u7IZrc-VbSo/s1600/' />"
      ],
      "text/plain": [
       "<IPython.core.display.HTML object>"
      ]
     },
     "metadata": {},
     "output_type": "display_data"
    },
    {
     "data": {
      "text/html": [
       "<img style='width: 500px; margin: 0px; float: left; border: 1px solid black;' src='http://lh4.ggpht.com/-Fl70oNceS_g/TFcqq4PpR9I/AAAAAAAALPs/z803A0bIyBI/s1600/' />"
      ],
      "text/plain": [
       "<IPython.core.display.HTML object>"
      ]
     },
     "metadata": {},
     "output_type": "display_data"
    },
    {
     "data": {
      "text/html": [
       "<img style='width: 500px; margin: 0px; float: left; border: 1px solid black;' src='https://lh6.googleusercontent.com/-8isu7IsH2x8/TD9faPQeEaI/AAAAAAAACHE/hyz4YsuqfUw/s1600/' />"
      ],
      "text/plain": [
       "<IPython.core.display.HTML object>"
      ]
     },
     "metadata": {},
     "output_type": "display_data"
    },
    {
     "data": {
      "text/html": [
       "<img style='width: 500px; margin: 0px; float: left; border: 1px solid black;' src='http://lh6.ggpht.com/-qdtbnvhvEDM/TSoOCs0xtjI/AAAAAAAACi8/-76yG_qffFE/s1600/' />"
      ],
      "text/plain": [
       "<IPython.core.display.HTML object>"
      ]
     },
     "metadata": {},
     "output_type": "display_data"
    },
    {
     "data": {
      "text/html": [
       "<img style='width: 500px; margin: 0px; float: left; border: 1px solid black;' src='http://lh5.ggpht.com/-bifKvgfhFYo/SFBbgBD0giI/AAAAAAAAAQo/jVcxfWLrJnY/rj/' />"
      ],
      "text/plain": [
       "<IPython.core.display.HTML object>"
      ]
     },
     "metadata": {},
     "output_type": "display_data"
    },
    {
     "data": {
      "text/html": [
       "<img style='width: 500px; margin: 0px; float: left; border: 1px solid black;' src='http://lh5.ggpht.com/-0vWLyGMeQQ0/T-AU7KKs08I/AAAAAAAACSc/m-syosrtsM0/s1600/' />"
      ],
      "text/plain": [
       "<IPython.core.display.HTML object>"
      ]
     },
     "metadata": {},
     "output_type": "display_data"
    },
    {
     "data": {
      "text/html": [
       "<img style='width: 500px; margin: 0px; float: left; border: 1px solid black;' src='https://lh3.googleusercontent.com/-nGAwumqrkI0/SDlq3IWdZ2I/AAAAAAAAIgM/n6LadHrWegI/s1600/' />"
      ],
      "text/plain": [
       "<IPython.core.display.HTML object>"
      ]
     },
     "metadata": {},
     "output_type": "display_data"
    },
    {
     "data": {
      "text/html": [
       "<img style='width: 500px; margin: 0px; float: left; border: 1px solid black;' src='http://mw2.google.com/mw-panoramio/photos/medium/3676629.jpg' />"
      ],
      "text/plain": [
       "<IPython.core.display.HTML object>"
      ]
     },
     "metadata": {},
     "output_type": "display_data"
    },
    {
     "data": {
      "text/html": [
       "<img style='width: 500px; margin: 0px; float: left; border: 1px solid black;' src='http://lh6.ggpht.com/-Euw-JhniTh0/RxevJzZ3ZnI/AAAAAAAABzY/2FeE0pd4-ww/s1600/' />"
      ],
      "text/plain": [
       "<IPython.core.display.HTML object>"
      ]
     },
     "metadata": {},
     "output_type": "display_data"
    },
    {
     "data": {
      "text/html": [
       "<img style='width: 500px; margin: 0px; float: left; border: 1px solid black;' src='http://lh6.ggpht.com/-MbCfKSsUTLg/RjyNT-6K2OI/AAAAAAAAArk/bCJ_ohFb67M/s1600/' />"
      ],
      "text/plain": [
       "<IPython.core.display.HTML object>"
      ]
     },
     "metadata": {},
     "output_type": "display_data"
    },
    {
     "data": {
      "text/html": [
       "<img style='width: 500px; margin: 0px; float: left; border: 1px solid black;' src='http://lh6.ggpht.com/-g_6dtHyMEmA/TB5_ST1SOtI/AAAAAAAAEaI/fYOceYItDu0/s1600/' />"
      ],
      "text/plain": [
       "<IPython.core.display.HTML object>"
      ]
     },
     "metadata": {},
     "output_type": "display_data"
    },
    {
     "data": {
      "text/html": [
       "<img style='width: 500px; margin: 0px; float: left; border: 1px solid black;' src='http://lh6.ggpht.com/-JpdnqBvK1oo/THtuyaiV6KI/AAAAAAAAAM0/gM3UKB223vE/s1600/' />"
      ],
      "text/plain": [
       "<IPython.core.display.HTML object>"
      ]
     },
     "metadata": {},
     "output_type": "display_data"
    },
    {
     "data": {
      "text/html": [
       "<img style='width: 500px; margin: 0px; float: left; border: 1px solid black;' src='http://lh5.ggpht.com/-z1SE2reTvWo/S6jsOEFI0bI/AAAAAAAAK4g/lKKCd-ajOCw/s1600/' />"
      ],
      "text/plain": [
       "<IPython.core.display.HTML object>"
      ]
     },
     "metadata": {},
     "output_type": "display_data"
    },
    {
     "data": {
      "text/html": [
       "<img style='width: 500px; margin: 0px; float: left; border: 1px solid black;' src='https://lh5.googleusercontent.com/--Q3SMs25zX8/SF3HEjIdEtI/AAAAAAAAAiQ/r84lPWLiRPY/s1600/' />"
      ],
      "text/plain": [
       "<IPython.core.display.HTML object>"
      ]
     },
     "metadata": {},
     "output_type": "display_data"
    },
    {
     "data": {
      "text/html": [
       "<img style='width: 500px; margin: 0px; float: left; border: 1px solid black;' src='http://lh3.ggpht.com/-m2DXA3MAeso/R21hFwlu_dI/AAAAAAAACpQ/zIzYNu6_mt8/s1600/' />"
      ],
      "text/plain": [
       "<IPython.core.display.HTML object>"
      ]
     },
     "metadata": {},
     "output_type": "display_data"
    },
    {
     "data": {
      "text/html": [
       "<img style='width: 500px; margin: 0px; float: left; border: 1px solid black;' src='http://lh3.ggpht.com/-IU1Valypm3w/SOaQ-Y_rZ2I/AAAAAAAAAKM/1yhFFFEtOns/s1600/' />"
      ],
      "text/plain": [
       "<IPython.core.display.HTML object>"
      ]
     },
     "metadata": {},
     "output_type": "display_data"
    },
    {
     "data": {
      "text/html": [
       "<img style='width: 500px; margin: 0px; float: left; border: 1px solid black;' src='http://lh5.ggpht.com/-Kbr17owtR3Q/SYtzNSaYiRI/AAAAAAAABBs/HRJb0qluVIg/s128/' />"
      ],
      "text/plain": [
       "<IPython.core.display.HTML object>"
      ]
     },
     "metadata": {},
     "output_type": "display_data"
    },
    {
     "data": {
      "text/html": [
       "<img style='width: 500px; margin: 0px; float: left; border: 1px solid black;' src='http://lh5.ggpht.com/-29Q8dAjTbok/S8ly09Go5YI/AAAAAAAABB0/MtWj0Ri5cqk/s1600/' />"
      ],
      "text/plain": [
       "<IPython.core.display.HTML object>"
      ]
     },
     "metadata": {},
     "output_type": "display_data"
    },
    {
     "data": {
      "text/html": [
       "<img style='width: 500px; margin: 0px; float: left; border: 1px solid black;' src='https://lh6.googleusercontent.com/-v4yKkJvMfEs/TtjusdcsKmI/AAAAAAAAPfo/z3jKfLsmEoA/s1600/' />"
      ],
      "text/plain": [
       "<IPython.core.display.HTML object>"
      ]
     },
     "metadata": {},
     "output_type": "display_data"
    },
    {
     "data": {
      "text/html": [
       "<img style='width: 500px; margin: 0px; float: left; border: 1px solid black;' src='http://lh5.ggpht.com/-yFxdhHs6wHk/TZ5cSAOiYlI/AAAAAAAAKDQ/ZyOcU7jJeDc/s1600/' />"
      ],
      "text/plain": [
       "<IPython.core.display.HTML object>"
      ]
     },
     "metadata": {},
     "output_type": "display_data"
    },
    {
     "data": {
      "text/html": [
       "<img style='width: 500px; margin: 0px; float: left; border: 1px solid black;' src='https://lh4.googleusercontent.com/-r_X8PoYuZGs/T9FlEIM-oPI/AAAAAAAAyiQ/w0bBKGNoVuI/s128/' />"
      ],
      "text/plain": [
       "<IPython.core.display.HTML object>"
      ]
     },
     "metadata": {},
     "output_type": "display_data"
    },
    {
     "data": {
      "text/html": [
       "<img style='width: 500px; margin: 0px; float: left; border: 1px solid black;' src='https://lh6.googleusercontent.com/-ldxeDQwwuw4/Uv4EVHlbw1I/AAAAAAAAQxI/RgNiGcSBFQQ/s1600/' />"
      ],
      "text/plain": [
       "<IPython.core.display.HTML object>"
      ]
     },
     "metadata": {},
     "output_type": "display_data"
    },
    {
     "data": {
      "text/html": [
       "<img style='width: 500px; margin: 0px; float: left; border: 1px solid black;' src='http://mw2.google.com/mw-panoramio/photos/medium/11148316.jpg' />"
      ],
      "text/plain": [
       "<IPython.core.display.HTML object>"
      ]
     },
     "metadata": {},
     "output_type": "display_data"
    },
    {
     "data": {
      "text/html": [
       "<img style='width: 500px; margin: 0px; float: left; border: 1px solid black;' src='http://lh6.ggpht.com/-TvoGOeXXDK8/Tk_xrwJzy4I/AAAAAAAABQc/YDjJsD_xvNQ/s1600/' />"
      ],
      "text/plain": [
       "<IPython.core.display.HTML object>"
      ]
     },
     "metadata": {},
     "output_type": "display_data"
    },
    {
     "data": {
      "text/html": [
       "<img style='width: 500px; margin: 0px; float: left; border: 1px solid black;' src='https://lh4.googleusercontent.com/-aSKVQ4ZAY44/TsAvkQzW4bI/AAAAAAAAIss/RT0tHvrMgzU/s1600/' />"
      ],
      "text/plain": [
       "<IPython.core.display.HTML object>"
      ]
     },
     "metadata": {},
     "output_type": "display_data"
    },
    {
     "data": {
      "text/html": [
       "<img style='width: 500px; margin: 0px; float: left; border: 1px solid black;' src='http://lh5.ggpht.com/-VVD1QBNnZB8/ShG-yfKCZ3I/AAAAAAAABrc/uUbV8bksxvY/s1600/' />"
      ],
      "text/plain": [
       "<IPython.core.display.HTML object>"
      ]
     },
     "metadata": {},
     "output_type": "display_data"
    },
    {
     "data": {
      "text/html": [
       "<img style='width: 500px; margin: 0px; float: left; border: 1px solid black;' src='https://lh4.googleusercontent.com/-XJ9A_JCpWh0/T8gB5Htj_HI/AAAAAAAAFVU/ygWhz-cRi-A/s1600/' />"
      ],
      "text/plain": [
       "<IPython.core.display.HTML object>"
      ]
     },
     "metadata": {},
     "output_type": "display_data"
    },
    {
     "data": {
      "text/html": [
       "<img style='width: 500px; margin: 0px; float: left; border: 1px solid black;' src='https://lh4.googleusercontent.com/-wvRGZhIX08Y/TEOXV7a9-oI/AAAAAAAAWfI/e_4XLWW78k8/s1600/' />"
      ],
      "text/plain": [
       "<IPython.core.display.HTML object>"
      ]
     },
     "metadata": {},
     "output_type": "display_data"
    },
    {
     "data": {
      "text/html": [
       "<img style='width: 500px; margin: 0px; float: left; border: 1px solid black;' src='http://lh3.ggpht.com/-2OZ1jqOsRPs/SvMGRhFte4I/AAAAAAAABzw/WxUkmws5ZLY/rj/' />"
      ],
      "text/plain": [
       "<IPython.core.display.HTML object>"
      ]
     },
     "metadata": {},
     "output_type": "display_data"
    },
    {
     "data": {
      "text/html": [
       "<img style='width: 500px; margin: 0px; float: left; border: 1px solid black;' src='https://lh3.googleusercontent.com/-6i9aiykGtmw/T7WeeNahlkI/AAAAAAAAX3Y/y828BnFsgss/s1600/' />"
      ],
      "text/plain": [
       "<IPython.core.display.HTML object>"
      ]
     },
     "metadata": {},
     "output_type": "display_data"
    },
    {
     "data": {
      "text/html": [
       "<img style='width: 500px; margin: 0px; float: left; border: 1px solid black;' src='http://lh5.ggpht.com/-ACjGX7p_wEU/RqDzUZFvNVI/AAAAAAAABl8/Czvt7w9bIV8/s1600/' />"
      ],
      "text/plain": [
       "<IPython.core.display.HTML object>"
      ]
     },
     "metadata": {},
     "output_type": "display_data"
    },
    {
     "data": {
      "text/html": [
       "<img style='width: 500px; margin: 0px; float: left; border: 1px solid black;' src='https://lh3.googleusercontent.com/-3j3UkLr6_kI/UIGv0CDRZAI/AAAAAAAAAIA/yp4yEG75Pfg/s1600/' />"
      ],
      "text/plain": [
       "<IPython.core.display.HTML object>"
      ]
     },
     "metadata": {},
     "output_type": "display_data"
    },
    {
     "data": {
      "text/html": [
       "<img style='width: 500px; margin: 0px; float: left; border: 1px solid black;' src='http://lh6.ggpht.com/-APyo4_Q6M-Y/SLDGxVNoFLI/AAAAAAAABjM/yKGsXDbb20s/s1600/' />"
      ],
      "text/plain": [
       "<IPython.core.display.HTML object>"
      ]
     },
     "metadata": {},
     "output_type": "display_data"
    },
    {
     "data": {
      "text/html": [
       "<img style='width: 500px; margin: 0px; float: left; border: 1px solid black;' src='https://lh3.googleusercontent.com/-MKZvZV1YX4M/TQmLLdvc-AI/AAAAAAAAOyg/MP6FTTVW2JM/s1600/' />"
      ],
      "text/plain": [
       "<IPython.core.display.HTML object>"
      ]
     },
     "metadata": {},
     "output_type": "display_data"
    },
    {
     "data": {
      "text/html": [
       "<img style='width: 500px; margin: 0px; float: left; border: 1px solid black;' src='https://lh6.googleusercontent.com/-jCiqpASe2Sk/SHd-i78n1OI/AAAAAAAACSI/fFa59ZfUwzs/s1600/' />"
      ],
      "text/plain": [
       "<IPython.core.display.HTML object>"
      ]
     },
     "metadata": {},
     "output_type": "display_data"
    },
    {
     "data": {
      "text/html": [
       "<img style='width: 500px; margin: 0px; float: left; border: 1px solid black;' src='http://lh4.ggpht.com/-307jc65HbLE/Sn1C7ss0piI/AAAAAAAAA78/q5hBUqXHrQQ/s1600/' />"
      ],
      "text/plain": [
       "<IPython.core.display.HTML object>"
      ]
     },
     "metadata": {},
     "output_type": "display_data"
    },
    {
     "data": {
      "text/html": [
       "<img style='width: 500px; margin: 0px; float: left; border: 1px solid black;' src='http://lh4.ggpht.com/--2WjNfYmRCg/R5NDEj2e3qI/AAAAAAAAA2k/HFcMMARcB78/s1600/' />"
      ],
      "text/plain": [
       "<IPython.core.display.HTML object>"
      ]
     },
     "metadata": {},
     "output_type": "display_data"
    },
    {
     "data": {
      "text/html": [
       "<img style='width: 500px; margin: 0px; float: left; border: 1px solid black;' src='https://lh4.googleusercontent.com/-uu142fuPpro/SHGX6hoQgxI/AAAAAAAABrI/eyzGqHk_u6o/s1600/' />"
      ],
      "text/plain": [
       "<IPython.core.display.HTML object>"
      ]
     },
     "metadata": {},
     "output_type": "display_data"
    },
    {
     "data": {
      "text/html": [
       "<img style='width: 500px; margin: 0px; float: left; border: 1px solid black;' src='https://lh6.googleusercontent.com/-hjvNbdzzwEI/TFPi0EymdcI/AAAAAAAABdk/krHOn_PcrUE/s1600/' />"
      ],
      "text/plain": [
       "<IPython.core.display.HTML object>"
      ]
     },
     "metadata": {},
     "output_type": "display_data"
    },
    {
     "data": {
      "text/html": [
       "<img style='width: 500px; margin: 0px; float: left; border: 1px solid black;' src='http://lh5.ggpht.com/-uLN0OD_WvAQ/SL_fQ842gzI/AAAAAAAABHs/aAaCLb285qA/rj/' />"
      ],
      "text/plain": [
       "<IPython.core.display.HTML object>"
      ]
     },
     "metadata": {},
     "output_type": "display_data"
    },
    {
     "data": {
      "text/html": [
       "<img style='width: 500px; margin: 0px; float: left; border: 1px solid black;' src='http://lh3.ggpht.com/-CJtpl8Z77mE/S-xrWlbYBuI/AAAAAAAAAB4/8YdnidbZ0Fs/s1600/' />"
      ],
      "text/plain": [
       "<IPython.core.display.HTML object>"
      ]
     },
     "metadata": {},
     "output_type": "display_data"
    },
    {
     "data": {
      "text/html": [
       "<img style='width: 500px; margin: 0px; float: left; border: 1px solid black;' src='https://lh4.googleusercontent.com/-AVEfPLKUjwQ/SdF7VIFGoHI/AAAAAAAABNg/O7-q8jnIuvc/s1600/' />"
      ],
      "text/plain": [
       "<IPython.core.display.HTML object>"
      ]
     },
     "metadata": {},
     "output_type": "display_data"
    },
    {
     "data": {
      "text/html": [
       "<img style='width: 500px; margin: 0px; float: left; border: 1px solid black;' src='https://lh4.googleusercontent.com/-0bWCkQdH5no/SnXVXG3qrsI/AAAAAAAABoE/hdYgCC2ere8/s1600/' />"
      ],
      "text/plain": [
       "<IPython.core.display.HTML object>"
      ]
     },
     "metadata": {},
     "output_type": "display_data"
    },
    {
     "data": {
      "text/html": [
       "<img style='width: 500px; margin: 0px; float: left; border: 1px solid black;' src='https://lh5.googleusercontent.com/-Ok_aIvZ--gU/UkXjFY1G6BI/AAAAAAAALkg/k6ZR_OVmdAY/s1600/' />"
      ],
      "text/plain": [
       "<IPython.core.display.HTML object>"
      ]
     },
     "metadata": {},
     "output_type": "display_data"
    },
    {
     "data": {
      "text/html": [
       "<img style='width: 500px; margin: 0px; float: left; border: 1px solid black;' src='https://lh4.googleusercontent.com/-yKDyS9Y7cwU/SkvrA__5UWI/AAAAAAAADgk/hlj5n65cNvE/s1600/' />"
      ],
      "text/plain": [
       "<IPython.core.display.HTML object>"
      ]
     },
     "metadata": {},
     "output_type": "display_data"
    },
    {
     "data": {
      "text/html": [
       "<img style='width: 500px; margin: 0px; float: left; border: 1px solid black;' src='https://lh6.googleusercontent.com/-lLI_nZj5fuk/SMlZL0d1HDI/AAAAAAAACoI/MuwNasDcvdY/s1600/' />"
      ],
      "text/plain": [
       "<IPython.core.display.HTML object>"
      ]
     },
     "metadata": {},
     "output_type": "display_data"
    },
    {
     "data": {
      "text/html": [
       "<img style='width: 500px; margin: 0px; float: left; border: 1px solid black;' src='https://lh6.googleusercontent.com/-uda5w74rMaU/S82yeuJqkcI/AAAAAAAABdw/4tlwlUXFlLw/s1600/' />"
      ],
      "text/plain": [
       "<IPython.core.display.HTML object>"
      ]
     },
     "metadata": {},
     "output_type": "display_data"
    },
    {
     "data": {
      "text/html": [
       "<img style='width: 500px; margin: 0px; float: left; border: 1px solid black;' src='https://lh6.googleusercontent.com/-YOZsFjS8hVg/TMcMMi8YQBI/AAAAAAAABOA/gxMAJPK3isM/rj/' />"
      ],
      "text/plain": [
       "<IPython.core.display.HTML object>"
      ]
     },
     "metadata": {},
     "output_type": "display_data"
    },
    {
     "data": {
      "text/html": [
       "<img style='width: 500px; margin: 0px; float: left; border: 1px solid black;' src='http://lh4.ggpht.com/-YzuWuieyLyg/S6G2Lyrv8VI/AAAAAAAAQfM/fDEw0bYTHWY/s1600/' />"
      ],
      "text/plain": [
       "<IPython.core.display.HTML object>"
      ]
     },
     "metadata": {},
     "output_type": "display_data"
    },
    {
     "data": {
      "text/html": [
       "<img style='width: 500px; margin: 0px; float: left; border: 1px solid black;' src='https://lh5.googleusercontent.com/-7AoJnw2esWw/S7ubehzXuuI/AAAAAAAAAXw/NKnaXkpx1wU/s1600/' />"
      ],
      "text/plain": [
       "<IPython.core.display.HTML object>"
      ]
     },
     "metadata": {},
     "output_type": "display_data"
    },
    {
     "data": {
      "text/html": [
       "<img style='width: 500px; margin: 0px; float: left; border: 1px solid black;' src='http://lh5.ggpht.com/-UpuLIUBbpRg/ThdRqwg6CmI/AAAAAAAAK_4/oGsoU3vF-Xs/s1600/' />"
      ],
      "text/plain": [
       "<IPython.core.display.HTML object>"
      ]
     },
     "metadata": {},
     "output_type": "display_data"
    },
    {
     "data": {
      "text/html": [
       "<img style='width: 500px; margin: 0px; float: left; border: 1px solid black;' src='https://lh3.googleusercontent.com/-r2uDcs8YF-k/R756rwMpxBI/AAAAAAAAA3E/LTFZIo5RwXs/s1600/' />"
      ],
      "text/plain": [
       "<IPython.core.display.HTML object>"
      ]
     },
     "metadata": {},
     "output_type": "display_data"
    },
    {
     "data": {
      "text/html": [
       "<img style='width: 500px; margin: 0px; float: left; border: 1px solid black;' src='https://lh3.googleusercontent.com/-kebpHJWHbdg/SBZ0Tt8inJI/AAAAAAAACmo/OKhKNsVEOzI/s1600/' />"
      ],
      "text/plain": [
       "<IPython.core.display.HTML object>"
      ]
     },
     "metadata": {},
     "output_type": "display_data"
    },
    {
     "data": {
      "text/html": [
       "<img style='width: 500px; margin: 0px; float: left; border: 1px solid black;' src='https://lh5.googleusercontent.com/-EJD0G7iKv10/Ugm924ZEOjI/AAAAAAAA7w0/vQSB_3ycuAo/s1600/' />"
      ],
      "text/plain": [
       "<IPython.core.display.HTML object>"
      ]
     },
     "metadata": {},
     "output_type": "display_data"
    },
    {
     "data": {
      "text/html": [
       "<img style='width: 500px; margin: 0px; float: left; border: 1px solid black;' src='http://lh5.ggpht.com/-6Vob_tzYQSE/S5wk-YnrqbI/AAAAAAAABAs/Q9gvaaf_du0/s1600/' />"
      ],
      "text/plain": [
       "<IPython.core.display.HTML object>"
      ]
     },
     "metadata": {},
     "output_type": "display_data"
    },
    {
     "data": {
      "text/html": [
       "<img style='width: 500px; margin: 0px; float: left; border: 1px solid black;' src='https://lh6.googleusercontent.com/-xAmqD_PLM28/RrAE2_jmP0I/AAAAAAAACCU/Vq7NPptikCU/s1600/' />"
      ],
      "text/plain": [
       "<IPython.core.display.HTML object>"
      ]
     },
     "metadata": {},
     "output_type": "display_data"
    },
    {
     "data": {
      "text/html": [
       "<img style='width: 500px; margin: 0px; float: left; border: 1px solid black;' src='https://lh6.googleusercontent.com/-c6H1pYnMXaU/THaZ5Bx7I0I/AAAAAAAAAWo/XKJ4j2XlRXQ/s1600/' />"
      ],
      "text/plain": [
       "<IPython.core.display.HTML object>"
      ]
     },
     "metadata": {},
     "output_type": "display_data"
    },
    {
     "data": {
      "text/html": [
       "<img style='width: 500px; margin: 0px; float: left; border: 1px solid black;' src='https://lh5.googleusercontent.com/-6RKZOrMiqTE/UBgDAbsXk8I/AAAAAAAAG5Q/URw_308Pdc4/s1600/' />"
      ],
      "text/plain": [
       "<IPython.core.display.HTML object>"
      ]
     },
     "metadata": {},
     "output_type": "display_data"
    },
    {
     "data": {
      "text/html": [
       "<img style='width: 500px; margin: 0px; float: left; border: 1px solid black;' src='https://lh3.googleusercontent.com/-gCILJIYCEY0/TAU1kdnMVyI/AAAAAAAAASU/Ff7G0F7oBkw/s1600/' />"
      ],
      "text/plain": [
       "<IPython.core.display.HTML object>"
      ]
     },
     "metadata": {},
     "output_type": "display_data"
    },
    {
     "data": {
      "text/html": [
       "<img style='width: 500px; margin: 0px; float: left; border: 1px solid black;' src='https://lh6.googleusercontent.com/-BaHBb1fniJU/SRX61bAXl7I/AAAAAAAALE4/h22JAVB5-vc/s1600/' />"
      ],
      "text/plain": [
       "<IPython.core.display.HTML object>"
      ]
     },
     "metadata": {},
     "output_type": "display_data"
    },
    {
     "data": {
      "text/html": [
       "<img style='width: 500px; margin: 0px; float: left; border: 1px solid black;' src='http://lh4.ggpht.com/-OM1cKZCxm2g/SYIg8jE7AgI/AAAAAAAAA9U/G9pM_7N07Y8/s1600/' />"
      ],
      "text/plain": [
       "<IPython.core.display.HTML object>"
      ]
     },
     "metadata": {},
     "output_type": "display_data"
    },
    {
     "data": {
      "text/html": [
       "<img style='width: 500px; margin: 0px; float: left; border: 1px solid black;' src='http://lh6.ggpht.com/-7Uu23vhvieY/Sehon7kKivI/AAAAAAAAAfY/kzSTCQWaaps/s1600/' />"
      ],
      "text/plain": [
       "<IPython.core.display.HTML object>"
      ]
     },
     "metadata": {},
     "output_type": "display_data"
    },
    {
     "data": {
      "text/html": [
       "<img style='width: 500px; margin: 0px; float: left; border: 1px solid black;' src='http://lh4.ggpht.com/-vyK23KRCis4/T7T_YFZ3rQI/AAAAAAAAABk/hyncAVWEHug/s1600/' />"
      ],
      "text/plain": [
       "<IPython.core.display.HTML object>"
      ]
     },
     "metadata": {},
     "output_type": "display_data"
    },
    {
     "data": {
      "text/html": [
       "<img style='width: 500px; margin: 0px; float: left; border: 1px solid black;' src='http://lh6.ggpht.com/-24D6rS6-E7Y/SRVYdUC7mbI/AAAAAAAABHs/GQUJqqsQwjY/s1600/' />"
      ],
      "text/plain": [
       "<IPython.core.display.HTML object>"
      ]
     },
     "metadata": {},
     "output_type": "display_data"
    },
    {
     "data": {
      "text/html": [
       "<img style='width: 500px; margin: 0px; float: left; border: 1px solid black;' src='https://lh5.googleusercontent.com/-vNm4Qep4xvc/RucMw5WOW5I/AAAAAAAAAyY/MXCsn0AvJRs/s1600/' />"
      ],
      "text/plain": [
       "<IPython.core.display.HTML object>"
      ]
     },
     "metadata": {},
     "output_type": "display_data"
    },
    {
     "data": {
      "text/html": [
       "<img style='width: 500px; margin: 0px; float: left; border: 1px solid black;' src='http://mw2.google.com/mw-panoramio/photos/medium/25520314.jpg' />"
      ],
      "text/plain": [
       "<IPython.core.display.HTML object>"
      ]
     },
     "metadata": {},
     "output_type": "display_data"
    },
    {
     "data": {
      "text/html": [
       "<img style='width: 500px; margin: 0px; float: left; border: 1px solid black;' src='https://lh5.googleusercontent.com/-J4zYoHnZ8Xk/Twz2XHboQHI/AAAAAAAABCo/z87CSocZHuY/s1600/' />"
      ],
      "text/plain": [
       "<IPython.core.display.HTML object>"
      ]
     },
     "metadata": {},
     "output_type": "display_data"
    },
    {
     "data": {
      "text/html": [
       "<img style='width: 500px; margin: 0px; float: left; border: 1px solid black;' src='https://lh4.googleusercontent.com/-J3-mGv6lFAc/R2ajNkL_YDI/AAAAAAAAAWY/k3_-1LEGtfY/s1600/' />"
      ],
      "text/plain": [
       "<IPython.core.display.HTML object>"
      ]
     },
     "metadata": {},
     "output_type": "display_data"
    },
    {
     "data": {
      "text/html": [
       "<img style='width: 500px; margin: 0px; float: left; border: 1px solid black;' src='https://lh6.googleusercontent.com/-KxLAESHHqdg/S3MDz0nnqpI/AAAAAAAABdM/CofCjdYs4kg/s1600/' />"
      ],
      "text/plain": [
       "<IPython.core.display.HTML object>"
      ]
     },
     "metadata": {},
     "output_type": "display_data"
    },
    {
     "data": {
      "text/html": [
       "<img style='width: 500px; margin: 0px; float: left; border: 1px solid black;' src='http://lh6.ggpht.com/-IvKcAX9IeQ8/Sb5f9Ur6FaI/AAAAAAAAE4w/pazI3srCO9w/rj/' />"
      ],
      "text/plain": [
       "<IPython.core.display.HTML object>"
      ]
     },
     "metadata": {},
     "output_type": "display_data"
    },
    {
     "data": {
      "text/html": [
       "<img style='width: 500px; margin: 0px; float: left; border: 1px solid black;' src='http://lh6.ggpht.com/-n58xiLS2Pyc/TkmbBVlHyMI/AAAAAAAADxU/RDhsYaXG3TE/s1600/' />"
      ],
      "text/plain": [
       "<IPython.core.display.HTML object>"
      ]
     },
     "metadata": {},
     "output_type": "display_data"
    },
    {
     "data": {
      "text/html": [
       "<img style='width: 500px; margin: 0px; float: left; border: 1px solid black;' src='http://lh4.ggpht.com/-1PIefeawLOA/TWcYsVMzwHI/AAAAAAAAA5Q/O-J3ARMuoyc/s1600/' />"
      ],
      "text/plain": [
       "<IPython.core.display.HTML object>"
      ]
     },
     "metadata": {},
     "output_type": "display_data"
    },
    {
     "data": {
      "text/html": [
       "<img style='width: 500px; margin: 0px; float: left; border: 1px solid black;' src='http://lh4.ggpht.com/-z8q8ifPKNbw/Slk432VPDPI/AAAAAAAABk4/lQxw7QFWwCQ/s1600/' />"
      ],
      "text/plain": [
       "<IPython.core.display.HTML object>"
      ]
     },
     "metadata": {},
     "output_type": "display_data"
    },
    {
     "data": {
      "text/html": [
       "<img style='width: 500px; margin: 0px; float: left; border: 1px solid black;' src='https://lh6.googleusercontent.com/-QCDV0ENYxPI/SKfNbKY2CtI/AAAAAAAABxA/UIj8746bUTw/s0-d/' />"
      ],
      "text/plain": [
       "<IPython.core.display.HTML object>"
      ]
     },
     "metadata": {},
     "output_type": "display_data"
    },
    {
     "data": {
      "text/html": [
       "<img style='width: 500px; margin: 0px; float: left; border: 1px solid black;' src='https://lh5.googleusercontent.com/-NUKyaAOAgas/Sj_uReNEq-I/AAAAAAAAANY/gUTRGaTaiN8/rj/' />"
      ],
      "text/plain": [
       "<IPython.core.display.HTML object>"
      ]
     },
     "metadata": {},
     "output_type": "display_data"
    },
    {
     "data": {
      "text/html": [
       "<img style='width: 500px; margin: 0px; float: left; border: 1px solid black;' src='http://lh4.ggpht.com/-_X7nI-75w8g/SgMLSQSXDgI/AAAAAAAABns/YZjlL9lgu98/s1600/' />"
      ],
      "text/plain": [
       "<IPython.core.display.HTML object>"
      ]
     },
     "metadata": {},
     "output_type": "display_data"
    },
    {
     "data": {
      "text/html": [
       "<img style='width: 500px; margin: 0px; float: left; border: 1px solid black;' src='http://lh6.ggpht.com/-r1LjRS9oOvM/S5AP9aYUj7I/AAAAAAAACW4/9-zRL-rwY40/s1600/' />"
      ],
      "text/plain": [
       "<IPython.core.display.HTML object>"
      ]
     },
     "metadata": {},
     "output_type": "display_data"
    },
    {
     "data": {
      "text/html": [
       "<img style='width: 500px; margin: 0px; float: left; border: 1px solid black;' src='http://lh4.ggpht.com/-Q0dIIT0LWEQ/R3J24z32yTI/AAAAAAAABR0/PbLYcD3k7Es/s1600/' />"
      ],
      "text/plain": [
       "<IPython.core.display.HTML object>"
      ]
     },
     "metadata": {},
     "output_type": "display_data"
    },
    {
     "data": {
      "text/html": [
       "<img style='width: 500px; margin: 0px; float: left; border: 1px solid black;' src='http://mw2.google.com/mw-panoramio/photos/medium/22400863.jpg' />"
      ],
      "text/plain": [
       "<IPython.core.display.HTML object>"
      ]
     },
     "metadata": {},
     "output_type": "display_data"
    },
    {
     "data": {
      "text/html": [
       "<img style='width: 500px; margin: 0px; float: left; border: 1px solid black;' src='http://lh4.ggpht.com/-TcsUKA57m6s/RySqlnGdq_I/AAAAAAAAAWA/d1ch-NJLzE4/s1600/' />"
      ],
      "text/plain": [
       "<IPython.core.display.HTML object>"
      ]
     },
     "metadata": {},
     "output_type": "display_data"
    },
    {
     "data": {
      "text/html": [
       "<img style='width: 500px; margin: 0px; float: left; border: 1px solid black;' src='http://lh3.ggpht.com/-xpk9kRpv65o/ToGbE6Vi4_I/AAAAAAAABA0/Smxe9XqC4qY/s1600/' />"
      ],
      "text/plain": [
       "<IPython.core.display.HTML object>"
      ]
     },
     "metadata": {},
     "output_type": "display_data"
    },
    {
     "data": {
      "text/html": [
       "<img style='width: 500px; margin: 0px; float: left; border: 1px solid black;' src='https://lh4.googleusercontent.com/-9pL3NosFgKQ/TOKArK4l7fI/AAAAAAAAOv8/GyqxhDyJdSU/s1600/' />"
      ],
      "text/plain": [
       "<IPython.core.display.HTML object>"
      ]
     },
     "metadata": {},
     "output_type": "display_data"
    },
    {
     "data": {
      "text/html": [
       "<img style='width: 500px; margin: 0px; float: left; border: 1px solid black;' src='https://lh6.googleusercontent.com/-KmY65KLxSlk/TcUSPEMs44I/AAAAAAAAAwY/pjYvePK5Zlk/s1600/' />"
      ],
      "text/plain": [
       "<IPython.core.display.HTML object>"
      ]
     },
     "metadata": {},
     "output_type": "display_data"
    },
    {
     "data": {
      "text/html": [
       "<img style='width: 500px; margin: 0px; float: left; border: 1px solid black;' src='http://lh4.ggpht.com/-q4t2BCB-5hk/S59ETA-o0CI/AAAAAAAAALg/afSaIOMnwGw/s1600/' />"
      ],
      "text/plain": [
       "<IPython.core.display.HTML object>"
      ]
     },
     "metadata": {},
     "output_type": "display_data"
    },
    {
     "data": {
      "text/html": [
       "<img style='width: 500px; margin: 0px; float: left; border: 1px solid black;' src='https://lh6.googleusercontent.com/-2M8kBxuyWMU/SLbLfW-y3vI/AAAAAAAAE7Q/fsdcJLPXsiY/rj/' />"
      ],
      "text/plain": [
       "<IPython.core.display.HTML object>"
      ]
     },
     "metadata": {},
     "output_type": "display_data"
    },
    {
     "data": {
      "text/html": [
       "<img style='width: 500px; margin: 0px; float: left; border: 1px solid black;' src='http://lh3.ggpht.com/-3ob6Pa7Aiu0/UDh3TnBcG3I/AAAAAAAAA6I/lKgRruC7Ong/s1600/' />"
      ],
      "text/plain": [
       "<IPython.core.display.HTML object>"
      ]
     },
     "metadata": {},
     "output_type": "display_data"
    }
   ],
   "source": [
    "#Displaying the images\n",
    "for x in range(100):\n",
    "    display_image(train_data['url'][x])"
   ]
  },
  {
   "cell_type": "code",
   "execution_count": 51,
   "metadata": {},
   "outputs": [],
   "source": [
    "from keras.preprocessing import image\n",
    "def path_to_tensor(img_path):\n",
    "    # loads RGB image as PIL.Image.Image type\n",
    "    img = image.load_img(img_path, target_size=(224, 224))\n",
    "    # convert PIL.Image.Image type to 3D tensor with shape (224, 224, 3)\n",
    "    x = image.img_to_array(img)\n",
    "    # convert 3D tensor to 4D tensor with shape (1, 224, 224, 3) and return 4D tensor\n",
    "    return np.expand_dims(x, axis=0)"
   ]
  },
  {
   "cell_type": "code",
   "execution_count": 52,
   "metadata": {},
   "outputs": [],
   "source": [
    "import sys\n",
    "# https://gist.github.com/vladignatyev/06860ec2040cb497f0f3\n",
    "# vladignatyev's progress bar\n",
    "# remove later\n",
    "def progress(count, total, status=''):\n",
    "    bar_len = 60\n",
    "    filled_len = int(round(bar_len * count / float(total)))\n",
    "\n",
    "    percents = round(100.0 * count / float(total), 1)\n",
    "    bar = '=' * filled_len + '-' * (bar_len - filled_len)\n",
    "\n",
    "    sys.stdout.write('[%s] %s%s ...%s\\r' % (bar, percents, '%', status))\n",
    "    sys.stdout.flush()  # As suggested by Rom Ruben (see: http://stackoverflow.com/questions/3173320/text-progress-bar-in-the-console/27871113#comment50529068_27871113)\n"
   ]
  },
  {
   "cell_type": "code",
   "execution_count": 53,
   "metadata": {},
   "outputs": [],
   "source": [
    "def setter(x, adder, data):\n",
    "    try:\n",
    "        url1 = data['url'][x+adder]\n",
    "        urllib.request.urlretrieve(url1, 'tempfiles/evaluated.jpg')\n",
    "        return True\n",
    "    except:\n",
    "        return False"
   ]
  },
  {
   "cell_type": "code",
   "execution_count": 14,
   "metadata": {
    "scrolled": false
   },
   "outputs": [
    {
     "name": "stdout",
     "output_type": "stream",
     "text": [
      "finished import\n"
     ]
    },
    {
     "ename": "KeyboardInterrupt",
     "evalue": "",
     "output_type": "error",
     "traceback": [
      "\u001b[0;31m---------------------------------------------------------------------------\u001b[0m",
      "\u001b[0;31mKeyboardInterrupt\u001b[0m                         Traceback (most recent call last)",
      "\u001b[0;32m<ipython-input-14-646833683ff3>\u001b[0m in \u001b[0;36m<module>\u001b[0;34m\u001b[0m\n\u001b[1;32m     45\u001b[0m     \u001b[0mindex_dataframe\u001b[0m\u001b[0;34m.\u001b[0m\u001b[0mto_csv\u001b[0m\u001b[0;34m(\u001b[0m\u001b[0;34m\"data/indices\"\u001b[0m \u001b[0;34m+\u001b[0m \u001b[0msuffix\u001b[0m \u001b[0;34m+\u001b[0m \u001b[0;34m\".csv\"\u001b[0m\u001b[0;34m,\u001b[0m \u001b[0msep\u001b[0m\u001b[0;34m=\u001b[0m\u001b[0;34m','\u001b[0m\u001b[0;34m,\u001b[0m \u001b[0mencoding\u001b[0m\u001b[0;34m=\u001b[0m\u001b[0;34m'utf-8'\u001b[0m\u001b[0;34m)\u001b[0m\u001b[0;34m\u001b[0m\u001b[0;34m\u001b[0m\u001b[0m\n\u001b[1;32m     46\u001b[0m \u001b[0;34m\u001b[0m\u001b[0m\n\u001b[0;32m---> 47\u001b[0;31m \u001b[0mcreate_resnet50_csv\u001b[0m\u001b[0;34m(\u001b[0m\u001b[0mtrain_data\u001b[0m\u001b[0;34m,\u001b[0m \u001b[0;36m100\u001b[0m\u001b[0;34m,\u001b[0m \u001b[0;34m\"_train\"\u001b[0m\u001b[0;34m)\u001b[0m\u001b[0;34m\u001b[0m\u001b[0;34m\u001b[0m\u001b[0m\n\u001b[0m\u001b[1;32m     48\u001b[0m \u001b[0mcreate_resnet50_csv\u001b[0m\u001b[0;34m(\u001b[0m\u001b[0mtest_data\u001b[0m\u001b[0;34m,\u001b[0m \u001b[0;36m100\u001b[0m\u001b[0;34m,\u001b[0m \u001b[0;34m\"_test\"\u001b[0m\u001b[0;34m)\u001b[0m\u001b[0;34m\u001b[0m\u001b[0;34m\u001b[0m\u001b[0m\n",
      "\u001b[0;32m<ipython-input-14-646833683ff3>\u001b[0m in \u001b[0;36mcreate_resnet50_csv\u001b[0;34m(data, length, suffix)\u001b[0m\n\u001b[1;32m     12\u001b[0m \u001b[0;34m\u001b[0m\u001b[0m\n\u001b[1;32m     13\u001b[0m     \u001b[0mmodel\u001b[0m \u001b[0;34m=\u001b[0m \u001b[0mSequential\u001b[0m\u001b[0;34m(\u001b[0m\u001b[0;34m)\u001b[0m\u001b[0;34m\u001b[0m\u001b[0;34m\u001b[0m\u001b[0m\n\u001b[0;32m---> 14\u001b[0;31m     \u001b[0mmodel\u001b[0m \u001b[0;34m=\u001b[0m \u001b[0mResNet50\u001b[0m\u001b[0;34m(\u001b[0m\u001b[0minclude_top\u001b[0m\u001b[0;34m=\u001b[0m\u001b[0;32mFalse\u001b[0m\u001b[0;34m,\u001b[0m \u001b[0mweights\u001b[0m\u001b[0;34m=\u001b[0m\u001b[0;34m'imagenet'\u001b[0m\u001b[0;34m)\u001b[0m\u001b[0;34m\u001b[0m\u001b[0;34m\u001b[0m\u001b[0m\n\u001b[0m\u001b[1;32m     15\u001b[0m \u001b[0;34m\u001b[0m\u001b[0m\n\u001b[1;32m     16\u001b[0m \u001b[0;34m\u001b[0m\u001b[0m\n",
      "\u001b[0;32m/anaconda3/lib/python3.7/site-packages/tensorflow/python/keras/applications/__init__.py\u001b[0m in \u001b[0;36mwrapper\u001b[0;34m(*args, **kwargs)\u001b[0m\n\u001b[1;32m     68\u001b[0m       \u001b[0mkwargs\u001b[0m\u001b[0;34m[\u001b[0m\u001b[0;34m'models'\u001b[0m\u001b[0;34m]\u001b[0m \u001b[0;34m=\u001b[0m \u001b[0mmodels\u001b[0m\u001b[0;34m\u001b[0m\u001b[0;34m\u001b[0m\u001b[0m\n\u001b[1;32m     69\u001b[0m       \u001b[0mkwargs\u001b[0m\u001b[0;34m[\u001b[0m\u001b[0;34m'utils'\u001b[0m\u001b[0;34m]\u001b[0m \u001b[0;34m=\u001b[0m \u001b[0mutils\u001b[0m\u001b[0;34m\u001b[0m\u001b[0;34m\u001b[0m\u001b[0m\n\u001b[0;32m---> 70\u001b[0;31m     \u001b[0;32mreturn\u001b[0m \u001b[0mbase_fun\u001b[0m\u001b[0;34m(\u001b[0m\u001b[0;34m*\u001b[0m\u001b[0margs\u001b[0m\u001b[0;34m,\u001b[0m \u001b[0;34m**\u001b[0m\u001b[0mkwargs\u001b[0m\u001b[0;34m)\u001b[0m\u001b[0;34m\u001b[0m\u001b[0;34m\u001b[0m\u001b[0m\n\u001b[0m\u001b[1;32m     71\u001b[0m   \u001b[0;32mreturn\u001b[0m \u001b[0mwrapper\u001b[0m\u001b[0;34m\u001b[0m\u001b[0;34m\u001b[0m\u001b[0m\n\u001b[1;32m     72\u001b[0m \u001b[0;34m\u001b[0m\u001b[0m\n",
      "\u001b[0;32m/anaconda3/lib/python3.7/site-packages/tensorflow/python/keras/applications/resnet50.py\u001b[0m in \u001b[0;36mResNet50\u001b[0;34m(*args, **kwargs)\u001b[0m\n\u001b[1;32m     30\u001b[0m \u001b[0;34m@\u001b[0m\u001b[0mkeras_modules_injection\u001b[0m\u001b[0;34m\u001b[0m\u001b[0;34m\u001b[0m\u001b[0m\n\u001b[1;32m     31\u001b[0m \u001b[0;32mdef\u001b[0m \u001b[0mResNet50\u001b[0m\u001b[0;34m(\u001b[0m\u001b[0;34m*\u001b[0m\u001b[0margs\u001b[0m\u001b[0;34m,\u001b[0m \u001b[0;34m**\u001b[0m\u001b[0mkwargs\u001b[0m\u001b[0;34m)\u001b[0m\u001b[0;34m:\u001b[0m\u001b[0;34m\u001b[0m\u001b[0;34m\u001b[0m\u001b[0m\n\u001b[0;32m---> 32\u001b[0;31m   \u001b[0;32mreturn\u001b[0m \u001b[0mresnet50\u001b[0m\u001b[0;34m.\u001b[0m\u001b[0mResNet50\u001b[0m\u001b[0;34m(\u001b[0m\u001b[0;34m*\u001b[0m\u001b[0margs\u001b[0m\u001b[0;34m,\u001b[0m \u001b[0;34m**\u001b[0m\u001b[0mkwargs\u001b[0m\u001b[0;34m)\u001b[0m\u001b[0;34m\u001b[0m\u001b[0;34m\u001b[0m\u001b[0m\n\u001b[0m\u001b[1;32m     33\u001b[0m \u001b[0;34m\u001b[0m\u001b[0m\n\u001b[1;32m     34\u001b[0m \u001b[0;34m\u001b[0m\u001b[0m\n",
      "\u001b[0;32m/anaconda3/lib/python3.7/site-packages/keras_applications/resnet50.py\u001b[0m in \u001b[0;36mResNet50\u001b[0;34m(include_top, weights, input_tensor, input_shape, pooling, classes, **kwargs)\u001b[0m\n\u001b[1;32m    235\u001b[0m \u001b[0;34m\u001b[0m\u001b[0m\n\u001b[1;32m    236\u001b[0m     \u001b[0mx\u001b[0m \u001b[0;34m=\u001b[0m \u001b[0mconv_block\u001b[0m\u001b[0;34m(\u001b[0m\u001b[0mx\u001b[0m\u001b[0;34m,\u001b[0m \u001b[0;36m3\u001b[0m\u001b[0;34m,\u001b[0m \u001b[0;34m[\u001b[0m\u001b[0;36m64\u001b[0m\u001b[0;34m,\u001b[0m \u001b[0;36m64\u001b[0m\u001b[0;34m,\u001b[0m \u001b[0;36m256\u001b[0m\u001b[0;34m]\u001b[0m\u001b[0;34m,\u001b[0m \u001b[0mstage\u001b[0m\u001b[0;34m=\u001b[0m\u001b[0;36m2\u001b[0m\u001b[0;34m,\u001b[0m \u001b[0mblock\u001b[0m\u001b[0;34m=\u001b[0m\u001b[0;34m'a'\u001b[0m\u001b[0;34m,\u001b[0m \u001b[0mstrides\u001b[0m\u001b[0;34m=\u001b[0m\u001b[0;34m(\u001b[0m\u001b[0;36m1\u001b[0m\u001b[0;34m,\u001b[0m \u001b[0;36m1\u001b[0m\u001b[0;34m)\u001b[0m\u001b[0;34m)\u001b[0m\u001b[0;34m\u001b[0m\u001b[0;34m\u001b[0m\u001b[0m\n\u001b[0;32m--> 237\u001b[0;31m     \u001b[0mx\u001b[0m \u001b[0;34m=\u001b[0m \u001b[0midentity_block\u001b[0m\u001b[0;34m(\u001b[0m\u001b[0mx\u001b[0m\u001b[0;34m,\u001b[0m \u001b[0;36m3\u001b[0m\u001b[0;34m,\u001b[0m \u001b[0;34m[\u001b[0m\u001b[0;36m64\u001b[0m\u001b[0;34m,\u001b[0m \u001b[0;36m64\u001b[0m\u001b[0;34m,\u001b[0m \u001b[0;36m256\u001b[0m\u001b[0;34m]\u001b[0m\u001b[0;34m,\u001b[0m \u001b[0mstage\u001b[0m\u001b[0;34m=\u001b[0m\u001b[0;36m2\u001b[0m\u001b[0;34m,\u001b[0m \u001b[0mblock\u001b[0m\u001b[0;34m=\u001b[0m\u001b[0;34m'b'\u001b[0m\u001b[0;34m)\u001b[0m\u001b[0;34m\u001b[0m\u001b[0;34m\u001b[0m\u001b[0m\n\u001b[0m\u001b[1;32m    238\u001b[0m     \u001b[0mx\u001b[0m \u001b[0;34m=\u001b[0m \u001b[0midentity_block\u001b[0m\u001b[0;34m(\u001b[0m\u001b[0mx\u001b[0m\u001b[0;34m,\u001b[0m \u001b[0;36m3\u001b[0m\u001b[0;34m,\u001b[0m \u001b[0;34m[\u001b[0m\u001b[0;36m64\u001b[0m\u001b[0;34m,\u001b[0m \u001b[0;36m64\u001b[0m\u001b[0;34m,\u001b[0m \u001b[0;36m256\u001b[0m\u001b[0;34m]\u001b[0m\u001b[0;34m,\u001b[0m \u001b[0mstage\u001b[0m\u001b[0;34m=\u001b[0m\u001b[0;36m2\u001b[0m\u001b[0;34m,\u001b[0m \u001b[0mblock\u001b[0m\u001b[0;34m=\u001b[0m\u001b[0;34m'c'\u001b[0m\u001b[0;34m)\u001b[0m\u001b[0;34m\u001b[0m\u001b[0;34m\u001b[0m\u001b[0m\n\u001b[1;32m    239\u001b[0m \u001b[0;34m\u001b[0m\u001b[0m\n",
      "\u001b[0;32m/anaconda3/lib/python3.7/site-packages/keras_applications/resnet50.py\u001b[0m in \u001b[0;36midentity_block\u001b[0;34m(input_tensor, kernel_size, filters, stage, block)\u001b[0m\n\u001b[1;32m     73\u001b[0m                       \u001b[0mkernel_initializer\u001b[0m\u001b[0;34m=\u001b[0m\u001b[0;34m'he_normal'\u001b[0m\u001b[0;34m,\u001b[0m\u001b[0;34m\u001b[0m\u001b[0;34m\u001b[0m\u001b[0m\n\u001b[1;32m     74\u001b[0m                       name=conv_name_base + '2c')(x)\n\u001b[0;32m---> 75\u001b[0;31m     \u001b[0mx\u001b[0m \u001b[0;34m=\u001b[0m \u001b[0mlayers\u001b[0m\u001b[0;34m.\u001b[0m\u001b[0mBatchNormalization\u001b[0m\u001b[0;34m(\u001b[0m\u001b[0maxis\u001b[0m\u001b[0;34m=\u001b[0m\u001b[0mbn_axis\u001b[0m\u001b[0;34m,\u001b[0m \u001b[0mname\u001b[0m\u001b[0;34m=\u001b[0m\u001b[0mbn_name_base\u001b[0m \u001b[0;34m+\u001b[0m \u001b[0;34m'2c'\u001b[0m\u001b[0;34m)\u001b[0m\u001b[0;34m(\u001b[0m\u001b[0mx\u001b[0m\u001b[0;34m)\u001b[0m\u001b[0;34m\u001b[0m\u001b[0;34m\u001b[0m\u001b[0m\n\u001b[0m\u001b[1;32m     76\u001b[0m \u001b[0;34m\u001b[0m\u001b[0m\n\u001b[1;32m     77\u001b[0m     \u001b[0mx\u001b[0m \u001b[0;34m=\u001b[0m \u001b[0mlayers\u001b[0m\u001b[0;34m.\u001b[0m\u001b[0madd\u001b[0m\u001b[0;34m(\u001b[0m\u001b[0;34m[\u001b[0m\u001b[0mx\u001b[0m\u001b[0;34m,\u001b[0m \u001b[0minput_tensor\u001b[0m\u001b[0;34m]\u001b[0m\u001b[0;34m)\u001b[0m\u001b[0;34m\u001b[0m\u001b[0;34m\u001b[0m\u001b[0m\n",
      "\u001b[0;32m/anaconda3/lib/python3.7/site-packages/tensorflow/python/keras/engine/base_layer.py\u001b[0m in \u001b[0;36m__call__\u001b[0;34m(self, inputs, *args, **kwargs)\u001b[0m\n\u001b[1;32m    552\u001b[0m             \u001b[0;31m# In graph mode, failure to build the layer's graph\u001b[0m\u001b[0;34m\u001b[0m\u001b[0;34m\u001b[0m\u001b[0;34m\u001b[0m\u001b[0m\n\u001b[1;32m    553\u001b[0m             \u001b[0;31m# implies a user-side bug. We don't catch exceptions.\u001b[0m\u001b[0;34m\u001b[0m\u001b[0;34m\u001b[0m\u001b[0;34m\u001b[0m\u001b[0m\n\u001b[0;32m--> 554\u001b[0;31m             \u001b[0moutputs\u001b[0m \u001b[0;34m=\u001b[0m \u001b[0mself\u001b[0m\u001b[0;34m.\u001b[0m\u001b[0mcall\u001b[0m\u001b[0;34m(\u001b[0m\u001b[0minputs\u001b[0m\u001b[0;34m,\u001b[0m \u001b[0;34m*\u001b[0m\u001b[0margs\u001b[0m\u001b[0;34m,\u001b[0m \u001b[0;34m**\u001b[0m\u001b[0mkwargs\u001b[0m\u001b[0;34m)\u001b[0m\u001b[0;34m\u001b[0m\u001b[0;34m\u001b[0m\u001b[0m\n\u001b[0m\u001b[1;32m    555\u001b[0m           \u001b[0;32melse\u001b[0m\u001b[0;34m:\u001b[0m\u001b[0;34m\u001b[0m\u001b[0;34m\u001b[0m\u001b[0m\n\u001b[1;32m    556\u001b[0m             \u001b[0;32mtry\u001b[0m\u001b[0;34m:\u001b[0m\u001b[0;34m\u001b[0m\u001b[0;34m\u001b[0m\u001b[0m\n",
      "\u001b[0;32m/anaconda3/lib/python3.7/site-packages/tensorflow/python/keras/layers/normalization.py\u001b[0m in \u001b[0;36mcall\u001b[0;34m(self, inputs, training)\u001b[0m\n\u001b[1;32m    570\u001b[0m \u001b[0;34m\u001b[0m\u001b[0m\n\u001b[1;32m    571\u001b[0m     \u001b[0;32mif\u001b[0m \u001b[0mself\u001b[0m\u001b[0;34m.\u001b[0m\u001b[0mfused\u001b[0m\u001b[0;34m:\u001b[0m\u001b[0;34m\u001b[0m\u001b[0;34m\u001b[0m\u001b[0m\n\u001b[0;32m--> 572\u001b[0;31m       \u001b[0moutputs\u001b[0m \u001b[0;34m=\u001b[0m \u001b[0mself\u001b[0m\u001b[0;34m.\u001b[0m\u001b[0m_fused_batch_norm\u001b[0m\u001b[0;34m(\u001b[0m\u001b[0minputs\u001b[0m\u001b[0;34m,\u001b[0m \u001b[0mtraining\u001b[0m\u001b[0;34m=\u001b[0m\u001b[0mtraining\u001b[0m\u001b[0;34m)\u001b[0m\u001b[0;34m\u001b[0m\u001b[0;34m\u001b[0m\u001b[0m\n\u001b[0m\u001b[1;32m    573\u001b[0m       \u001b[0;32mif\u001b[0m \u001b[0mself\u001b[0m\u001b[0;34m.\u001b[0m\u001b[0mvirtual_batch_size\u001b[0m \u001b[0;32mis\u001b[0m \u001b[0;32mnot\u001b[0m \u001b[0;32mNone\u001b[0m\u001b[0;34m:\u001b[0m\u001b[0;34m\u001b[0m\u001b[0;34m\u001b[0m\u001b[0m\n\u001b[1;32m    574\u001b[0m         \u001b[0;31m# Currently never reaches here since fused_batch_norm does not support\u001b[0m\u001b[0;34m\u001b[0m\u001b[0;34m\u001b[0m\u001b[0;34m\u001b[0m\u001b[0m\n",
      "\u001b[0;32m/anaconda3/lib/python3.7/site-packages/tensorflow/python/keras/layers/normalization.py\u001b[0m in \u001b[0;36m_fused_batch_norm\u001b[0;34m(self, inputs, training)\u001b[0m\n\u001b[1;32m    455\u001b[0m \u001b[0;34m\u001b[0m\u001b[0m\n\u001b[1;32m    456\u001b[0m     output, mean, variance = tf_utils.smart_cond(\n\u001b[0;32m--> 457\u001b[0;31m         training, _fused_batch_norm_training, _fused_batch_norm_inference)\n\u001b[0m\u001b[1;32m    458\u001b[0m     \u001b[0;32mif\u001b[0m \u001b[0;32mnot\u001b[0m \u001b[0mself\u001b[0m\u001b[0;34m.\u001b[0m\u001b[0m_bessels_correction_test_only\u001b[0m\u001b[0;34m:\u001b[0m\u001b[0;34m\u001b[0m\u001b[0;34m\u001b[0m\u001b[0m\n\u001b[1;32m    459\u001b[0m       \u001b[0;31m# Remove Bessel's correction to be consistent with non-fused batch norm.\u001b[0m\u001b[0;34m\u001b[0m\u001b[0;34m\u001b[0m\u001b[0;34m\u001b[0m\u001b[0m\n",
      "\u001b[0;32m/anaconda3/lib/python3.7/site-packages/tensorflow/python/keras/utils/tf_utils.py\u001b[0m in \u001b[0;36msmart_cond\u001b[0;34m(pred, true_fn, false_fn, name)\u001b[0m\n\u001b[1;32m     52\u001b[0m         pred, true_fn=true_fn, false_fn=false_fn, name=name)\n\u001b[1;32m     53\u001b[0m   return smart_module.smart_cond(\n\u001b[0;32m---> 54\u001b[0;31m       pred, true_fn=true_fn, false_fn=false_fn, name=name)\n\u001b[0m\u001b[1;32m     55\u001b[0m \u001b[0;34m\u001b[0m\u001b[0m\n\u001b[1;32m     56\u001b[0m \u001b[0;34m\u001b[0m\u001b[0m\n",
      "\u001b[0;32m/anaconda3/lib/python3.7/site-packages/tensorflow/python/framework/smart_cond.py\u001b[0m in \u001b[0;36msmart_cond\u001b[0;34m(pred, true_fn, false_fn, name)\u001b[0m\n\u001b[1;32m     57\u001b[0m   \u001b[0;32melse\u001b[0m\u001b[0;34m:\u001b[0m\u001b[0;34m\u001b[0m\u001b[0;34m\u001b[0m\u001b[0m\n\u001b[1;32m     58\u001b[0m     return control_flow_ops.cond(pred, true_fn=true_fn, false_fn=false_fn,\n\u001b[0;32m---> 59\u001b[0;31m                                  name=name)\n\u001b[0m\u001b[1;32m     60\u001b[0m \u001b[0;34m\u001b[0m\u001b[0m\n\u001b[1;32m     61\u001b[0m \u001b[0;34m\u001b[0m\u001b[0m\n",
      "\u001b[0;32m/anaconda3/lib/python3.7/site-packages/tensorflow/python/util/deprecation.py\u001b[0m in \u001b[0;36mnew_func\u001b[0;34m(*args, **kwargs)\u001b[0m\n\u001b[1;32m    505\u001b[0m                 \u001b[0;34m'in a future version'\u001b[0m \u001b[0;32mif\u001b[0m \u001b[0mdate\u001b[0m \u001b[0;32mis\u001b[0m \u001b[0;32mNone\u001b[0m \u001b[0;32melse\u001b[0m \u001b[0;34m(\u001b[0m\u001b[0;34m'after %s'\u001b[0m \u001b[0;34m%\u001b[0m \u001b[0mdate\u001b[0m\u001b[0;34m)\u001b[0m\u001b[0;34m,\u001b[0m\u001b[0;34m\u001b[0m\u001b[0;34m\u001b[0m\u001b[0m\n\u001b[1;32m    506\u001b[0m                 instructions)\n\u001b[0;32m--> 507\u001b[0;31m       \u001b[0;32mreturn\u001b[0m \u001b[0mfunc\u001b[0m\u001b[0;34m(\u001b[0m\u001b[0;34m*\u001b[0m\u001b[0margs\u001b[0m\u001b[0;34m,\u001b[0m \u001b[0;34m**\u001b[0m\u001b[0mkwargs\u001b[0m\u001b[0;34m)\u001b[0m\u001b[0;34m\u001b[0m\u001b[0;34m\u001b[0m\u001b[0m\n\u001b[0m\u001b[1;32m    508\u001b[0m \u001b[0;34m\u001b[0m\u001b[0m\n\u001b[1;32m    509\u001b[0m     doc = _add_deprecated_arg_notice_to_docstring(\n",
      "\u001b[0;32m/anaconda3/lib/python3.7/site-packages/tensorflow/python/ops/control_flow_ops.py\u001b[0m in \u001b[0;36mcond\u001b[0;34m(pred, true_fn, false_fn, strict, name, fn1, fn2)\u001b[0m\n\u001b[1;32m   2106\u001b[0m     \u001b[0;32mtry\u001b[0m\u001b[0;34m:\u001b[0m\u001b[0;34m\u001b[0m\u001b[0;34m\u001b[0m\u001b[0m\n\u001b[1;32m   2107\u001b[0m       \u001b[0mcontext_f\u001b[0m\u001b[0;34m.\u001b[0m\u001b[0mEnter\u001b[0m\u001b[0;34m(\u001b[0m\u001b[0;34m)\u001b[0m\u001b[0;34m\u001b[0m\u001b[0;34m\u001b[0m\u001b[0m\n\u001b[0;32m-> 2108\u001b[0;31m       \u001b[0morig_res_f\u001b[0m\u001b[0;34m,\u001b[0m \u001b[0mres_f\u001b[0m \u001b[0;34m=\u001b[0m \u001b[0mcontext_f\u001b[0m\u001b[0;34m.\u001b[0m\u001b[0mBuildCondBranch\u001b[0m\u001b[0;34m(\u001b[0m\u001b[0mfalse_fn\u001b[0m\u001b[0;34m)\u001b[0m\u001b[0;34m\u001b[0m\u001b[0;34m\u001b[0m\u001b[0m\n\u001b[0m\u001b[1;32m   2109\u001b[0m       \u001b[0;32mif\u001b[0m \u001b[0morig_res_f\u001b[0m \u001b[0;32mis\u001b[0m \u001b[0;32mNone\u001b[0m\u001b[0;34m:\u001b[0m\u001b[0;34m\u001b[0m\u001b[0;34m\u001b[0m\u001b[0m\n\u001b[1;32m   2110\u001b[0m         \u001b[0;32mraise\u001b[0m \u001b[0mValueError\u001b[0m\u001b[0;34m(\u001b[0m\u001b[0;34m\"false_fn must have a return value.\"\u001b[0m\u001b[0;34m)\u001b[0m\u001b[0;34m\u001b[0m\u001b[0;34m\u001b[0m\u001b[0m\n",
      "\u001b[0;32m/anaconda3/lib/python3.7/site-packages/tensorflow/python/ops/control_flow_ops.py\u001b[0m in \u001b[0;36mBuildCondBranch\u001b[0;34m(self, fn)\u001b[0m\n\u001b[1;32m   1939\u001b[0m     \u001b[0;34m\"\"\"Add the subgraph defined by fn() to the graph.\"\"\"\u001b[0m\u001b[0;34m\u001b[0m\u001b[0;34m\u001b[0m\u001b[0m\n\u001b[1;32m   1940\u001b[0m     \u001b[0mpre_summaries\u001b[0m \u001b[0;34m=\u001b[0m \u001b[0mops\u001b[0m\u001b[0;34m.\u001b[0m\u001b[0mget_collection\u001b[0m\u001b[0;34m(\u001b[0m\u001b[0mops\u001b[0m\u001b[0;34m.\u001b[0m\u001b[0mGraphKeys\u001b[0m\u001b[0;34m.\u001b[0m\u001b[0m_SUMMARY_COLLECTION\u001b[0m\u001b[0;34m)\u001b[0m  \u001b[0;31m# pylint: disable=protected-access\u001b[0m\u001b[0;34m\u001b[0m\u001b[0;34m\u001b[0m\u001b[0m\n\u001b[0;32m-> 1941\u001b[0;31m     \u001b[0moriginal_result\u001b[0m \u001b[0;34m=\u001b[0m \u001b[0mfn\u001b[0m\u001b[0;34m(\u001b[0m\u001b[0;34m)\u001b[0m\u001b[0;34m\u001b[0m\u001b[0;34m\u001b[0m\u001b[0m\n\u001b[0m\u001b[1;32m   1942\u001b[0m     \u001b[0mpost_summaries\u001b[0m \u001b[0;34m=\u001b[0m \u001b[0mops\u001b[0m\u001b[0;34m.\u001b[0m\u001b[0mget_collection\u001b[0m\u001b[0;34m(\u001b[0m\u001b[0mops\u001b[0m\u001b[0;34m.\u001b[0m\u001b[0mGraphKeys\u001b[0m\u001b[0;34m.\u001b[0m\u001b[0m_SUMMARY_COLLECTION\u001b[0m\u001b[0;34m)\u001b[0m  \u001b[0;31m# pylint: disable=protected-access\u001b[0m\u001b[0;34m\u001b[0m\u001b[0;34m\u001b[0m\u001b[0m\n\u001b[1;32m   1943\u001b[0m     \u001b[0;32mif\u001b[0m \u001b[0mlen\u001b[0m\u001b[0;34m(\u001b[0m\u001b[0mpost_summaries\u001b[0m\u001b[0;34m)\u001b[0m \u001b[0;34m>\u001b[0m \u001b[0mlen\u001b[0m\u001b[0;34m(\u001b[0m\u001b[0mpre_summaries\u001b[0m\u001b[0;34m)\u001b[0m\u001b[0;34m:\u001b[0m\u001b[0;34m\u001b[0m\u001b[0;34m\u001b[0m\u001b[0m\n",
      "\u001b[0;32m/anaconda3/lib/python3.7/site-packages/tensorflow/python/keras/layers/normalization.py\u001b[0m in \u001b[0;36m_fused_batch_norm_inference\u001b[0;34m()\u001b[0m\n\u001b[1;32m    452\u001b[0m           \u001b[0mepsilon\u001b[0m\u001b[0;34m=\u001b[0m\u001b[0mself\u001b[0m\u001b[0;34m.\u001b[0m\u001b[0mepsilon\u001b[0m\u001b[0;34m,\u001b[0m\u001b[0;34m\u001b[0m\u001b[0;34m\u001b[0m\u001b[0m\n\u001b[1;32m    453\u001b[0m           \u001b[0mis_training\u001b[0m\u001b[0;34m=\u001b[0m\u001b[0;32mFalse\u001b[0m\u001b[0;34m,\u001b[0m\u001b[0;34m\u001b[0m\u001b[0;34m\u001b[0m\u001b[0m\n\u001b[0;32m--> 454\u001b[0;31m           data_format=self._data_format)\n\u001b[0m\u001b[1;32m    455\u001b[0m \u001b[0;34m\u001b[0m\u001b[0m\n\u001b[1;32m    456\u001b[0m     output, mean, variance = tf_utils.smart_cond(\n",
      "\u001b[0;32m/anaconda3/lib/python3.7/site-packages/tensorflow/python/ops/nn_impl.py\u001b[0m in \u001b[0;36mfused_batch_norm\u001b[0;34m(x, scale, offset, mean, variance, epsilon, data_format, is_training, name)\u001b[0m\n\u001b[1;32m   1150\u001b[0m   \"\"\"\n\u001b[1;32m   1151\u001b[0m   \u001b[0mx\u001b[0m \u001b[0;34m=\u001b[0m \u001b[0mops\u001b[0m\u001b[0;34m.\u001b[0m\u001b[0mconvert_to_tensor\u001b[0m\u001b[0;34m(\u001b[0m\u001b[0mx\u001b[0m\u001b[0;34m,\u001b[0m \u001b[0mname\u001b[0m\u001b[0;34m=\u001b[0m\u001b[0;34m\"input\"\u001b[0m\u001b[0;34m)\u001b[0m\u001b[0;34m\u001b[0m\u001b[0;34m\u001b[0m\u001b[0m\n\u001b[0;32m-> 1152\u001b[0;31m   \u001b[0mscale\u001b[0m \u001b[0;34m=\u001b[0m \u001b[0mops\u001b[0m\u001b[0;34m.\u001b[0m\u001b[0mconvert_to_tensor\u001b[0m\u001b[0;34m(\u001b[0m\u001b[0mscale\u001b[0m\u001b[0;34m,\u001b[0m \u001b[0mname\u001b[0m\u001b[0;34m=\u001b[0m\u001b[0;34m\"scale\"\u001b[0m\u001b[0;34m)\u001b[0m\u001b[0;34m\u001b[0m\u001b[0;34m\u001b[0m\u001b[0m\n\u001b[0m\u001b[1;32m   1153\u001b[0m   \u001b[0moffset\u001b[0m \u001b[0;34m=\u001b[0m \u001b[0mops\u001b[0m\u001b[0;34m.\u001b[0m\u001b[0mconvert_to_tensor\u001b[0m\u001b[0;34m(\u001b[0m\u001b[0moffset\u001b[0m\u001b[0;34m,\u001b[0m \u001b[0mname\u001b[0m\u001b[0;34m=\u001b[0m\u001b[0;34m\"offset\"\u001b[0m\u001b[0;34m)\u001b[0m\u001b[0;34m\u001b[0m\u001b[0;34m\u001b[0m\u001b[0m\n\u001b[1;32m   1154\u001b[0m   \u001b[0;32mif\u001b[0m \u001b[0mis_training\u001b[0m\u001b[0;34m:\u001b[0m\u001b[0;34m\u001b[0m\u001b[0;34m\u001b[0m\u001b[0m\n",
      "\u001b[0;32m/anaconda3/lib/python3.7/site-packages/tensorflow/python/framework/ops.py\u001b[0m in \u001b[0;36mconvert_to_tensor\u001b[0;34m(value, dtype, name, preferred_dtype)\u001b[0m\n\u001b[1;32m   1037\u001b[0m     \u001b[0mValueError\u001b[0m\u001b[0;34m:\u001b[0m \u001b[0mIf\u001b[0m \u001b[0mthe\u001b[0m\u001b[0;31m \u001b[0m\u001b[0;31m`\u001b[0m\u001b[0mvalue\u001b[0m\u001b[0;31m`\u001b[0m \u001b[0;32mis\u001b[0m \u001b[0ma\u001b[0m \u001b[0mtensor\u001b[0m \u001b[0;32mnot\u001b[0m \u001b[0mof\u001b[0m \u001b[0mgiven\u001b[0m\u001b[0;31m \u001b[0m\u001b[0;31m`\u001b[0m\u001b[0mdtype\u001b[0m\u001b[0;31m`\u001b[0m \u001b[0;32min\u001b[0m \u001b[0mgraph\u001b[0m \u001b[0mmode\u001b[0m\u001b[0;34m.\u001b[0m\u001b[0;34m\u001b[0m\u001b[0;34m\u001b[0m\u001b[0m\n\u001b[1;32m   1038\u001b[0m   \"\"\"\n\u001b[0;32m-> 1039\u001b[0;31m   \u001b[0;32mreturn\u001b[0m \u001b[0mconvert_to_tensor_v2\u001b[0m\u001b[0;34m(\u001b[0m\u001b[0mvalue\u001b[0m\u001b[0;34m,\u001b[0m \u001b[0mdtype\u001b[0m\u001b[0;34m,\u001b[0m \u001b[0mpreferred_dtype\u001b[0m\u001b[0;34m,\u001b[0m \u001b[0mname\u001b[0m\u001b[0;34m)\u001b[0m\u001b[0;34m\u001b[0m\u001b[0;34m\u001b[0m\u001b[0m\n\u001b[0m\u001b[1;32m   1040\u001b[0m \u001b[0;34m\u001b[0m\u001b[0m\n\u001b[1;32m   1041\u001b[0m \u001b[0;34m\u001b[0m\u001b[0m\n",
      "\u001b[0;32m/anaconda3/lib/python3.7/site-packages/tensorflow/python/framework/ops.py\u001b[0m in \u001b[0;36mconvert_to_tensor_v2\u001b[0;34m(value, dtype, dtype_hint, name)\u001b[0m\n\u001b[1;32m   1095\u001b[0m       \u001b[0mname\u001b[0m\u001b[0;34m=\u001b[0m\u001b[0mname\u001b[0m\u001b[0;34m,\u001b[0m\u001b[0;34m\u001b[0m\u001b[0;34m\u001b[0m\u001b[0m\n\u001b[1;32m   1096\u001b[0m       \u001b[0mpreferred_dtype\u001b[0m\u001b[0;34m=\u001b[0m\u001b[0mdtype_hint\u001b[0m\u001b[0;34m,\u001b[0m\u001b[0;34m\u001b[0m\u001b[0;34m\u001b[0m\u001b[0m\n\u001b[0;32m-> 1097\u001b[0;31m       as_ref=False)\n\u001b[0m\u001b[1;32m   1098\u001b[0m \u001b[0;34m\u001b[0m\u001b[0m\n\u001b[1;32m   1099\u001b[0m \u001b[0;34m\u001b[0m\u001b[0m\n",
      "\u001b[0;32m/anaconda3/lib/python3.7/site-packages/tensorflow/python/framework/ops.py\u001b[0m in \u001b[0;36minternal_convert_to_tensor\u001b[0;34m(value, dtype, name, as_ref, preferred_dtype, ctx, accept_symbolic_tensors)\u001b[0m\n\u001b[1;32m   1173\u001b[0m \u001b[0;34m\u001b[0m\u001b[0m\n\u001b[1;32m   1174\u001b[0m     \u001b[0;32mif\u001b[0m \u001b[0mret\u001b[0m \u001b[0;32mis\u001b[0m \u001b[0;32mNone\u001b[0m\u001b[0;34m:\u001b[0m\u001b[0;34m\u001b[0m\u001b[0;34m\u001b[0m\u001b[0m\n\u001b[0;32m-> 1175\u001b[0;31m       \u001b[0mret\u001b[0m \u001b[0;34m=\u001b[0m \u001b[0mconversion_func\u001b[0m\u001b[0;34m(\u001b[0m\u001b[0mvalue\u001b[0m\u001b[0;34m,\u001b[0m \u001b[0mdtype\u001b[0m\u001b[0;34m=\u001b[0m\u001b[0mdtype\u001b[0m\u001b[0;34m,\u001b[0m \u001b[0mname\u001b[0m\u001b[0;34m=\u001b[0m\u001b[0mname\u001b[0m\u001b[0;34m,\u001b[0m \u001b[0mas_ref\u001b[0m\u001b[0;34m=\u001b[0m\u001b[0mas_ref\u001b[0m\u001b[0;34m)\u001b[0m\u001b[0;34m\u001b[0m\u001b[0;34m\u001b[0m\u001b[0m\n\u001b[0m\u001b[1;32m   1176\u001b[0m \u001b[0;34m\u001b[0m\u001b[0m\n\u001b[1;32m   1177\u001b[0m     \u001b[0;32mif\u001b[0m \u001b[0mret\u001b[0m \u001b[0;32mis\u001b[0m \u001b[0mNotImplemented\u001b[0m\u001b[0;34m:\u001b[0m\u001b[0;34m\u001b[0m\u001b[0;34m\u001b[0m\u001b[0m\n",
      "\u001b[0;32m/anaconda3/lib/python3.7/site-packages/tensorflow/python/ops/resource_variable_ops.py\u001b[0m in \u001b[0;36m_dense_var_to_tensor\u001b[0;34m(var, dtype, name, as_ref)\u001b[0m\n\u001b[1;32m   1220\u001b[0m \u001b[0;34m\u001b[0m\u001b[0m\n\u001b[1;32m   1221\u001b[0m \u001b[0;32mdef\u001b[0m \u001b[0m_dense_var_to_tensor\u001b[0m\u001b[0;34m(\u001b[0m\u001b[0mvar\u001b[0m\u001b[0;34m,\u001b[0m \u001b[0mdtype\u001b[0m\u001b[0;34m=\u001b[0m\u001b[0;32mNone\u001b[0m\u001b[0;34m,\u001b[0m \u001b[0mname\u001b[0m\u001b[0;34m=\u001b[0m\u001b[0;32mNone\u001b[0m\u001b[0;34m,\u001b[0m \u001b[0mas_ref\u001b[0m\u001b[0;34m=\u001b[0m\u001b[0;32mFalse\u001b[0m\u001b[0;34m)\u001b[0m\u001b[0;34m:\u001b[0m\u001b[0;34m\u001b[0m\u001b[0;34m\u001b[0m\u001b[0m\n\u001b[0;32m-> 1222\u001b[0;31m   \u001b[0;32mreturn\u001b[0m \u001b[0mvar\u001b[0m\u001b[0;34m.\u001b[0m\u001b[0m_dense_var_to_tensor\u001b[0m\u001b[0;34m(\u001b[0m\u001b[0mdtype\u001b[0m\u001b[0;34m=\u001b[0m\u001b[0mdtype\u001b[0m\u001b[0;34m,\u001b[0m \u001b[0mname\u001b[0m\u001b[0;34m=\u001b[0m\u001b[0mname\u001b[0m\u001b[0;34m,\u001b[0m \u001b[0mas_ref\u001b[0m\u001b[0;34m=\u001b[0m\u001b[0mas_ref\u001b[0m\u001b[0;34m)\u001b[0m  \u001b[0;31m# pylint: disable=protected-access\u001b[0m\u001b[0;34m\u001b[0m\u001b[0;34m\u001b[0m\u001b[0m\n\u001b[0m\u001b[1;32m   1223\u001b[0m \u001b[0;34m\u001b[0m\u001b[0m\n\u001b[1;32m   1224\u001b[0m \u001b[0;34m\u001b[0m\u001b[0m\n",
      "\u001b[0;32m/anaconda3/lib/python3.7/site-packages/tensorflow/python/ops/resource_variable_ops.py\u001b[0m in \u001b[0;36m_dense_var_to_tensor\u001b[0;34m(***failed resolving arguments***)\u001b[0m\n\u001b[1;32m   1175\u001b[0m       \u001b[0;32mreturn\u001b[0m \u001b[0mself\u001b[0m\u001b[0;34m.\u001b[0m\u001b[0mread_value\u001b[0m\u001b[0;34m(\u001b[0m\u001b[0;34m)\u001b[0m\u001b[0;34m.\u001b[0m\u001b[0mop\u001b[0m\u001b[0;34m.\u001b[0m\u001b[0minputs\u001b[0m\u001b[0;34m[\u001b[0m\u001b[0;36m0\u001b[0m\u001b[0;34m]\u001b[0m\u001b[0;34m\u001b[0m\u001b[0;34m\u001b[0m\u001b[0m\n\u001b[1;32m   1176\u001b[0m     \u001b[0;32melse\u001b[0m\u001b[0;34m:\u001b[0m\u001b[0;34m\u001b[0m\u001b[0;34m\u001b[0m\u001b[0m\n\u001b[0;32m-> 1177\u001b[0;31m       \u001b[0;32mreturn\u001b[0m \u001b[0mself\u001b[0m\u001b[0;34m.\u001b[0m\u001b[0mvalue\u001b[0m\u001b[0;34m(\u001b[0m\u001b[0;34m)\u001b[0m\u001b[0;34m\u001b[0m\u001b[0;34m\u001b[0m\u001b[0m\n\u001b[0m\u001b[1;32m   1178\u001b[0m \u001b[0;34m\u001b[0m\u001b[0m\n\u001b[1;32m   1179\u001b[0m   \u001b[0;32mdef\u001b[0m \u001b[0m__iadd__\u001b[0m\u001b[0;34m(\u001b[0m\u001b[0mself\u001b[0m\u001b[0;34m,\u001b[0m \u001b[0munused_other\u001b[0m\u001b[0;34m)\u001b[0m\u001b[0;34m:\u001b[0m\u001b[0;34m\u001b[0m\u001b[0;34m\u001b[0m\u001b[0m\n",
      "\u001b[0;32m/anaconda3/lib/python3.7/site-packages/tensorflow/python/ops/resource_variable_ops.py\u001b[0m in \u001b[0;36mvalue\u001b[0;34m(self)\u001b[0m\n\u001b[1;32m    642\u001b[0m     \u001b[0;32mwith\u001b[0m \u001b[0mops\u001b[0m\u001b[0;34m.\u001b[0m\u001b[0mcolocate_with\u001b[0m\u001b[0;34m(\u001b[0m\u001b[0;32mNone\u001b[0m\u001b[0;34m,\u001b[0m \u001b[0mignore_existing\u001b[0m\u001b[0;34m=\u001b[0m\u001b[0;32mTrue\u001b[0m\u001b[0;34m)\u001b[0m\u001b[0;34m:\u001b[0m\u001b[0;34m\u001b[0m\u001b[0;34m\u001b[0m\u001b[0m\n\u001b[1;32m    643\u001b[0m       \u001b[0;32mwith\u001b[0m \u001b[0mops\u001b[0m\u001b[0;34m.\u001b[0m\u001b[0mdevice\u001b[0m\u001b[0;34m(\u001b[0m\u001b[0mself\u001b[0m\u001b[0;34m.\u001b[0m\u001b[0m_handle\u001b[0m\u001b[0;34m.\u001b[0m\u001b[0mdevice\u001b[0m\u001b[0;34m)\u001b[0m\u001b[0;34m:\u001b[0m\u001b[0;34m\u001b[0m\u001b[0;34m\u001b[0m\u001b[0m\n\u001b[0;32m--> 644\u001b[0;31m         \u001b[0;32mreturn\u001b[0m \u001b[0mself\u001b[0m\u001b[0;34m.\u001b[0m\u001b[0m_read_variable_op\u001b[0m\u001b[0;34m(\u001b[0m\u001b[0;34m)\u001b[0m\u001b[0;34m\u001b[0m\u001b[0;34m\u001b[0m\u001b[0m\n\u001b[0m\u001b[1;32m    645\u001b[0m \u001b[0;34m\u001b[0m\u001b[0m\n\u001b[1;32m    646\u001b[0m   \u001b[0;32mdef\u001b[0m \u001b[0m_as_graph_element\u001b[0m\u001b[0;34m(\u001b[0m\u001b[0mself\u001b[0m\u001b[0;34m)\u001b[0m\u001b[0;34m:\u001b[0m\u001b[0;34m\u001b[0m\u001b[0;34m\u001b[0m\u001b[0m\n",
      "\u001b[0;32m/anaconda3/lib/python3.7/site-packages/tensorflow/python/ops/resource_variable_ops.py\u001b[0m in \u001b[0;36m_read_variable_op\u001b[0;34m(self)\u001b[0m\n\u001b[1;32m    726\u001b[0m       \u001b[0mtape\u001b[0m\u001b[0;34m.\u001b[0m\u001b[0mvariable_accessed\u001b[0m\u001b[0;34m(\u001b[0m\u001b[0mself\u001b[0m\u001b[0;34m)\u001b[0m\u001b[0;34m\u001b[0m\u001b[0;34m\u001b[0m\u001b[0m\n\u001b[1;32m    727\u001b[0m     result = gen_resource_variable_ops.read_variable_op(self._handle,\n\u001b[0;32m--> 728\u001b[0;31m                                                         self._dtype)\n\u001b[0m\u001b[1;32m    729\u001b[0m     \u001b[0;32mif\u001b[0m \u001b[0;32mnot\u001b[0m \u001b[0mcontext\u001b[0m\u001b[0;34m.\u001b[0m\u001b[0mexecuting_eagerly\u001b[0m\u001b[0;34m(\u001b[0m\u001b[0;34m)\u001b[0m\u001b[0;34m:\u001b[0m\u001b[0;34m\u001b[0m\u001b[0;34m\u001b[0m\u001b[0m\n\u001b[1;32m    730\u001b[0m       \u001b[0;31m# Note that if a control flow context is active the input of the read op\u001b[0m\u001b[0;34m\u001b[0m\u001b[0;34m\u001b[0m\u001b[0;34m\u001b[0m\u001b[0m\n",
      "\u001b[0;32m/anaconda3/lib/python3.7/site-packages/tensorflow/python/ops/gen_resource_variable_ops.py\u001b[0m in \u001b[0;36mread_variable_op\u001b[0;34m(resource, dtype, name)\u001b[0m\n\u001b[1;32m    548\u001b[0m   \u001b[0mdtype\u001b[0m \u001b[0;34m=\u001b[0m \u001b[0m_execute\u001b[0m\u001b[0;34m.\u001b[0m\u001b[0mmake_type\u001b[0m\u001b[0;34m(\u001b[0m\u001b[0mdtype\u001b[0m\u001b[0;34m,\u001b[0m \u001b[0;34m\"dtype\"\u001b[0m\u001b[0;34m)\u001b[0m\u001b[0;34m\u001b[0m\u001b[0;34m\u001b[0m\u001b[0m\n\u001b[1;32m    549\u001b[0m   _, _, _op = _op_def_lib._apply_op_helper(\n\u001b[0;32m--> 550\u001b[0;31m         \"ReadVariableOp\", resource=resource, dtype=dtype, name=name)\n\u001b[0m\u001b[1;32m    551\u001b[0m   \u001b[0m_result\u001b[0m \u001b[0;34m=\u001b[0m \u001b[0m_op\u001b[0m\u001b[0;34m.\u001b[0m\u001b[0moutputs\u001b[0m\u001b[0;34m[\u001b[0m\u001b[0;34m:\u001b[0m\u001b[0;34m]\u001b[0m\u001b[0;34m\u001b[0m\u001b[0;34m\u001b[0m\u001b[0m\n\u001b[1;32m    552\u001b[0m   \u001b[0m_inputs_flat\u001b[0m \u001b[0;34m=\u001b[0m \u001b[0m_op\u001b[0m\u001b[0;34m.\u001b[0m\u001b[0minputs\u001b[0m\u001b[0;34m\u001b[0m\u001b[0;34m\u001b[0m\u001b[0m\n",
      "\u001b[0;32m/anaconda3/lib/python3.7/site-packages/tensorflow/python/framework/op_def_library.py\u001b[0m in \u001b[0;36m_apply_op_helper\u001b[0;34m(self, op_type_name, name, **keywords)\u001b[0m\n\u001b[1;32m    786\u001b[0m         op = g.create_op(op_type_name, inputs, output_types, name=scope,\n\u001b[1;32m    787\u001b[0m                          \u001b[0minput_types\u001b[0m\u001b[0;34m=\u001b[0m\u001b[0minput_types\u001b[0m\u001b[0;34m,\u001b[0m \u001b[0mattrs\u001b[0m\u001b[0;34m=\u001b[0m\u001b[0mattr_protos\u001b[0m\u001b[0;34m,\u001b[0m\u001b[0;34m\u001b[0m\u001b[0;34m\u001b[0m\u001b[0m\n\u001b[0;32m--> 788\u001b[0;31m                          op_def=op_def)\n\u001b[0m\u001b[1;32m    789\u001b[0m       \u001b[0;32mreturn\u001b[0m \u001b[0moutput_structure\u001b[0m\u001b[0;34m,\u001b[0m \u001b[0mop_def\u001b[0m\u001b[0;34m.\u001b[0m\u001b[0mis_stateful\u001b[0m\u001b[0;34m,\u001b[0m \u001b[0mop\u001b[0m\u001b[0;34m\u001b[0m\u001b[0;34m\u001b[0m\u001b[0m\n\u001b[1;32m    790\u001b[0m \u001b[0;34m\u001b[0m\u001b[0m\n",
      "\u001b[0;32m/anaconda3/lib/python3.7/site-packages/tensorflow/python/util/deprecation.py\u001b[0m in \u001b[0;36mnew_func\u001b[0;34m(*args, **kwargs)\u001b[0m\n\u001b[1;32m    505\u001b[0m                 \u001b[0;34m'in a future version'\u001b[0m \u001b[0;32mif\u001b[0m \u001b[0mdate\u001b[0m \u001b[0;32mis\u001b[0m \u001b[0;32mNone\u001b[0m \u001b[0;32melse\u001b[0m \u001b[0;34m(\u001b[0m\u001b[0;34m'after %s'\u001b[0m \u001b[0;34m%\u001b[0m \u001b[0mdate\u001b[0m\u001b[0;34m)\u001b[0m\u001b[0;34m,\u001b[0m\u001b[0;34m\u001b[0m\u001b[0;34m\u001b[0m\u001b[0m\n\u001b[1;32m    506\u001b[0m                 instructions)\n\u001b[0;32m--> 507\u001b[0;31m       \u001b[0;32mreturn\u001b[0m \u001b[0mfunc\u001b[0m\u001b[0;34m(\u001b[0m\u001b[0;34m*\u001b[0m\u001b[0margs\u001b[0m\u001b[0;34m,\u001b[0m \u001b[0;34m**\u001b[0m\u001b[0mkwargs\u001b[0m\u001b[0;34m)\u001b[0m\u001b[0;34m\u001b[0m\u001b[0;34m\u001b[0m\u001b[0m\n\u001b[0m\u001b[1;32m    508\u001b[0m \u001b[0;34m\u001b[0m\u001b[0m\n\u001b[1;32m    509\u001b[0m     doc = _add_deprecated_arg_notice_to_docstring(\n",
      "\u001b[0;32m/anaconda3/lib/python3.7/site-packages/tensorflow/python/framework/ops.py\u001b[0m in \u001b[0;36mcreate_op\u001b[0;34m(***failed resolving arguments***)\u001b[0m\n\u001b[1;32m   3298\u001b[0m           \u001b[0minput_types\u001b[0m\u001b[0;34m=\u001b[0m\u001b[0minput_types\u001b[0m\u001b[0;34m,\u001b[0m\u001b[0;34m\u001b[0m\u001b[0;34m\u001b[0m\u001b[0m\n\u001b[1;32m   3299\u001b[0m           \u001b[0moriginal_op\u001b[0m\u001b[0;34m=\u001b[0m\u001b[0mself\u001b[0m\u001b[0;34m.\u001b[0m\u001b[0m_default_original_op\u001b[0m\u001b[0;34m,\u001b[0m\u001b[0;34m\u001b[0m\u001b[0;34m\u001b[0m\u001b[0m\n\u001b[0;32m-> 3300\u001b[0;31m           op_def=op_def)\n\u001b[0m\u001b[1;32m   3301\u001b[0m       \u001b[0mself\u001b[0m\u001b[0;34m.\u001b[0m\u001b[0m_create_op_helper\u001b[0m\u001b[0;34m(\u001b[0m\u001b[0mret\u001b[0m\u001b[0;34m,\u001b[0m \u001b[0mcompute_device\u001b[0m\u001b[0;34m=\u001b[0m\u001b[0mcompute_device\u001b[0m\u001b[0;34m)\u001b[0m\u001b[0;34m\u001b[0m\u001b[0;34m\u001b[0m\u001b[0m\n\u001b[1;32m   3302\u001b[0m     \u001b[0;32mreturn\u001b[0m \u001b[0mret\u001b[0m\u001b[0;34m\u001b[0m\u001b[0;34m\u001b[0m\u001b[0m\n",
      "\u001b[0;32m/anaconda3/lib/python3.7/site-packages/tensorflow/python/framework/ops.py\u001b[0m in \u001b[0;36m__init__\u001b[0;34m(self, node_def, g, inputs, output_types, control_inputs, input_types, original_op, op_def)\u001b[0m\n\u001b[1;32m   1836\u001b[0m \u001b[0;34m\u001b[0m\u001b[0m\n\u001b[1;32m   1837\u001b[0m     \u001b[0;32mif\u001b[0m \u001b[0;32mnot\u001b[0m \u001b[0mc_op\u001b[0m\u001b[0;34m:\u001b[0m\u001b[0;34m\u001b[0m\u001b[0;34m\u001b[0m\u001b[0m\n\u001b[0;32m-> 1838\u001b[0;31m       \u001b[0mself\u001b[0m\u001b[0;34m.\u001b[0m\u001b[0m_control_flow_post_processing\u001b[0m\u001b[0;34m(\u001b[0m\u001b[0;34m)\u001b[0m\u001b[0;34m\u001b[0m\u001b[0;34m\u001b[0m\u001b[0m\n\u001b[0m\u001b[1;32m   1839\u001b[0m \u001b[0;34m\u001b[0m\u001b[0m\n\u001b[1;32m   1840\u001b[0m   \u001b[0;32mdef\u001b[0m \u001b[0m_control_flow_post_processing\u001b[0m\u001b[0;34m(\u001b[0m\u001b[0mself\u001b[0m\u001b[0;34m)\u001b[0m\u001b[0;34m:\u001b[0m\u001b[0;34m\u001b[0m\u001b[0;34m\u001b[0m\u001b[0m\n",
      "\u001b[0;32m/anaconda3/lib/python3.7/site-packages/tensorflow/python/framework/ops.py\u001b[0m in \u001b[0;36m_control_flow_post_processing\u001b[0;34m(self)\u001b[0m\n\u001b[1;32m   1847\u001b[0m       \u001b[0mcontrol_flow_util\u001b[0m\u001b[0;34m.\u001b[0m\u001b[0mCheckInputFromValidContext\u001b[0m\u001b[0;34m(\u001b[0m\u001b[0mself\u001b[0m\u001b[0;34m,\u001b[0m \u001b[0minput_tensor\u001b[0m\u001b[0;34m.\u001b[0m\u001b[0mop\u001b[0m\u001b[0;34m)\u001b[0m\u001b[0;34m\u001b[0m\u001b[0;34m\u001b[0m\u001b[0m\n\u001b[1;32m   1848\u001b[0m     \u001b[0;32mif\u001b[0m \u001b[0mself\u001b[0m\u001b[0;34m.\u001b[0m\u001b[0m_control_flow_context\u001b[0m \u001b[0;32mis\u001b[0m \u001b[0;32mnot\u001b[0m \u001b[0;32mNone\u001b[0m\u001b[0;34m:\u001b[0m\u001b[0;34m\u001b[0m\u001b[0;34m\u001b[0m\u001b[0m\n\u001b[0;32m-> 1849\u001b[0;31m       \u001b[0mself\u001b[0m\u001b[0;34m.\u001b[0m\u001b[0m_control_flow_context\u001b[0m\u001b[0;34m.\u001b[0m\u001b[0mAddOp\u001b[0m\u001b[0;34m(\u001b[0m\u001b[0mself\u001b[0m\u001b[0;34m)\u001b[0m\u001b[0;34m\u001b[0m\u001b[0;34m\u001b[0m\u001b[0m\n\u001b[0m\u001b[1;32m   1850\u001b[0m \u001b[0;34m\u001b[0m\u001b[0m\n\u001b[1;32m   1851\u001b[0m   \u001b[0;32mdef\u001b[0m \u001b[0m_reconstruct_sequence_inputs\u001b[0m\u001b[0;34m(\u001b[0m\u001b[0mself\u001b[0m\u001b[0;34m,\u001b[0m \u001b[0mop_def\u001b[0m\u001b[0;34m,\u001b[0m \u001b[0minputs\u001b[0m\u001b[0;34m,\u001b[0m \u001b[0mattrs\u001b[0m\u001b[0;34m)\u001b[0m\u001b[0;34m:\u001b[0m\u001b[0;34m\u001b[0m\u001b[0;34m\u001b[0m\u001b[0m\n",
      "\u001b[0;32m/anaconda3/lib/python3.7/site-packages/tensorflow/python/ops/control_flow_ops.py\u001b[0m in \u001b[0;36mAddOp\u001b[0;34m(self, op)\u001b[0m\n\u001b[1;32m   1840\u001b[0m \u001b[0;34m\u001b[0m\u001b[0m\n\u001b[1;32m   1841\u001b[0m   \u001b[0;32mdef\u001b[0m \u001b[0mAddOp\u001b[0m\u001b[0;34m(\u001b[0m\u001b[0mself\u001b[0m\u001b[0;34m,\u001b[0m \u001b[0mop\u001b[0m\u001b[0;34m)\u001b[0m\u001b[0;34m:\u001b[0m\u001b[0;34m\u001b[0m\u001b[0;34m\u001b[0m\u001b[0m\n\u001b[0;32m-> 1842\u001b[0;31m     \u001b[0mself\u001b[0m\u001b[0;34m.\u001b[0m\u001b[0m_AddOpInternal\u001b[0m\u001b[0;34m(\u001b[0m\u001b[0mop\u001b[0m\u001b[0;34m)\u001b[0m\u001b[0;34m\u001b[0m\u001b[0;34m\u001b[0m\u001b[0m\n\u001b[0m\u001b[1;32m   1843\u001b[0m \u001b[0;34m\u001b[0m\u001b[0m\n\u001b[1;32m   1844\u001b[0m   \u001b[0;32mdef\u001b[0m \u001b[0m_AddOpInternal\u001b[0m\u001b[0;34m(\u001b[0m\u001b[0mself\u001b[0m\u001b[0;34m,\u001b[0m \u001b[0mop\u001b[0m\u001b[0;34m)\u001b[0m\u001b[0;34m:\u001b[0m\u001b[0;34m\u001b[0m\u001b[0;34m\u001b[0m\u001b[0m\n",
      "\u001b[0;32m/anaconda3/lib/python3.7/site-packages/tensorflow/python/ops/control_flow_ops.py\u001b[0m in \u001b[0;36m_AddOpInternal\u001b[0;34m(self, op)\u001b[0m\n\u001b[1;32m   1872\u001b[0m           \u001b[0mreal_x\u001b[0m \u001b[0;34m=\u001b[0m \u001b[0mx\u001b[0m\u001b[0;34m\u001b[0m\u001b[0;34m\u001b[0m\u001b[0m\n\u001b[1;32m   1873\u001b[0m         \u001b[0;32melse\u001b[0m\u001b[0;34m:\u001b[0m\u001b[0;34m\u001b[0m\u001b[0;34m\u001b[0m\u001b[0m\n\u001b[0;32m-> 1874\u001b[0;31m           \u001b[0mreal_x\u001b[0m \u001b[0;34m=\u001b[0m \u001b[0mself\u001b[0m\u001b[0;34m.\u001b[0m\u001b[0mAddValue\u001b[0m\u001b[0;34m(\u001b[0m\u001b[0mx\u001b[0m\u001b[0;34m)\u001b[0m\u001b[0;34m\u001b[0m\u001b[0;34m\u001b[0m\u001b[0m\n\u001b[0m\u001b[1;32m   1875\u001b[0m         \u001b[0;32mif\u001b[0m \u001b[0mreal_x\u001b[0m \u001b[0;34m!=\u001b[0m \u001b[0mx\u001b[0m\u001b[0;34m:\u001b[0m\u001b[0;34m\u001b[0m\u001b[0;34m\u001b[0m\u001b[0m\n\u001b[1;32m   1876\u001b[0m           \u001b[0;31m# pylint: disable=protected-access\u001b[0m\u001b[0;34m\u001b[0m\u001b[0;34m\u001b[0m\u001b[0;34m\u001b[0m\u001b[0m\n",
      "\u001b[0;32m/anaconda3/lib/python3.7/site-packages/tensorflow/python/ops/control_flow_ops.py\u001b[0m in \u001b[0;36mAddValue\u001b[0;34m(self, val)\u001b[0m\n\u001b[1;32m   1818\u001b[0m         \u001b[0mself\u001b[0m\u001b[0;34m.\u001b[0m\u001b[0m_external_values\u001b[0m\u001b[0;34m[\u001b[0m\u001b[0mresult\u001b[0m\u001b[0;34m.\u001b[0m\u001b[0mname\u001b[0m\u001b[0;34m]\u001b[0m \u001b[0;34m=\u001b[0m \u001b[0mresult\u001b[0m\u001b[0;34m\u001b[0m\u001b[0;34m\u001b[0m\u001b[0m\n\u001b[1;32m   1819\u001b[0m       \u001b[0;32mwith\u001b[0m \u001b[0mops\u001b[0m\u001b[0;34m.\u001b[0m\u001b[0mcontrol_dependencies\u001b[0m\u001b[0;34m(\u001b[0m\u001b[0;32mNone\u001b[0m\u001b[0;34m)\u001b[0m\u001b[0;34m:\u001b[0m\u001b[0;34m\u001b[0m\u001b[0;34m\u001b[0m\u001b[0m\n\u001b[0;32m-> 1820\u001b[0;31m         \u001b[0mresult\u001b[0m \u001b[0;34m=\u001b[0m \u001b[0m_SwitchRefOrTensor\u001b[0m\u001b[0;34m(\u001b[0m\u001b[0mresult\u001b[0m\u001b[0;34m,\u001b[0m \u001b[0mself\u001b[0m\u001b[0;34m.\u001b[0m\u001b[0m_pred\u001b[0m\u001b[0;34m)\u001b[0m\u001b[0;34m[\u001b[0m\u001b[0mself\u001b[0m\u001b[0;34m.\u001b[0m\u001b[0m_branch\u001b[0m\u001b[0;34m]\u001b[0m\u001b[0;34m\u001b[0m\u001b[0;34m\u001b[0m\u001b[0m\n\u001b[0m\u001b[1;32m   1821\u001b[0m         \u001b[0;32mif\u001b[0m \u001b[0mself\u001b[0m\u001b[0;34m.\u001b[0m\u001b[0m_outer_context\u001b[0m\u001b[0;34m:\u001b[0m\u001b[0;34m\u001b[0m\u001b[0;34m\u001b[0m\u001b[0m\n\u001b[1;32m   1822\u001b[0m           \u001b[0mself\u001b[0m\u001b[0;34m.\u001b[0m\u001b[0m_outer_context\u001b[0m\u001b[0;34m.\u001b[0m\u001b[0mAddInnerOp\u001b[0m\u001b[0;34m(\u001b[0m\u001b[0mresult\u001b[0m\u001b[0;34m.\u001b[0m\u001b[0mop\u001b[0m\u001b[0;34m)\u001b[0m\u001b[0;34m\u001b[0m\u001b[0;34m\u001b[0m\u001b[0m\n",
      "\u001b[0;32m/anaconda3/lib/python3.7/site-packages/tensorflow/python/ops/control_flow_ops.py\u001b[0m in \u001b[0;36m_SwitchRefOrTensor\u001b[0;34m(data, pred, name)\u001b[0m\n\u001b[1;32m    425\u001b[0m       \u001b[0;32mif\u001b[0m \u001b[0mdata\u001b[0m\u001b[0;34m.\u001b[0m\u001b[0mdtype\u001b[0m\u001b[0;34m.\u001b[0m\u001b[0m_is_ref_dtype\u001b[0m\u001b[0;34m:\u001b[0m  \u001b[0;31m# pylint: disable=protected-access\u001b[0m\u001b[0;34m\u001b[0m\u001b[0;34m\u001b[0m\u001b[0m\n\u001b[1;32m    426\u001b[0m         \u001b[0;32mreturn\u001b[0m \u001b[0mref_switch\u001b[0m\u001b[0;34m(\u001b[0m\u001b[0mdata\u001b[0m\u001b[0;34m,\u001b[0m \u001b[0mpred\u001b[0m\u001b[0;34m,\u001b[0m \u001b[0mname\u001b[0m\u001b[0;34m=\u001b[0m\u001b[0mname\u001b[0m\u001b[0;34m)\u001b[0m\u001b[0;34m\u001b[0m\u001b[0;34m\u001b[0m\u001b[0m\n\u001b[0;32m--> 427\u001b[0;31m     \u001b[0;32mreturn\u001b[0m \u001b[0mswitch\u001b[0m\u001b[0;34m(\u001b[0m\u001b[0mdata\u001b[0m\u001b[0;34m,\u001b[0m \u001b[0mpred\u001b[0m\u001b[0;34m,\u001b[0m \u001b[0mname\u001b[0m\u001b[0;34m=\u001b[0m\u001b[0mname\u001b[0m\u001b[0;34m)\u001b[0m\u001b[0;34m\u001b[0m\u001b[0;34m\u001b[0m\u001b[0m\n\u001b[0m\u001b[1;32m    428\u001b[0m \u001b[0;34m\u001b[0m\u001b[0m\n\u001b[1;32m    429\u001b[0m \u001b[0;34m\u001b[0m\u001b[0m\n",
      "\u001b[0;32m/anaconda3/lib/python3.7/site-packages/tensorflow/python/ops/control_flow_ops.py\u001b[0m in \u001b[0;36mswitch\u001b[0;34m(data, pred, dtype, name)\u001b[0m\n\u001b[1;32m    360\u001b[0m     \u001b[0mpred\u001b[0m \u001b[0;34m=\u001b[0m \u001b[0mops\u001b[0m\u001b[0;34m.\u001b[0m\u001b[0mconvert_to_tensor\u001b[0m\u001b[0;34m(\u001b[0m\u001b[0mpred\u001b[0m\u001b[0;34m,\u001b[0m \u001b[0mname\u001b[0m\u001b[0;34m=\u001b[0m\u001b[0;34m\"pred\"\u001b[0m\u001b[0;34m)\u001b[0m\u001b[0;34m\u001b[0m\u001b[0;34m\u001b[0m\u001b[0m\n\u001b[1;32m    361\u001b[0m     \u001b[0;32mif\u001b[0m \u001b[0misinstance\u001b[0m\u001b[0;34m(\u001b[0m\u001b[0mdata\u001b[0m\u001b[0;34m,\u001b[0m \u001b[0mops\u001b[0m\u001b[0;34m.\u001b[0m\u001b[0mTensor\u001b[0m\u001b[0;34m)\u001b[0m\u001b[0;34m:\u001b[0m\u001b[0;34m\u001b[0m\u001b[0;34m\u001b[0m\u001b[0m\n\u001b[0;32m--> 362\u001b[0;31m       \u001b[0;32mreturn\u001b[0m \u001b[0mgen_control_flow_ops\u001b[0m\u001b[0;34m.\u001b[0m\u001b[0mswitch\u001b[0m\u001b[0;34m(\u001b[0m\u001b[0mdata\u001b[0m\u001b[0;34m,\u001b[0m \u001b[0mpred\u001b[0m\u001b[0;34m,\u001b[0m \u001b[0mname\u001b[0m\u001b[0;34m=\u001b[0m\u001b[0mname\u001b[0m\u001b[0;34m)\u001b[0m\u001b[0;34m\u001b[0m\u001b[0;34m\u001b[0m\u001b[0m\n\u001b[0m\u001b[1;32m    363\u001b[0m     \u001b[0;32melse\u001b[0m\u001b[0;34m:\u001b[0m\u001b[0;34m\u001b[0m\u001b[0;34m\u001b[0m\u001b[0m\n\u001b[1;32m    364\u001b[0m       \u001b[0;32mif\u001b[0m \u001b[0;32mnot\u001b[0m \u001b[0misinstance\u001b[0m\u001b[0;34m(\u001b[0m\u001b[0mdata\u001b[0m\u001b[0;34m,\u001b[0m \u001b[0;34m(\u001b[0m\u001b[0mops\u001b[0m\u001b[0;34m.\u001b[0m\u001b[0mIndexedSlices\u001b[0m\u001b[0;34m,\u001b[0m \u001b[0msparse_tensor\u001b[0m\u001b[0;34m.\u001b[0m\u001b[0mSparseTensor\u001b[0m\u001b[0;34m)\u001b[0m\u001b[0;34m)\u001b[0m\u001b[0;34m:\u001b[0m\u001b[0;34m\u001b[0m\u001b[0;34m\u001b[0m\u001b[0m\n",
      "\u001b[0;32m/anaconda3/lib/python3.7/site-packages/tensorflow/python/ops/gen_control_flow_ops.py\u001b[0m in \u001b[0;36mswitch\u001b[0;34m(data, pred, name)\u001b[0m\n\u001b[1;32m    861\u001b[0m   \u001b[0;31m# Add nodes to the TensorFlow graph.\u001b[0m\u001b[0;34m\u001b[0m\u001b[0;34m\u001b[0m\u001b[0;34m\u001b[0m\u001b[0m\n\u001b[1;32m    862\u001b[0m   _, _, _op = _op_def_lib._apply_op_helper(\n\u001b[0;32m--> 863\u001b[0;31m         \"Switch\", data=data, pred=pred, name=name)\n\u001b[0m\u001b[1;32m    864\u001b[0m   \u001b[0m_result\u001b[0m \u001b[0;34m=\u001b[0m \u001b[0m_op\u001b[0m\u001b[0;34m.\u001b[0m\u001b[0moutputs\u001b[0m\u001b[0;34m[\u001b[0m\u001b[0;34m:\u001b[0m\u001b[0;34m]\u001b[0m\u001b[0;34m\u001b[0m\u001b[0;34m\u001b[0m\u001b[0m\n\u001b[1;32m    865\u001b[0m   \u001b[0m_inputs_flat\u001b[0m \u001b[0;34m=\u001b[0m \u001b[0m_op\u001b[0m\u001b[0;34m.\u001b[0m\u001b[0minputs\u001b[0m\u001b[0;34m\u001b[0m\u001b[0;34m\u001b[0m\u001b[0m\n",
      "\u001b[0;32m/anaconda3/lib/python3.7/site-packages/tensorflow/python/framework/op_def_library.py\u001b[0m in \u001b[0;36m_apply_op_helper\u001b[0;34m(self, op_type_name, name, **keywords)\u001b[0m\n\u001b[1;32m    392\u001b[0m     \u001b[0minputs\u001b[0m \u001b[0;34m=\u001b[0m \u001b[0;34m[\u001b[0m\u001b[0;34m]\u001b[0m\u001b[0;34m\u001b[0m\u001b[0;34m\u001b[0m\u001b[0m\n\u001b[1;32m    393\u001b[0m     \u001b[0minput_types\u001b[0m \u001b[0;34m=\u001b[0m \u001b[0;34m[\u001b[0m\u001b[0;34m]\u001b[0m\u001b[0;34m\u001b[0m\u001b[0;34m\u001b[0m\u001b[0m\n\u001b[0;32m--> 394\u001b[0;31m     \u001b[0;32mwith\u001b[0m \u001b[0mg\u001b[0m\u001b[0;34m.\u001b[0m\u001b[0mas_default\u001b[0m\u001b[0;34m(\u001b[0m\u001b[0;34m)\u001b[0m\u001b[0;34m,\u001b[0m \u001b[0mops\u001b[0m\u001b[0;34m.\u001b[0m\u001b[0mname_scope\u001b[0m\u001b[0;34m(\u001b[0m\u001b[0mname\u001b[0m\u001b[0;34m)\u001b[0m \u001b[0;32mas\u001b[0m \u001b[0mscope\u001b[0m\u001b[0;34m:\u001b[0m\u001b[0;34m\u001b[0m\u001b[0;34m\u001b[0m\u001b[0m\n\u001b[0m\u001b[1;32m    395\u001b[0m \u001b[0;34m\u001b[0m\u001b[0m\n\u001b[1;32m    396\u001b[0m       \u001b[0;31m# Perform input type inference\u001b[0m\u001b[0;34m\u001b[0m\u001b[0;34m\u001b[0m\u001b[0;34m\u001b[0m\u001b[0m\n",
      "\u001b[0;32m/anaconda3/lib/python3.7/contextlib.py\u001b[0m in \u001b[0;36m__enter__\u001b[0;34m(self)\u001b[0m\n\u001b[1;32m    110\u001b[0m         \u001b[0;32mdel\u001b[0m \u001b[0mself\u001b[0m\u001b[0;34m.\u001b[0m\u001b[0margs\u001b[0m\u001b[0;34m,\u001b[0m \u001b[0mself\u001b[0m\u001b[0;34m.\u001b[0m\u001b[0mkwds\u001b[0m\u001b[0;34m,\u001b[0m \u001b[0mself\u001b[0m\u001b[0;34m.\u001b[0m\u001b[0mfunc\u001b[0m\u001b[0;34m\u001b[0m\u001b[0;34m\u001b[0m\u001b[0m\n\u001b[1;32m    111\u001b[0m         \u001b[0;32mtry\u001b[0m\u001b[0;34m:\u001b[0m\u001b[0;34m\u001b[0m\u001b[0;34m\u001b[0m\u001b[0m\n\u001b[0;32m--> 112\u001b[0;31m             \u001b[0;32mreturn\u001b[0m \u001b[0mnext\u001b[0m\u001b[0;34m(\u001b[0m\u001b[0mself\u001b[0m\u001b[0;34m.\u001b[0m\u001b[0mgen\u001b[0m\u001b[0;34m)\u001b[0m\u001b[0;34m\u001b[0m\u001b[0;34m\u001b[0m\u001b[0m\n\u001b[0m\u001b[1;32m    113\u001b[0m         \u001b[0;32mexcept\u001b[0m \u001b[0mStopIteration\u001b[0m\u001b[0;34m:\u001b[0m\u001b[0;34m\u001b[0m\u001b[0;34m\u001b[0m\u001b[0m\n\u001b[1;32m    114\u001b[0m             \u001b[0;32mraise\u001b[0m \u001b[0mRuntimeError\u001b[0m\u001b[0;34m(\u001b[0m\u001b[0;34m\"generator didn't yield\"\u001b[0m\u001b[0;34m)\u001b[0m \u001b[0;32mfrom\u001b[0m \u001b[0;32mNone\u001b[0m\u001b[0;34m\u001b[0m\u001b[0;34m\u001b[0m\u001b[0m\n",
      "\u001b[0;32m/anaconda3/lib/python3.7/site-packages/tensorflow/python/framework/ops.py\u001b[0m in \u001b[0;36mget_controller\u001b[0;34m(self, default)\u001b[0m\n\u001b[1;32m   5246\u001b[0m   \u001b[0;34m@\u001b[0m\u001b[0mtf_contextlib\u001b[0m\u001b[0;34m.\u001b[0m\u001b[0mcontextmanager\u001b[0m\u001b[0;34m\u001b[0m\u001b[0;34m\u001b[0m\u001b[0m\n\u001b[1;32m   5247\u001b[0m   \u001b[0;32mdef\u001b[0m \u001b[0mget_controller\u001b[0m\u001b[0;34m(\u001b[0m\u001b[0mself\u001b[0m\u001b[0;34m,\u001b[0m \u001b[0mdefault\u001b[0m\u001b[0;34m)\u001b[0m\u001b[0;34m:\u001b[0m\u001b[0;34m\u001b[0m\u001b[0;34m\u001b[0m\u001b[0m\n\u001b[0;32m-> 5248\u001b[0;31m     context.context().context_switches.push(\n\u001b[0m\u001b[1;32m   5249\u001b[0m         default.building_function, default.as_default)\n\u001b[1;32m   5250\u001b[0m     \u001b[0;32mtry\u001b[0m\u001b[0;34m:\u001b[0m\u001b[0;34m\u001b[0m\u001b[0;34m\u001b[0m\u001b[0m\n",
      "\u001b[0;32m/anaconda3/lib/python3.7/site-packages/tensorflow/python/eager/context.py\u001b[0m in \u001b[0;36mcontext_switches\u001b[0;34m(self)\u001b[0m\n\u001b[1;32m    692\u001b[0m     \u001b[0;32mreturn\u001b[0m \u001b[0mrun_metadata\u001b[0m\u001b[0;34m\u001b[0m\u001b[0;34m\u001b[0m\u001b[0m\n\u001b[1;32m    693\u001b[0m \u001b[0;34m\u001b[0m\u001b[0m\n\u001b[0;32m--> 694\u001b[0;31m   \u001b[0;34m@\u001b[0m\u001b[0mproperty\u001b[0m\u001b[0;34m\u001b[0m\u001b[0;34m\u001b[0m\u001b[0m\n\u001b[0m\u001b[1;32m    695\u001b[0m   \u001b[0;32mdef\u001b[0m \u001b[0mcontext_switches\u001b[0m\u001b[0;34m(\u001b[0m\u001b[0mself\u001b[0m\u001b[0;34m)\u001b[0m\u001b[0;34m:\u001b[0m\u001b[0;34m\u001b[0m\u001b[0;34m\u001b[0m\u001b[0m\n\u001b[1;32m    696\u001b[0m     \u001b[0;34m\"\"\"Returns a stack of context switches.\"\"\"\u001b[0m\u001b[0;34m\u001b[0m\u001b[0;34m\u001b[0m\u001b[0m\n",
      "\u001b[0;31mKeyboardInterrupt\u001b[0m: "
     ]
    }
   ],
   "source": [
    "from tensorflow.python.keras.applications import ResNet50\n",
    "from tensorflow.python.keras.models import Sequential\n",
    "import urllib.request\n",
    "import scipy\n",
    "import pandas as pd\n",
    "print(\"finished import\")\n",
    "\n",
    "def create_resnet50_csv(data, length, suffix):\n",
    "\n",
    "    url0 = data['url'][0]\n",
    "    urllib.request.urlretrieve(url0, 'tempfiles/evaluated.jpg')\n",
    "\n",
    "    model = Sequential()\n",
    "    model = ResNet50(include_top=False, weights='imagenet')\n",
    "\n",
    "\n",
    "    evaluated_coords = model.predict(path_to_tensor(\"tempfiles/evaluated.jpg\"))\n",
    "\n",
    "    flat = evaluated_coords.flatten()\n",
    "\n",
    "    datalist = [flat]\n",
    "\n",
    "    index_list = np.full((1,1), 0)\n",
    "\n",
    "    adder = 1\n",
    "\n",
    "    for x in range(length-1):\n",
    "        progress(x,length-1)\n",
    "        temp = setter(x, adder, data)\n",
    "        while temp is not True:\n",
    "            adder += 1\n",
    "            temp = setter(x, adder, data)\n",
    "        evaluated_coords = model.predict(path_to_tensor(\"tempfiles/evaluated.jpg\"))\n",
    "        flat = evaluated_coords.flatten()\n",
    "        datalist = np.append(datalist, [flat], axis=0)\n",
    "\n",
    "        current_row = np.full((1,1), x+adder)\n",
    "        index_list = np.append(index_list, current_row)\n",
    "\n",
    "\n",
    "    dataframe = pd.DataFrame(datalist)\n",
    "    index_dataframe = pd.DataFrame(index_list)\n",
    "    \n",
    "    dataframe.to_csv(\"data/bottleneck_features\" + suffix + \".csv\", sep=',', encoding='utf-8')\n",
    "    index_dataframe.to_csv(\"data/indices\" + suffix + \".csv\", sep=',', encoding='utf-8')\n",
    "\n",
    "create_resnet50_csv(train_data, 100, \"_train\")\n",
    "create_resnet50_csv(test_data, 100, \"_test\")"
   ]
  },
  {
   "cell_type": "code",
   "execution_count": 89,
   "metadata": {},
   "outputs": [],
   "source": [
    "def is_same_landmark(indices, id_getter, row1, row2):\n",
    "    actual_row1 = indices.iloc[row1][1]\n",
    "    actual_row2 = indices.iloc[row2][1]\n",
    "    id1 = id_getter['landmark_id'][actual_row1]\n",
    "    id2 = id_getter['landmark_id'][actual_row2]\n",
    "    return id1 == id2"
   ]
  },
  {
   "cell_type": "code",
   "execution_count": 85,
   "metadata": {},
   "outputs": [
    {
     "name": "stdout",
     "output_type": "stream",
     "text": [
      "6051\n",
      "True\n"
     ]
    }
   ],
   "source": [
    "indices = pd.read_csv('data/indices_train.csv')\n",
    "print(is_same_landmark(indices,train_data,89,84))"
   ]
  },
  {
   "cell_type": "code",
   "execution_count": 105,
   "metadata": {},
   "outputs": [],
   "source": [
    "import random\n",
    "\n",
    "def to_add():\n",
    "    if random.random()<0.0043:\n",
    "        return True\n",
    "    else:\n",
    "        return False"
   ]
  },
  {
   "cell_type": "code",
   "execution_count": 110,
   "metadata": {},
   "outputs": [],
   "source": [
    "def add_row(data_array, bottleneck_features, indices, row_num):\n",
    "    row = bottleneck_features.iloc[row_num]\n",
    "    for x in range(100):\n",
    "        combined_row = []\n",
    "        if x != row_num:\n",
    "            eval_row = bottleneck_features.iloc[x]\n",
    "            if is_same_landmark(indices, train_data, row_num, x):\n",
    "                combined_row = np.append([1], row)\n",
    "                combined_row = np.append(combined_row, eval_row)\n",
    "            else:\n",
    "                if (to_add()):\n",
    "                    combined_row = np.append([0], row)\n",
    "                    combined_row = np.append(combined_row, eval_row)\n",
    "                    \n",
    "        if len(combined_row) > 0:\n",
    "            if data_array is None:\n",
    "                data_array = [combined_row]\n",
    "            else:\n",
    "                data_array = np.append(data_array, [combined_row], axis=0)\n",
    "    return data_array"
   ]
  },
  {
   "cell_type": "code",
   "execution_count": 111,
   "metadata": {},
   "outputs": [
    {
     "name": "stdout",
     "output_type": "stream",
     "text": [
      "[array([ 0.      ,  0.      , -0.      , ...,  3.760726, -0.      , ...\n",
      "       -0.      ])]\n",
      "[[ 0.         0.        -0.        ...  3.760726  -0.        -0.       ]\n",
      " [ 0.         1.        -0.        ...  0.4211488 -0.        -0.       ]\n",
      " [ 0.         1.        -0.        ... -0.        -0.         3.5979896]]\n",
      "[[ 0.         0.        -0.        ...  3.760726  -0.        -0.       ]\n",
      " [ 0.         1.        -0.        ...  0.4211488 -0.        -0.       ]\n",
      " [ 0.         1.        -0.        ... -0.        -0.         3.5979896]]\n",
      "[[ 0.         0.        -0.        ...  3.760726  -0.        -0.       ]\n",
      " [ 0.         1.        -0.        ...  0.4211488 -0.        -0.       ]\n",
      " [ 0.         1.        -0.        ... -0.        -0.         3.5979896]]\n",
      "[[ 0.         0.        -0.        ...  3.760726  -0.        -0.       ]\n",
      " [ 0.         1.        -0.        ...  0.4211488 -0.        -0.       ]\n",
      " [ 0.         1.        -0.        ... -0.        -0.         3.5979896]]\n",
      "[[ 0.          0.         -0.         ...  3.760726   -0.----] 5.0% ...\n",
      "  -0.        ]\n",
      " [ 0.          1.         -0.         ...  0.4211488  -0.\n",
      "  -0.        ]\n",
      " [ 0.          1.         -0.         ... -0.         -0.\n",
      "   3.5979896 ]\n",
      " [ 1.          5.         -0.         ... -0.         -0.\n",
      "   0.70085704]\n",
      " [ 1.          5.         -0.         ...  7.6731734  -0.\n",
      "  -0.        ]]\n",
      "[[ 0.          0.         -0.         ...  3.760726   -0.----] 6.0% ...\n",
      "  -0.        ]\n",
      " [ 0.          1.         -0.         ...  0.4211488  -0.\n",
      "  -0.        ]\n",
      " [ 0.          1.         -0.         ... -0.         -0.\n",
      "   3.5979896 ]\n",
      " [ 1.          5.         -0.         ... -0.         -0.\n",
      "   0.70085704]\n",
      " [ 1.          5.         -0.         ...  7.6731734  -0.\n",
      "  -0.        ]\n",
      " [ 0.          6.         -0.         ...  8.336096   -0.\n",
      "  -0.        ]]\n",
      "[[ 0.          0.         -0.         ...  3.760726   -0.----] 7.0% ...\n",
      "  -0.        ]\n",
      " [ 0.          1.         -0.         ...  0.4211488  -0.\n",
      "  -0.        ]\n",
      " [ 0.          1.         -0.         ... -0.         -0.\n",
      "   3.5979896 ]\n",
      " [ 1.          5.         -0.         ... -0.         -0.\n",
      "   0.70085704]\n",
      " [ 1.          5.         -0.         ...  7.6731734  -0.\n",
      "  -0.        ]\n",
      " [ 0.          6.         -0.         ...  8.336096   -0.\n",
      "  -0.        ]]\n",
      "[[ 0.          0.         -0.         ...  3.760726   -0.----] 8.0% ...\n",
      "  -0.        ]\n",
      " [ 0.          1.         -0.         ...  0.4211488  -0.\n",
      "  -0.        ]\n",
      " [ 0.          1.         -0.         ... -0.         -0.\n",
      "   3.5979896 ]\n",
      " [ 1.          5.         -0.         ... -0.         -0.\n",
      "   0.70085704]\n",
      " [ 1.          5.         -0.         ...  7.6731734  -0.\n",
      "  -0.        ]\n",
      " [ 0.          6.         -0.         ...  8.336096   -0.\n",
      "  -0.        ]]\n",
      "[[ 0.         0.        -0.        ...  3.760726  -0.        -0.       ]\n",
      " [ 0.         1.        -0.        ...  0.4211488 -0.        -0.       ]\n",
      " [ 0.         1.        -0.        ... -0.        -0.         3.5979896]\n",
      " ...\n",
      " [ 0.         6.        -0.        ...  8.336096  -0.        -0.       ]\n",
      " [ 1.         9.        -0.        ... -0.         1.8763129 -0.       ]\n",
      " [ 1.         9.        -0.        ...  7.6731734 -0.        -0.       ]]\n",
      "[[ 0.         0.        -0.        ...  3.760726  -0.        -0.       ]\n",
      " [ 0.         1.        -0.        ...  0.4211488 -0.        -0.       ]\n",
      " [ 0.         1.        -0.        ... -0.        -0.         3.5979896]\n",
      " ...\n",
      " [ 0.         6.        -0.        ...  8.336096  -0.        -0.       ]\n",
      " [ 1.         9.        -0.        ... -0.         1.8763129 -0.       ]\n",
      " [ 1.         9.        -0.        ...  7.6731734 -0.        -0.       ]]\n",
      "[[ 0.         0.        -0.        ...  3.760726  -0.        -0.       ]\n",
      " [ 0.         1.        -0.        ...  0.4211488 -0.        -0.       ]\n",
      " [ 0.         1.        -0.        ... -0.        -0.         3.5979896]\n",
      " ...\n",
      " [ 0.         6.        -0.        ...  8.336096  -0.        -0.       ]\n",
      " [ 1.         9.        -0.        ... -0.         1.8763129 -0.       ]\n",
      " [ 1.         9.        -0.        ...  7.6731734 -0.        -0.       ]]\n",
      "[[ 0.         0.        -0.        ...  3.760726  -0.        -0.       ]\n",
      " [ 0.         1.        -0.        ...  0.4211488 -0.        -0.       ]\n",
      " [ 0.         1.        -0.        ... -0.        -0.         3.5979896]\n",
      " ...\n",
      " [ 0.         6.        -0.        ...  8.336096  -0.        -0.       ]\n",
      " [ 1.         9.        -0.        ... -0.         1.8763129 -0.       ]\n",
      " [ 1.         9.        -0.        ...  7.6731734 -0.        -0.       ]]\n",
      "[[ 0.         0.        -0.        ...  3.760726  -0.        -0.       ]\n",
      " [ 0.         1.        -0.        ...  0.4211488 -0.        -0.       ]\n",
      " [ 0.         1.        -0.        ... -0.        -0.         3.5979896]\n",
      " ...\n",
      " [ 0.         6.        -0.        ...  8.336096  -0.        -0.       ]\n",
      " [ 1.         9.        -0.        ... -0.         1.8763129 -0.       ]\n",
      " [ 1.         9.        -0.        ...  7.6731734 -0.        -0.       ]]\n",
      "[[ 0.         0.        -0.        ...  3.760726  -0.        -0.       ]\n",
      " [ 0.         1.        -0.        ...  0.4211488 -0.        -0.       ]\n",
      " [ 0.         1.        -0.        ... -0.        -0.         3.5979896]\n",
      " ...\n",
      " [ 0.         6.        -0.        ...  8.336096  -0.        -0.       ]\n",
      " [ 1.         9.        -0.        ... -0.         1.8763129 -0.       ]\n",
      " [ 1.         9.        -0.        ...  7.6731734 -0.        -0.       ]]\n",
      "[[ 0.         0.        -0.        ...  3.760726  -0.        -0.       ]\n",
      " [ 0.         1.        -0.        ...  0.4211488 -0.        -0.       ]\n",
      " [ 0.         1.        -0.        ... -0.        -0.         3.5979896]\n",
      " ...\n",
      " [ 0.         6.        -0.        ...  8.336096  -0.        -0.       ]\n",
      " [ 1.         9.        -0.        ... -0.         1.8763129 -0.       ]\n",
      " [ 1.         9.        -0.        ...  7.6731734 -0.        -0.       ]]\n",
      "[[ 0.         0.        -0.        ...  3.760726  -0.        -0.       ]\n",
      " [ 0.         1.        -0.        ...  0.4211488 -0.        -0.       ]\n",
      " [ 0.         1.        -0.        ... -0.        -0.         3.5979896]\n",
      " ...\n",
      " [ 0.         6.        -0.        ...  8.336096  -0.        -0.       ]\n",
      " [ 1.         9.        -0.        ... -0.         1.8763129 -0.       ]\n",
      " [ 1.         9.        -0.        ...  7.6731734 -0.        -0.       ]]\n",
      "[[ 0.         0.        -0.        ...  3.760726  -0.        -0.       ]\n",
      " [ 0.         1.        -0.        ...  0.4211488 -0.        -0.       ]\n",
      " [ 0.         1.        -0.        ... -0.        -0.         3.5979896]\n",
      " ...\n",
      " [ 0.         6.        -0.        ...  8.336096  -0.        -0.       ]\n",
      " [ 1.         9.        -0.        ... -0.         1.8763129 -0.       ]\n",
      " [ 1.         9.        -0.        ...  7.6731734 -0.        -0.       ]]\n",
      "[[ 0.         0.        -0.        ...  3.760726  -0.        -0.       ]\n",
      " [ 0.         1.        -0.        ...  0.4211488 -0.        -0.       ]\n",
      " [ 0.         1.        -0.        ... -0.        -0.         3.5979896]\n",
      " ...\n",
      " [ 1.         9.        -0.        ... -0.         1.8763129 -0.       ]\n",
      " [ 1.         9.        -0.        ...  7.6731734 -0.        -0.       ]\n",
      " [ 0.        18.        -0.        ... 11.594758  -0.        -0.       ]]\n",
      "[[ 0.         0.        -0.        ...  3.760726  -0.        -0.       ]\n",
      " [ 0.         1.        -0.        ...  0.4211488 -0.        -0.       ]\n",
      " [ 0.         1.        -0.        ... -0.        -0.         3.5979896]\n",
      " ...\n",
      " [ 1.         9.        -0.        ... -0.         1.8763129 -0.       ]\n",
      " [ 1.         9.        -0.        ...  7.6731734 -0.        -0.       ]\n",
      " [ 0.        18.        -0.        ... 11.594758  -0.        -0.       ]]\n",
      "[[ 0.0000000e+00  0.0000000e+00 -0.0000000e+00 ...  3.7607260e+00.0% ...\n",
      "  -0.0000000e+00 -0.0000000e+00]\n",
      " [ 0.0000000e+00  1.0000000e+00 -0.0000000e+00 ...  4.2114880e-01\n",
      "  -0.0000000e+00 -0.0000000e+00]\n",
      " [ 0.0000000e+00  1.0000000e+00 -0.0000000e+00 ... -0.0000000e+00\n",
      "  -0.0000000e+00  3.5979896e+00]\n",
      " ...\n",
      " [ 1.0000000e+00  2.0000000e+01 -0.0000000e+00 ...  7.7641835e+00\n",
      "  -0.0000000e+00 -0.0000000e+00]\n",
      " [ 1.0000000e+00  2.0000000e+01 -0.0000000e+00 ... -0.0000000e+00\n",
      "  -0.0000000e+00 -0.0000000e+00]\n",
      " [ 1.0000000e+00  2.0000000e+01 -0.0000000e+00 ...  4.6671630e-03\n",
      "  -0.0000000e+00  4.9407410e+00]]\n"
     ]
    },
    {
     "name": "stdout",
     "output_type": "stream",
     "text": [
      "[[ 0.0000000e+00  0.0000000e+00 -0.0000000e+00 ...  3.7607260e+00.0% ...\n",
      "  -0.0000000e+00 -0.0000000e+00]\n",
      " [ 0.0000000e+00  1.0000000e+00 -0.0000000e+00 ...  4.2114880e-01\n",
      "  -0.0000000e+00 -0.0000000e+00]\n",
      " [ 0.0000000e+00  1.0000000e+00 -0.0000000e+00 ... -0.0000000e+00\n",
      "  -0.0000000e+00  3.5979896e+00]\n",
      " ...\n",
      " [ 1.0000000e+00  2.0000000e+01 -0.0000000e+00 ...  7.7641835e+00\n",
      "  -0.0000000e+00 -0.0000000e+00]\n",
      " [ 1.0000000e+00  2.0000000e+01 -0.0000000e+00 ... -0.0000000e+00\n",
      "  -0.0000000e+00 -0.0000000e+00]\n",
      " [ 1.0000000e+00  2.0000000e+01 -0.0000000e+00 ...  4.6671630e-03\n",
      "  -0.0000000e+00  4.9407410e+00]]\n",
      "[[ 0.0000000e+00  0.0000000e+00 -0.0000000e+00 ...  3.7607260e+00.0% ...\n",
      "  -0.0000000e+00 -0.0000000e+00]\n",
      " [ 0.0000000e+00  1.0000000e+00 -0.0000000e+00 ...  4.2114880e-01\n",
      "  -0.0000000e+00 -0.0000000e+00]\n",
      " [ 0.0000000e+00  1.0000000e+00 -0.0000000e+00 ... -0.0000000e+00\n",
      "  -0.0000000e+00  3.5979896e+00]\n",
      " ...\n",
      " [ 1.0000000e+00  2.0000000e+01 -0.0000000e+00 ...  7.7641835e+00\n",
      "  -0.0000000e+00 -0.0000000e+00]\n",
      " [ 1.0000000e+00  2.0000000e+01 -0.0000000e+00 ... -0.0000000e+00\n",
      "  -0.0000000e+00 -0.0000000e+00]\n",
      " [ 1.0000000e+00  2.0000000e+01 -0.0000000e+00 ...  4.6671630e-03\n",
      "  -0.0000000e+00  4.9407410e+00]]\n",
      "[[ 0.0000000e+00  0.0000000e+00 -0.0000000e+00 ...  3.7607260e+00.0% ...\n",
      "  -0.0000000e+00 -0.0000000e+00]\n",
      " [ 0.0000000e+00  1.0000000e+00 -0.0000000e+00 ...  4.2114880e-01\n",
      "  -0.0000000e+00 -0.0000000e+00]\n",
      " [ 0.0000000e+00  1.0000000e+00 -0.0000000e+00 ... -0.0000000e+00\n",
      "  -0.0000000e+00  3.5979896e+00]\n",
      " ...\n",
      " [ 1.0000000e+00  2.0000000e+01 -0.0000000e+00 ...  7.7641835e+00\n",
      "  -0.0000000e+00 -0.0000000e+00]\n",
      " [ 1.0000000e+00  2.0000000e+01 -0.0000000e+00 ... -0.0000000e+00\n",
      "  -0.0000000e+00 -0.0000000e+00]\n",
      " [ 1.0000000e+00  2.0000000e+01 -0.0000000e+00 ...  4.6671630e-03\n",
      "  -0.0000000e+00  4.9407410e+00]]\n",
      "[[ 0.0000000e+00  0.0000000e+00 -0.0000000e+00 ...  3.7607260e+00.0% ...\n",
      "  -0.0000000e+00 -0.0000000e+00]\n",
      " [ 0.0000000e+00  1.0000000e+00 -0.0000000e+00 ...  4.2114880e-01\n",
      "  -0.0000000e+00 -0.0000000e+00]\n",
      " [ 0.0000000e+00  1.0000000e+00 -0.0000000e+00 ... -0.0000000e+00\n",
      "  -0.0000000e+00  3.5979896e+00]\n",
      " ...\n",
      " [ 1.0000000e+00  2.0000000e+01 -0.0000000e+00 ...  7.7641835e+00\n",
      "  -0.0000000e+00 -0.0000000e+00]\n",
      " [ 1.0000000e+00  2.0000000e+01 -0.0000000e+00 ... -0.0000000e+00\n",
      "  -0.0000000e+00 -0.0000000e+00]\n",
      " [ 1.0000000e+00  2.0000000e+01 -0.0000000e+00 ...  4.6671630e-03\n",
      "  -0.0000000e+00  4.9407410e+00]]\n",
      "[[ 0.0000000e+00  0.0000000e+00 -0.0000000e+00 ...  3.7607260e+00.0% ...\n",
      "  -0.0000000e+00 -0.0000000e+00]\n",
      " [ 0.0000000e+00  1.0000000e+00 -0.0000000e+00 ...  4.2114880e-01\n",
      "  -0.0000000e+00 -0.0000000e+00]\n",
      " [ 0.0000000e+00  1.0000000e+00 -0.0000000e+00 ... -0.0000000e+00\n",
      "  -0.0000000e+00  3.5979896e+00]\n",
      " ...\n",
      " [ 1.0000000e+00  2.0000000e+01 -0.0000000e+00 ...  7.7641835e+00\n",
      "  -0.0000000e+00 -0.0000000e+00]\n",
      " [ 1.0000000e+00  2.0000000e+01 -0.0000000e+00 ... -0.0000000e+00\n",
      "  -0.0000000e+00 -0.0000000e+00]\n",
      " [ 1.0000000e+00  2.0000000e+01 -0.0000000e+00 ...  4.6671630e-03\n",
      "  -0.0000000e+00  4.9407410e+00]]\n",
      "[[ 0.0000000e+00  0.0000000e+00 -0.0000000e+00 ...  3.7607260e+00.0% ...\n",
      "  -0.0000000e+00 -0.0000000e+00]\n",
      " [ 0.0000000e+00  1.0000000e+00 -0.0000000e+00 ...  4.2114880e-01\n",
      "  -0.0000000e+00 -0.0000000e+00]\n",
      " [ 0.0000000e+00  1.0000000e+00 -0.0000000e+00 ... -0.0000000e+00\n",
      "  -0.0000000e+00  3.5979896e+00]\n",
      " ...\n",
      " [ 1.0000000e+00  2.6000000e+01 -0.0000000e+00 ...  7.7641835e+00\n",
      "  -0.0000000e+00 -0.0000000e+00]\n",
      " [ 1.0000000e+00  2.6000000e+01 -0.0000000e+00 ... -0.0000000e+00\n",
      "  -0.0000000e+00 -0.0000000e+00]\n",
      " [ 1.0000000e+00  2.6000000e+01 -0.0000000e+00 ...  4.6671630e-03\n",
      "  -0.0000000e+00  4.9407410e+00]]\n",
      "[[ 0.0000000e+00  0.0000000e+00 -0.0000000e+00 ...  3.7607260e+00.0% ...\n",
      "  -0.0000000e+00 -0.0000000e+00]\n",
      " [ 0.0000000e+00  1.0000000e+00 -0.0000000e+00 ...  4.2114880e-01\n",
      "  -0.0000000e+00 -0.0000000e+00]\n",
      " [ 0.0000000e+00  1.0000000e+00 -0.0000000e+00 ... -0.0000000e+00\n",
      "  -0.0000000e+00  3.5979896e+00]\n",
      " ...\n",
      " [ 1.0000000e+00  2.6000000e+01 -0.0000000e+00 ...  7.7641835e+00\n",
      "  -0.0000000e+00 -0.0000000e+00]\n",
      " [ 1.0000000e+00  2.6000000e+01 -0.0000000e+00 ... -0.0000000e+00\n",
      "  -0.0000000e+00 -0.0000000e+00]\n",
      " [ 1.0000000e+00  2.6000000e+01 -0.0000000e+00 ...  4.6671630e-03\n",
      "  -0.0000000e+00  4.9407410e+00]]\n",
      "[[ 0.0000000e+00  0.0000000e+00 -0.0000000e+00 ...  3.7607260e+00.0% ...\n",
      "  -0.0000000e+00 -0.0000000e+00]\n",
      " [ 0.0000000e+00  1.0000000e+00 -0.0000000e+00 ...  4.2114880e-01\n",
      "  -0.0000000e+00 -0.0000000e+00]\n",
      " [ 0.0000000e+00  1.0000000e+00 -0.0000000e+00 ... -0.0000000e+00\n",
      "  -0.0000000e+00  3.5979896e+00]\n",
      " ...\n",
      " [ 1.0000000e+00  2.6000000e+01 -0.0000000e+00 ... -0.0000000e+00\n",
      "  -0.0000000e+00 -0.0000000e+00]\n",
      " [ 1.0000000e+00  2.6000000e+01 -0.0000000e+00 ...  4.6671630e-03\n",
      "  -0.0000000e+00  4.9407410e+00]\n",
      " [ 0.0000000e+00  2.8000000e+01 -0.0000000e+00 ... -0.0000000e+00\n",
      "  -0.0000000e+00 -0.0000000e+00]]\n",
      "[[ 0.0000000e+00  0.0000000e+00 -0.0000000e+00 ...  3.7607260e+00.0% ...\n",
      "  -0.0000000e+00 -0.0000000e+00]\n",
      " [ 0.0000000e+00  1.0000000e+00 -0.0000000e+00 ...  4.2114880e-01\n",
      "  -0.0000000e+00 -0.0000000e+00]\n",
      " [ 0.0000000e+00  1.0000000e+00 -0.0000000e+00 ... -0.0000000e+00\n",
      "  -0.0000000e+00  3.5979896e+00]\n",
      " ...\n",
      " [ 1.0000000e+00  2.6000000e+01 -0.0000000e+00 ... -0.0000000e+00\n",
      "  -0.0000000e+00 -0.0000000e+00]\n",
      " [ 1.0000000e+00  2.6000000e+01 -0.0000000e+00 ...  4.6671630e-03\n",
      "  -0.0000000e+00  4.9407410e+00]\n",
      " [ 0.0000000e+00  2.8000000e+01 -0.0000000e+00 ... -0.0000000e+00\n",
      "  -0.0000000e+00 -0.0000000e+00]]\n",
      "[[ 0.0000000e+00  0.0000000e+00 -0.0000000e+00 ...  3.7607260e+00.0% ...\n",
      "  -0.0000000e+00 -0.0000000e+00]\n",
      " [ 0.0000000e+00  1.0000000e+00 -0.0000000e+00 ...  4.2114880e-01\n",
      "  -0.0000000e+00 -0.0000000e+00]\n",
      " [ 0.0000000e+00  1.0000000e+00 -0.0000000e+00 ... -0.0000000e+00\n",
      "  -0.0000000e+00  3.5979896e+00]\n",
      " ...\n",
      " [ 1.0000000e+00  2.6000000e+01 -0.0000000e+00 ... -0.0000000e+00\n",
      "  -0.0000000e+00 -0.0000000e+00]\n",
      " [ 1.0000000e+00  2.6000000e+01 -0.0000000e+00 ...  4.6671630e-03\n",
      "  -0.0000000e+00  4.9407410e+00]\n",
      " [ 0.0000000e+00  2.8000000e+01 -0.0000000e+00 ... -0.0000000e+00\n",
      "  -0.0000000e+00 -0.0000000e+00]]\n",
      "[[ 0.0000000e+00  0.0000000e+00 -0.0000000e+00 ...  3.7607260e+00.0% ...\n",
      "  -0.0000000e+00 -0.0000000e+00]\n",
      " [ 0.0000000e+00  1.0000000e+00 -0.0000000e+00 ...  4.2114880e-01\n",
      "  -0.0000000e+00 -0.0000000e+00]\n",
      " [ 0.0000000e+00  1.0000000e+00 -0.0000000e+00 ... -0.0000000e+00\n",
      "  -0.0000000e+00  3.5979896e+00]\n",
      " ...\n",
      " [ 1.0000000e+00  2.6000000e+01 -0.0000000e+00 ... -0.0000000e+00\n",
      "  -0.0000000e+00 -0.0000000e+00]\n",
      " [ 1.0000000e+00  2.6000000e+01 -0.0000000e+00 ...  4.6671630e-03\n",
      "  -0.0000000e+00  4.9407410e+00]\n",
      " [ 0.0000000e+00  2.8000000e+01 -0.0000000e+00 ... -0.0000000e+00\n",
      "  -0.0000000e+00 -0.0000000e+00]]\n",
      "[[ 0.0000000e+00  0.0000000e+00 -0.0000000e+00 ...  3.7607260e+00.0% ...\n",
      "  -0.0000000e+00 -0.0000000e+00]\n",
      " [ 0.0000000e+00  1.0000000e+00 -0.0000000e+00 ...  4.2114880e-01\n",
      "  -0.0000000e+00 -0.0000000e+00]\n",
      " [ 0.0000000e+00  1.0000000e+00 -0.0000000e+00 ... -0.0000000e+00\n",
      "  -0.0000000e+00  3.5979896e+00]\n",
      " ...\n",
      " [ 1.0000000e+00  2.6000000e+01 -0.0000000e+00 ...  4.6671630e-03\n",
      "  -0.0000000e+00  4.9407410e+00]\n",
      " [ 0.0000000e+00  2.8000000e+01 -0.0000000e+00 ... -0.0000000e+00\n",
      "  -0.0000000e+00 -0.0000000e+00]\n",
      " [ 0.0000000e+00  3.2000000e+01 -0.0000000e+00 ... -0.0000000e+00\n",
      "  -0.0000000e+00 -0.0000000e+00]]\n",
      "[[ 0.0000000e+00  0.0000000e+00 -0.0000000e+00 ...  3.7607260e+00.0% ...\n",
      "  -0.0000000e+00 -0.0000000e+00]\n",
      " [ 0.0000000e+00  1.0000000e+00 -0.0000000e+00 ...  4.2114880e-01\n",
      "  -0.0000000e+00 -0.0000000e+00]\n",
      " [ 0.0000000e+00  1.0000000e+00 -0.0000000e+00 ... -0.0000000e+00\n",
      "  -0.0000000e+00  3.5979896e+00]\n",
      " ...\n",
      " [ 1.0000000e+00  2.6000000e+01 -0.0000000e+00 ...  4.6671630e-03\n",
      "  -0.0000000e+00  4.9407410e+00]\n",
      " [ 0.0000000e+00  2.8000000e+01 -0.0000000e+00 ... -0.0000000e+00\n",
      "  -0.0000000e+00 -0.0000000e+00]\n",
      " [ 0.0000000e+00  3.2000000e+01 -0.0000000e+00 ... -0.0000000e+00\n",
      "  -0.0000000e+00 -0.0000000e+00]]\n",
      "[[ 0.         0.        -0.        ...  3.760726  -0.        -0.       ]\n",
      " [ 0.         1.        -0.        ...  0.4211488 -0.        -0.       ]\n",
      " [ 0.         1.        -0.        ... -0.        -0.         3.5979896]\n",
      " ...\n",
      " [ 0.        28.        -0.        ... -0.        -0.        -0.       ]\n",
      " [ 0.        32.        -0.        ... -0.        -0.        -0.       ]\n",
      " [ 0.        34.        -0.        ... -0.        -0.        -0.       ]]\n"
     ]
    },
    {
     "name": "stdout",
     "output_type": "stream",
     "text": [
      "[[ 0.         0.        -0.        ...  3.760726  -0.        -0.       ]\n",
      " [ 0.         1.        -0.        ...  0.4211488 -0.        -0.       ]\n",
      " [ 0.         1.        -0.        ... -0.        -0.         3.5979896]\n",
      " ...\n",
      " [ 0.        32.        -0.        ... -0.        -0.        -0.       ]\n",
      " [ 0.        34.        -0.        ... -0.        -0.        -0.       ]\n",
      " [ 0.        35.        -0.        ... -0.        -0.        -0.       ]]\n",
      "[[ 0.         0.        -0.        ...  3.760726  -0.        -0.       ]\n",
      " [ 0.         1.        -0.        ...  0.4211488 -0.        -0.       ]\n",
      " [ 0.         1.        -0.        ... -0.        -0.         3.5979896]\n",
      " ...\n",
      " [ 0.        32.        -0.        ... -0.        -0.        -0.       ]\n",
      " [ 0.        34.        -0.        ... -0.        -0.        -0.       ]\n",
      " [ 0.        35.        -0.        ... -0.        -0.        -0.       ]]\n",
      "[[ 0.         0.        -0.        ...  3.760726  -0.        -0.       ]\n",
      " [ 0.         1.        -0.        ...  0.4211488 -0.        -0.       ]\n",
      " [ 0.         1.        -0.        ... -0.        -0.         3.5979896]\n",
      " ...\n",
      " [ 0.        35.        -0.        ... -0.        -0.        -0.       ]\n",
      " [ 0.        37.        -0.        ... -0.        -0.        -0.       ]\n",
      " [ 0.        37.        -0.        ...  1.1713179  0.3161184 -0.       ]]\n",
      "[[ 0.         0.        -0.        ...  3.760726  -0.        -0.       ]\n",
      " [ 0.         1.        -0.        ...  0.4211488 -0.        -0.       ]\n",
      " [ 0.         1.        -0.        ... -0.        -0.         3.5979896]\n",
      " ...\n",
      " [ 0.        37.        -0.        ... -0.        -0.        -0.       ]\n",
      " [ 0.        37.        -0.        ...  1.1713179  0.3161184 -0.       ]\n",
      " [ 0.        38.        -0.        ...  1.3781762 -0.        -0.       ]]\n",
      "[[ 0.         0.        -0.        ...  3.760726  -0.        -0.       ]\n",
      " [ 0.         1.        -0.        ...  0.4211488 -0.        -0.       ]\n",
      " [ 0.         1.        -0.        ... -0.        -0.         3.5979896]\n",
      " ...\n",
      " [ 0.        38.        -0.        ...  1.3781762 -0.        -0.       ]\n",
      " [ 0.        39.        -0.        ... -0.        -0.        -0.       ]\n",
      " [ 0.        39.        -0.        ...  0.4211488 -0.        -0.       ]]\n",
      "[[ 0.         0.        -0.        ...  3.760726  -0.        -0.       ]\n",
      " [ 0.         1.        -0.        ...  0.4211488 -0.        -0.       ]\n",
      " [ 0.         1.        -0.        ... -0.        -0.         3.5979896]\n",
      " ...\n",
      " [ 0.        38.        -0.        ...  1.3781762 -0.        -0.       ]\n",
      " [ 0.        39.        -0.        ... -0.        -0.        -0.       ]\n",
      " [ 0.        39.        -0.        ...  0.4211488 -0.        -0.       ]]\n",
      "[[ 0.         0.        -0.        ...  3.760726  -0.        -0.       ]\n",
      " [ 0.         1.        -0.        ...  0.4211488 -0.        -0.       ]\n",
      " [ 0.         1.        -0.        ... -0.        -0.         3.5979896]\n",
      " ...\n",
      " [ 0.        38.        -0.        ...  1.3781762 -0.        -0.       ]\n",
      " [ 0.        39.        -0.        ... -0.        -0.        -0.       ]\n",
      " [ 0.        39.        -0.        ...  0.4211488 -0.        -0.       ]]\n",
      "[[ 0.          0.         -0.         ...  3.760726   -0.----] 42.0% ...\n",
      "  -0.        ]\n",
      " [ 0.          1.         -0.         ...  0.4211488  -0.\n",
      "  -0.        ]\n",
      " [ 0.          1.         -0.         ... -0.         -0.\n",
      "   3.5979896 ]\n",
      " ...\n",
      " [ 0.         39.         -0.         ...  0.4211488  -0.\n",
      "  -0.        ]\n",
      " [ 0.         42.         -0.         ...  0.30063772 -0.\n",
      "  -0.        ]\n",
      " [ 0.         42.         -0.         ...  3.5275102  -0.\n",
      "  -0.        ]]\n",
      "[[ 0.          0.         -0.         ...  3.760726   -0.----] 43.0% ...\n",
      "  -0.        ]\n",
      " [ 0.          1.         -0.         ...  0.4211488  -0.\n",
      "  -0.        ]\n",
      " [ 0.          1.         -0.         ... -0.         -0.\n",
      "   3.5979896 ]\n",
      " ...\n",
      " [ 0.         42.         -0.         ...  0.30063772 -0.\n",
      "  -0.        ]\n",
      " [ 0.         42.         -0.         ...  3.5275102  -0.\n",
      "  -0.        ]\n",
      " [ 0.         43.         -0.         ... -0.         -0.\n",
      "  -0.        ]]\n",
      "[[ 0.         0.        -0.        ...  3.760726  -0.        -0.       ]\n",
      " [ 0.         1.        -0.        ...  0.4211488 -0.        -0.       ]\n",
      " [ 0.         1.        -0.        ... -0.        -0.         3.5979896]\n",
      " ...\n",
      " [ 0.        42.        -0.        ...  3.5275102 -0.        -0.       ]\n",
      " [ 0.        43.        -0.        ... -0.        -0.        -0.       ]\n",
      " [ 0.        44.        -0.        ... -0.        -0.        -0.       ]]\n",
      "[[ 0.         0.        -0.        ...  3.760726  -0.        -0.       ]\n",
      " [ 0.         1.        -0.        ...  0.4211488 -0.        -0.       ]\n",
      " [ 0.         1.        -0.        ... -0.        -0.         3.5979896]\n",
      " ...\n",
      " [ 0.        42.        -0.        ...  3.5275102 -0.        -0.       ]\n",
      " [ 0.        43.        -0.        ... -0.        -0.        -0.       ]\n",
      " [ 0.        44.        -0.        ... -0.        -0.        -0.       ]]\n",
      "[[ 0.         0.        -0.        ...  3.760726  -0.        -0.       ]\n",
      " [ 0.         1.        -0.        ...  0.4211488 -0.        -0.       ]\n",
      " [ 0.         1.        -0.        ... -0.        -0.         3.5979896]\n",
      " ...\n",
      " [ 0.        42.        -0.        ...  3.5275102 -0.        -0.       ]\n",
      " [ 0.        43.        -0.        ... -0.        -0.        -0.       ]\n",
      " [ 0.        44.        -0.        ... -0.        -0.        -0.       ]]\n",
      "[[ 0.         0.        -0.        ...  3.760726  -0.        -0.       ]\n",
      " [ 0.         1.        -0.        ...  0.4211488 -0.        -0.       ]\n",
      " [ 0.         1.        -0.        ... -0.        -0.         3.5979896]\n",
      " ...\n",
      " [ 0.        43.        -0.        ... -0.        -0.        -0.       ]\n",
      " [ 0.        44.        -0.        ... -0.        -0.        -0.       ]\n",
      " [ 0.        47.        -0.        ... -0.        -0.        -0.       ]]\n",
      "[[ 0.         0.        -0.        ...  3.760726  -0.        -0.       ]\n",
      " [ 0.         1.        -0.        ...  0.4211488 -0.        -0.       ]\n",
      " [ 0.         1.        -0.        ... -0.        -0.         3.5979896]\n",
      " ...\n",
      " [ 0.        44.        -0.        ... -0.        -0.        -0.       ]\n",
      " [ 0.        47.        -0.        ... -0.        -0.        -0.       ]\n",
      " [ 0.        48.        -0.        ...  0.4970486 -0.         5.0277166]]\n",
      "[[ 0.         0.        -0.        ...  3.760726  -0.        -0.       ]\n",
      " [ 0.         1.        -0.        ...  0.4211488 -0.        -0.       ]\n",
      " [ 0.         1.        -0.        ... -0.        -0.         3.5979896]\n",
      " ...\n",
      " [ 0.        44.        -0.        ... -0.        -0.        -0.       ]\n",
      " [ 0.        47.        -0.        ... -0.        -0.        -0.       ]\n",
      " [ 0.        48.        -0.        ...  0.4970486 -0.         5.0277166]]\n",
      "[[ 0.         0.        -0.        ...  3.760726  -0.        -0.       ]\n",
      " [ 0.         1.        -0.        ...  0.4211488 -0.        -0.       ]\n",
      " [ 0.         1.        -0.        ... -0.        -0.         3.5979896]\n",
      " ...\n",
      " [ 0.        47.        -0.        ... -0.        -0.        -0.       ]\n",
      " [ 0.        48.        -0.        ...  0.4970486 -0.         5.0277166]\n",
      " [ 0.        50.        -0.        ... -0.        -0.        -0.       ]]\n",
      "[[ 0.         0.        -0.        ...  3.760726  -0.        -0.       ]\n",
      " [ 0.         1.        -0.        ...  0.4211488 -0.        -0.       ]\n",
      " [ 0.         1.        -0.        ... -0.        -0.         3.5979896]\n",
      " ...\n",
      " [ 0.        48.        -0.        ...  0.4970486 -0.         5.0277166]\n",
      " [ 0.        50.        -0.        ... -0.        -0.        -0.       ]\n",
      " [ 0.        51.        -0.        ... -0.        -0.        -0.       ]]\n",
      "[[ 0.         0.        -0.        ...  3.760726  -0.        -0.       ]\n",
      " [ 0.         1.        -0.        ...  0.4211488 -0.        -0.       ]\n",
      " [ 0.         1.        -0.        ... -0.        -0.         3.5979896]\n",
      " ...\n",
      " [ 0.        51.        -0.        ... -0.        -0.        -0.       ]\n",
      " [ 0.        52.        -0.        ... -0.        -0.        -0.       ]\n",
      " [ 0.        52.        -0.        ...  5.647515  -0.         0.851339 ]]\n",
      "[[ 0.         0.        -0.        ...  3.760726  -0.        -0.       ]\n",
      " [ 0.         1.        -0.        ...  0.4211488 -0.        -0.       ]\n",
      " [ 0.         1.        -0.        ... -0.        -0.         3.5979896]\n",
      " ...\n",
      " [ 0.        52.        -0.        ... -0.        -0.        -0.       ]\n",
      " [ 0.        52.        -0.        ...  5.647515  -0.         0.851339 ]\n",
      " [ 0.        53.        -0.        ... -0.        -0.        -0.       ]]\n"
     ]
    },
    {
     "name": "stdout",
     "output_type": "stream",
     "text": [
      "[[ 0.         0.        -0.        ...  3.760726  -0.        -0.       ]\n",
      " [ 0.         1.        -0.        ...  0.4211488 -0.        -0.       ]\n",
      " [ 0.         1.        -0.        ... -0.        -0.         3.5979896]\n",
      " ...\n",
      " [ 0.        52.        -0.        ... -0.        -0.        -0.       ]\n",
      " [ 0.        52.        -0.        ...  5.647515  -0.         0.851339 ]\n",
      " [ 0.        53.        -0.        ... -0.        -0.        -0.       ]]\n",
      "[[ 0.         0.        -0.        ...  3.760726  -0.        -0.       ]\n",
      " [ 0.         1.        -0.        ...  0.4211488 -0.        -0.       ]\n",
      " [ 0.         1.        -0.        ... -0.        -0.         3.5979896]\n",
      " ...\n",
      " [ 0.        52.        -0.        ... -0.        -0.        -0.       ]\n",
      " [ 0.        52.        -0.        ...  5.647515  -0.         0.851339 ]\n",
      " [ 0.        53.        -0.        ... -0.        -0.        -0.       ]]\n",
      "[[ 0.         0.        -0.        ...  3.760726  -0.        -0.       ]\n",
      " [ 0.         1.        -0.        ...  0.4211488 -0.        -0.       ]\n",
      " [ 0.         1.        -0.        ... -0.        -0.         3.5979896]\n",
      " ...\n",
      " [ 0.        52.        -0.        ...  5.647515  -0.         0.851339 ]\n",
      " [ 0.        53.        -0.        ... -0.        -0.        -0.       ]\n",
      " [ 0.        56.        -0.        ...  4.0785413 -0.        -0.       ]]\n",
      "[[ 0.         0.        -0.        ...  3.760726  -0.        -0.       ]\n",
      " [ 0.         1.        -0.        ...  0.4211488 -0.        -0.       ]\n",
      " [ 0.         1.        -0.        ... -0.        -0.         3.5979896]\n",
      " ...\n",
      " [ 1.        57.        -0.        ...  1.1761547 -0.        -0.       ]\n",
      " [ 0.        57.        -0.        ...  3.5275102 -0.        -0.       ]\n",
      " [ 0.        57.        -0.        ...  1.3781762 -0.        -0.       ]]\n",
      "[[ 0.         0.        -0.        ...  3.760726  -0.        -0.       ]\n",
      " [ 0.         1.        -0.        ...  0.4211488 -0.        -0.       ]\n",
      " [ 0.         1.        -0.        ... -0.        -0.         3.5979896]\n",
      " ...\n",
      " [ 0.        57.        -0.        ...  1.3781762 -0.        -0.       ]\n",
      " [ 1.        58.        -0.        ...  2.8837833 -0.         1.3222085]\n",
      " [ 1.        58.        -0.        ... -0.        -0.        -0.       ]]\n",
      "[[ 0.         0.        -0.        ...  3.760726  -0.        -0.       ]\n",
      " [ 0.         1.        -0.        ...  0.4211488 -0.        -0.       ]\n",
      " [ 0.         1.        -0.        ... -0.        -0.         3.5979896]\n",
      " ...\n",
      " [ 1.        58.        -0.        ...  2.8837833 -0.         1.3222085]\n",
      " [ 1.        58.        -0.        ... -0.        -0.        -0.       ]\n",
      " [ 0.        59.        -0.        ... -0.        -0.         3.271551 ]]\n",
      "[[ 0.         0.        -0.        ...  3.760726  -0.        -0.       ]\n",
      " [ 0.         1.        -0.        ...  0.4211488 -0.        -0.       ]\n",
      " [ 0.         1.        -0.        ... -0.        -0.         3.5979896]\n",
      " ...\n",
      " [ 1.        58.        -0.        ...  2.8837833 -0.         1.3222085]\n",
      " [ 1.        58.        -0.        ... -0.        -0.        -0.       ]\n",
      " [ 0.        59.        -0.        ... -0.        -0.         3.271551 ]]\n",
      "[[ 0.         0.        -0.        ...  3.760726  -0.        -0.       ]\n",
      " [ 0.         1.        -0.        ...  0.4211488 -0.        -0.       ]\n",
      " [ 0.         1.        -0.        ... -0.        -0.         3.5979896]\n",
      " ...\n",
      " [ 1.        58.        -0.        ...  2.8837833 -0.         1.3222085]\n",
      " [ 1.        58.        -0.        ... -0.        -0.        -0.       ]\n",
      " [ 0.        59.        -0.        ... -0.        -0.         3.271551 ]]\n",
      "[[ 0.         0.        -0.        ...  3.760726  -0.        -0.       ]\n",
      " [ 0.         1.        -0.        ...  0.4211488 -0.        -0.       ]\n",
      " [ 0.         1.        -0.        ... -0.        -0.         3.5979896]\n",
      " ...\n",
      " [ 1.        58.        -0.        ... -0.        -0.        -0.       ]\n",
      " [ 0.        59.        -0.        ... -0.        -0.         3.271551 ]\n",
      " [ 0.        62.        -0.        ... -0.        -0.        -0.       ]]\n",
      "[[ 0.          0.         -0.         ...  3.760726   -0.----] 63.0% ...\n",
      "  -0.        ]\n",
      " [ 0.          1.         -0.         ...  0.4211488  -0.\n",
      "  -0.        ]\n",
      " [ 0.          1.         -0.         ... -0.         -0.\n",
      "   3.5979896 ]\n",
      " ...\n",
      " [ 0.         62.         -0.         ... -0.         -0.\n",
      "  -0.        ]\n",
      " [ 1.         63.         -0.         ... -0.          1.8763129\n",
      "  -0.        ]\n",
      " [ 1.         63.         -0.         ... -0.         -0.\n",
      "   0.70085704]]\n",
      "[[ 0.          0.         -0.         ...  3.760726   -0.----] 64.0% ...\n",
      "  -0.        ]\n",
      " [ 0.          1.         -0.         ...  0.4211488  -0.\n",
      "  -0.        ]\n",
      " [ 0.          1.         -0.         ... -0.         -0.\n",
      "   3.5979896 ]\n",
      " ...\n",
      " [ 1.         63.         -0.         ... -0.         -0.\n",
      "   0.70085704]\n",
      " [ 1.         64.         -0.         ... -0.         -0.\n",
      "  -0.        ]\n",
      " [ 1.         64.         -0.         ... -0.         -0.\n",
      "  -0.        ]]\n",
      "[[ 0.          0.         -0.         ...  3.760726   -0.----] 65.0% ...\n",
      "  -0.        ]\n",
      " [ 0.          1.         -0.         ...  0.4211488  -0.\n",
      "  -0.        ]\n",
      " [ 0.          1.         -0.         ... -0.         -0.\n",
      "   3.5979896 ]\n",
      " ...\n",
      " [ 1.         63.         -0.         ... -0.         -0.\n",
      "   0.70085704]\n",
      " [ 1.         64.         -0.         ... -0.         -0.\n",
      "  -0.        ]\n",
      " [ 1.         64.         -0.         ... -0.         -0.\n",
      "  -0.        ]]\n",
      "[[ 0.          0.         -0.         ...  3.760726   -0.----] 66.0% ...\n",
      "  -0.        ]\n",
      " [ 0.          1.         -0.         ...  0.4211488  -0.\n",
      "  -0.        ]\n",
      " [ 0.          1.         -0.         ... -0.         -0.\n",
      "   3.5979896 ]\n",
      " ...\n",
      " [ 1.         63.         -0.         ... -0.         -0.\n",
      "   0.70085704]\n",
      " [ 1.         64.         -0.         ... -0.         -0.\n",
      "  -0.        ]\n",
      " [ 1.         64.         -0.         ... -0.         -0.\n",
      "  -0.        ]]\n",
      "[[ 0.          0.         -0.         ...  3.760726   -0.----] 67.0% ...\n",
      "  -0.        ]\n",
      " [ 0.          1.         -0.         ...  0.4211488  -0.\n",
      "  -0.        ]\n",
      " [ 0.          1.         -0.         ... -0.         -0.\n",
      "   3.5979896 ]\n",
      " ...\n",
      " [ 1.         63.         -0.         ... -0.         -0.\n",
      "   0.70085704]\n",
      " [ 1.         64.         -0.         ... -0.         -0.\n",
      "  -0.        ]\n",
      " [ 1.         64.         -0.         ... -0.         -0.\n",
      "  -0.        ]]\n",
      "[[ 0.          0.         -0.         ...  3.760726   -0.----] 68.0% ...\n",
      "  -0.        ]\n",
      " [ 0.          1.         -0.         ...  0.4211488  -0.\n",
      "  -0.        ]\n",
      " [ 0.          1.         -0.         ... -0.         -0.\n",
      "   3.5979896 ]\n",
      " ...\n",
      " [ 1.         63.         -0.         ... -0.         -0.\n",
      "   0.70085704]\n",
      " [ 1.         64.         -0.         ... -0.         -0.\n",
      "  -0.        ]\n",
      " [ 1.         64.         -0.         ... -0.         -0.\n",
      "  -0.        ]]\n",
      "[[ 0.         0.        -0.        ...  3.760726  -0.        -0.       ]\n",
      " [ 0.         1.        -0.        ...  0.4211488 -0.        -0.       ]\n",
      " [ 0.         1.        -0.        ... -0.        -0.         3.5979896]\n",
      " ...\n",
      " [ 1.        64.        -0.        ... -0.        -0.        -0.       ]\n",
      " [ 1.        64.        -0.        ... -0.        -0.        -0.       ]\n",
      " [ 0.        69.        -0.        ... -0.        -0.        -0.       ]]\n",
      "[[ 0.         0.        -0.        ...  3.760726  -0.        -0.       ]\n",
      " [ 0.         1.        -0.        ...  0.4211488 -0.        -0.       ]\n",
      " [ 0.         1.        -0.        ... -0.        -0.         3.5979896]\n",
      " ...\n",
      " [ 1.        64.        -0.        ... -0.        -0.        -0.       ]\n",
      " [ 0.        69.        -0.        ... -0.        -0.        -0.       ]\n",
      " [ 0.        70.        -0.        ... -0.        -0.        -0.       ]]\n",
      "[[ 0.         0.        -0.        ...  3.760726  -0.        -0.       ]\n",
      " [ 0.         1.        -0.        ...  0.4211488 -0.        -0.       ]\n",
      " [ 0.         1.        -0.        ... -0.        -0.         3.5979896]\n",
      " ...\n",
      " [ 0.        70.        -0.        ... -0.        -0.        -0.       ]\n",
      " [ 0.        71.        -0.        ... -0.        -0.        -0.       ]\n",
      " [ 0.        71.        -0.        ...  4.0785413 -0.        -0.       ]]\n",
      "[[ 0.         0.        -0.        ...  3.760726  -0.        -0.       ]\n",
      " [ 0.         1.        -0.        ...  0.4211488 -0.        -0.       ]\n",
      " [ 0.         1.        -0.        ... -0.        -0.         3.5979896]\n",
      " ...\n",
      " [ 0.        70.        -0.        ... -0.        -0.        -0.       ]\n",
      " [ 0.        71.        -0.        ... -0.        -0.        -0.       ]\n",
      " [ 0.        71.        -0.        ...  4.0785413 -0.        -0.       ]]\n"
     ]
    },
    {
     "name": "stdout",
     "output_type": "stream",
     "text": [
      "[[ 0.         0.        -0.        ...  3.760726  -0.        -0.       ]\n",
      " [ 0.         1.        -0.        ...  0.4211488 -0.        -0.       ]\n",
      " [ 0.         1.        -0.        ... -0.        -0.         3.5979896]\n",
      " ...\n",
      " [ 0.        71.        -0.        ... -0.        -0.        -0.       ]\n",
      " [ 0.        71.        -0.        ...  4.0785413 -0.        -0.       ]\n",
      " [ 1.        73.        -0.        ...  2.3850055 -0.        -0.       ]]\n",
      "[[ 0.         0.        -0.        ...  3.760726  -0.        -0.       ]\n",
      " [ 0.         1.        -0.        ...  0.4211488 -0.        -0.       ]\n",
      " [ 0.         1.        -0.        ... -0.        -0.         3.5979896]\n",
      " ...\n",
      " [ 0.        71.        -0.        ... -0.        -0.        -0.       ]\n",
      " [ 0.        71.        -0.        ...  4.0785413 -0.        -0.       ]\n",
      " [ 1.        73.        -0.        ...  2.3850055 -0.        -0.       ]]\n",
      "[[ 0.         0.        -0.        ...  3.760726  -0.        -0.       ]\n",
      " [ 0.         1.        -0.        ...  0.4211488 -0.        -0.       ]\n",
      " [ 0.         1.        -0.        ... -0.        -0.         3.5979896]\n",
      " ...\n",
      " [ 0.        71.        -0.        ...  4.0785413 -0.        -0.       ]\n",
      " [ 1.        73.        -0.        ...  2.3850055 -0.        -0.       ]\n",
      " [ 0.        75.        -0.        ... -0.         1.0343889 -0.       ]]\n",
      "[[ 0.0000000e+00  0.0000000e+00 -0.0000000e+00 ...  3.7607260e+00.0% ...\n",
      "  -0.0000000e+00 -0.0000000e+00]\n",
      " [ 0.0000000e+00  1.0000000e+00 -0.0000000e+00 ...  4.2114880e-01\n",
      "  -0.0000000e+00 -0.0000000e+00]\n",
      " [ 0.0000000e+00  1.0000000e+00 -0.0000000e+00 ... -0.0000000e+00\n",
      "  -0.0000000e+00  3.5979896e+00]\n",
      " ...\n",
      " [ 1.0000000e+00  7.3000000e+01 -0.0000000e+00 ...  2.3850055e+00\n",
      "  -0.0000000e+00 -0.0000000e+00]\n",
      " [ 0.0000000e+00  7.5000000e+01 -0.0000000e+00 ... -0.0000000e+00\n",
      "   1.0343889e+00 -0.0000000e+00]\n",
      " [ 0.0000000e+00  7.6000000e+01 -0.0000000e+00 ...  4.6671630e-03\n",
      "  -0.0000000e+00  4.9407410e+00]]\n",
      "[[ 0.0000000e+00  0.0000000e+00 -0.0000000e+00 ...  3.7607260e+00.0% ...\n",
      "  -0.0000000e+00 -0.0000000e+00]\n",
      " [ 0.0000000e+00  1.0000000e+00 -0.0000000e+00 ...  4.2114880e-01\n",
      "  -0.0000000e+00 -0.0000000e+00]\n",
      " [ 0.0000000e+00  1.0000000e+00 -0.0000000e+00 ... -0.0000000e+00\n",
      "  -0.0000000e+00  3.5979896e+00]\n",
      " ...\n",
      " [ 1.0000000e+00  7.7000000e+01 -0.0000000e+00 ...  7.7641835e+00\n",
      "  -0.0000000e+00 -0.0000000e+00]\n",
      " [ 1.0000000e+00  7.7000000e+01 -0.0000000e+00 ... -0.0000000e+00\n",
      "  -0.0000000e+00 -0.0000000e+00]\n",
      " [ 1.0000000e+00  7.7000000e+01 -0.0000000e+00 ...  4.6671630e-03\n",
      "  -0.0000000e+00  4.9407410e+00]]\n",
      "[[ 0.0000000e+00  0.0000000e+00 -0.0000000e+00 ...  3.7607260e+00.0% ...\n",
      "  -0.0000000e+00 -0.0000000e+00]\n",
      " [ 0.0000000e+00  1.0000000e+00 -0.0000000e+00 ...  4.2114880e-01\n",
      "  -0.0000000e+00 -0.0000000e+00]\n",
      " [ 0.0000000e+00  1.0000000e+00 -0.0000000e+00 ... -0.0000000e+00\n",
      "  -0.0000000e+00  3.5979896e+00]\n",
      " ...\n",
      " [ 1.0000000e+00  7.7000000e+01 -0.0000000e+00 ...  7.7641835e+00\n",
      "  -0.0000000e+00 -0.0000000e+00]\n",
      " [ 1.0000000e+00  7.7000000e+01 -0.0000000e+00 ... -0.0000000e+00\n",
      "  -0.0000000e+00 -0.0000000e+00]\n",
      " [ 1.0000000e+00  7.7000000e+01 -0.0000000e+00 ...  4.6671630e-03\n",
      "  -0.0000000e+00  4.9407410e+00]]\n",
      "[[ 0.0000000e+00  0.0000000e+00 -0.0000000e+00 ...  3.7607260e+00.0% ...\n",
      "  -0.0000000e+00 -0.0000000e+00]\n",
      " [ 0.0000000e+00  1.0000000e+00 -0.0000000e+00 ...  4.2114880e-01\n",
      "  -0.0000000e+00 -0.0000000e+00]\n",
      " [ 0.0000000e+00  1.0000000e+00 -0.0000000e+00 ... -0.0000000e+00\n",
      "  -0.0000000e+00  3.5979896e+00]\n",
      " ...\n",
      " [ 1.0000000e+00  7.7000000e+01 -0.0000000e+00 ...  7.7641835e+00\n",
      "  -0.0000000e+00 -0.0000000e+00]\n",
      " [ 1.0000000e+00  7.7000000e+01 -0.0000000e+00 ... -0.0000000e+00\n",
      "  -0.0000000e+00 -0.0000000e+00]\n",
      " [ 1.0000000e+00  7.7000000e+01 -0.0000000e+00 ...  4.6671630e-03\n",
      "  -0.0000000e+00  4.9407410e+00]]\n",
      "[[ 0.0000000e+00  0.0000000e+00 -0.0000000e+00 ...  3.7607260e+00.0% ...\n",
      "  -0.0000000e+00 -0.0000000e+00]\n",
      " [ 0.0000000e+00  1.0000000e+00 -0.0000000e+00 ...  4.2114880e-01\n",
      "  -0.0000000e+00 -0.0000000e+00]\n",
      " [ 0.0000000e+00  1.0000000e+00 -0.0000000e+00 ... -0.0000000e+00\n",
      "  -0.0000000e+00  3.5979896e+00]\n",
      " ...\n",
      " [ 1.0000000e+00  7.7000000e+01 -0.0000000e+00 ... -0.0000000e+00\n",
      "  -0.0000000e+00 -0.0000000e+00]\n",
      " [ 1.0000000e+00  7.7000000e+01 -0.0000000e+00 ...  4.6671630e-03\n",
      "  -0.0000000e+00  4.9407410e+00]\n",
      " [ 0.0000000e+00  8.0000000e+01 -0.0000000e+00 ... -0.0000000e+00\n",
      "  -0.0000000e+00 -0.0000000e+00]]\n",
      "[[ 0.         0.        -0.        ...  3.760726  -0.        -0.       ]\n",
      " [ 0.         1.        -0.        ...  0.4211488 -0.        -0.       ]\n",
      " [ 0.         1.        -0.        ... -0.        -0.         3.5979896]\n",
      " ...\n",
      " [ 0.        81.        -0.        ... -0.        -0.        -0.       ]\n",
      " [ 1.        81.        -0.        ... -0.        -0.        -0.       ]\n",
      " [ 1.        81.        -0.        ...  2.8837833 -0.         1.3222085]]\n",
      "[[ 0.          0.         -0.         ...  3.760726   -0.----] 82.0% ...\n",
      "  -0.        ]\n",
      " [ 0.          1.         -0.         ...  0.4211488  -0.\n",
      "  -0.        ]\n",
      " [ 0.          1.         -0.         ... -0.         -0.\n",
      "   3.5979896 ]\n",
      " ...\n",
      " [ 1.         81.         -0.         ... -0.         -0.\n",
      "  -0.        ]\n",
      " [ 1.         81.         -0.         ...  2.8837833  -0.\n",
      "   1.3222085 ]\n",
      " [ 0.         82.         -0.         ...  0.30063772 -0.\n",
      "  -0.        ]]\n",
      "[[ 0.          0.         -0.         ...  3.760726   -0.----] 83.0% ...\n",
      "  -0.        ]\n",
      " [ 0.          1.         -0.         ...  0.4211488  -0.\n",
      "  -0.        ]\n",
      " [ 0.          1.         -0.         ... -0.         -0.\n",
      "   3.5979896 ]\n",
      " ...\n",
      " [ 1.         81.         -0.         ... -0.         -0.\n",
      "  -0.        ]\n",
      " [ 1.         81.         -0.         ...  2.8837833  -0.\n",
      "   1.3222085 ]\n",
      " [ 0.         82.         -0.         ...  0.30063772 -0.\n",
      "  -0.        ]]\n",
      "[[ 0.0000000e+00  0.0000000e+00 -0.0000000e+00 ...  3.7607260e+00.0% ...\n",
      "  -0.0000000e+00 -0.0000000e+00]\n",
      " [ 0.0000000e+00  1.0000000e+00 -0.0000000e+00 ...  4.2114880e-01\n",
      "  -0.0000000e+00 -0.0000000e+00]\n",
      " [ 0.0000000e+00  1.0000000e+00 -0.0000000e+00 ... -0.0000000e+00\n",
      "  -0.0000000e+00  3.5979896e+00]\n",
      " ...\n",
      " [ 1.0000000e+00  8.4000000e+01 -0.0000000e+00 ... -0.0000000e+00\n",
      "  -0.0000000e+00  1.6311076e-02]\n",
      " [ 1.0000000e+00  8.4000000e+01 -0.0000000e+00 ... -0.0000000e+00\n",
      "  -0.0000000e+00 -0.0000000e+00]\n",
      " [ 1.0000000e+00  8.4000000e+01 -0.0000000e+00 ...  4.6671630e-03\n",
      "  -0.0000000e+00  4.9407410e+00]]\n",
      "[[ 0.0000000e+00  0.0000000e+00 -0.0000000e+00 ...  3.7607260e+00.0% ...\n",
      "  -0.0000000e+00 -0.0000000e+00]\n",
      " [ 0.0000000e+00  1.0000000e+00 -0.0000000e+00 ...  4.2114880e-01\n",
      "  -0.0000000e+00 -0.0000000e+00]\n",
      " [ 0.0000000e+00  1.0000000e+00 -0.0000000e+00 ... -0.0000000e+00\n",
      "  -0.0000000e+00  3.5979896e+00]\n",
      " ...\n",
      " [ 1.0000000e+00  8.4000000e+01 -0.0000000e+00 ... -0.0000000e+00\n",
      "  -0.0000000e+00  1.6311076e-02]\n",
      " [ 1.0000000e+00  8.4000000e+01 -0.0000000e+00 ... -0.0000000e+00\n",
      "  -0.0000000e+00 -0.0000000e+00]\n",
      " [ 1.0000000e+00  8.4000000e+01 -0.0000000e+00 ...  4.6671630e-03\n",
      "  -0.0000000e+00  4.9407410e+00]]\n",
      "[[ 0.0000000e+00  0.0000000e+00 -0.0000000e+00 ...  3.7607260e+00.0% ...\n",
      "  -0.0000000e+00 -0.0000000e+00]\n",
      " [ 0.0000000e+00  1.0000000e+00 -0.0000000e+00 ...  4.2114880e-01\n",
      "  -0.0000000e+00 -0.0000000e+00]\n",
      " [ 0.0000000e+00  1.0000000e+00 -0.0000000e+00 ... -0.0000000e+00\n",
      "  -0.0000000e+00  3.5979896e+00]\n",
      " ...\n",
      " [ 1.0000000e+00  8.4000000e+01 -0.0000000e+00 ... -0.0000000e+00\n",
      "  -0.0000000e+00  1.6311076e-02]\n",
      " [ 1.0000000e+00  8.4000000e+01 -0.0000000e+00 ... -0.0000000e+00\n",
      "  -0.0000000e+00 -0.0000000e+00]\n",
      " [ 1.0000000e+00  8.4000000e+01 -0.0000000e+00 ...  4.6671630e-03\n",
      "  -0.0000000e+00  4.9407410e+00]]\n",
      "[[ 0.0000000e+00  0.0000000e+00 -0.0000000e+00 ...  3.7607260e+00.0% ...\n",
      "  -0.0000000e+00 -0.0000000e+00]\n",
      " [ 0.0000000e+00  1.0000000e+00 -0.0000000e+00 ...  4.2114880e-01\n",
      "  -0.0000000e+00 -0.0000000e+00]\n",
      " [ 0.0000000e+00  1.0000000e+00 -0.0000000e+00 ... -0.0000000e+00\n",
      "  -0.0000000e+00  3.5979896e+00]\n",
      " ...\n",
      " [ 1.0000000e+00  8.4000000e+01 -0.0000000e+00 ... -0.0000000e+00\n",
      "  -0.0000000e+00  1.6311076e-02]\n",
      " [ 1.0000000e+00  8.4000000e+01 -0.0000000e+00 ... -0.0000000e+00\n",
      "  -0.0000000e+00 -0.0000000e+00]\n",
      " [ 1.0000000e+00  8.4000000e+01 -0.0000000e+00 ...  4.6671630e-03\n",
      "  -0.0000000e+00  4.9407410e+00]]\n",
      "[[ 0.0000000e+00  0.0000000e+00 -0.0000000e+00 ...  3.7607260e+00.0% ...\n",
      "  -0.0000000e+00 -0.0000000e+00]\n",
      " [ 0.0000000e+00  1.0000000e+00 -0.0000000e+00 ...  4.2114880e-01\n",
      "  -0.0000000e+00 -0.0000000e+00]\n",
      " [ 0.0000000e+00  1.0000000e+00 -0.0000000e+00 ... -0.0000000e+00\n",
      "  -0.0000000e+00  3.5979896e+00]\n",
      " ...\n",
      " [ 1.0000000e+00  8.4000000e+01 -0.0000000e+00 ... -0.0000000e+00\n",
      "  -0.0000000e+00  1.6311076e-02]\n",
      " [ 1.0000000e+00  8.4000000e+01 -0.0000000e+00 ... -0.0000000e+00\n",
      "  -0.0000000e+00 -0.0000000e+00]\n",
      " [ 1.0000000e+00  8.4000000e+01 -0.0000000e+00 ...  4.6671630e-03\n",
      "  -0.0000000e+00  4.9407410e+00]]\n",
      "[[ 0.0000000e+00  0.0000000e+00 -0.0000000e+00 ...  3.7607260e+00.0% ...\n",
      "  -0.0000000e+00 -0.0000000e+00]\n",
      " [ 0.0000000e+00  1.0000000e+00 -0.0000000e+00 ...  4.2114880e-01\n",
      "  -0.0000000e+00 -0.0000000e+00]\n",
      " [ 0.0000000e+00  1.0000000e+00 -0.0000000e+00 ... -0.0000000e+00\n",
      "  -0.0000000e+00  3.5979896e+00]\n",
      " ...\n",
      " [ 1.0000000e+00  8.9000000e+01 -0.0000000e+00 ... -0.0000000e+00\n",
      "  -0.0000000e+00  1.6311076e-02]\n",
      " [ 1.0000000e+00  8.9000000e+01 -0.0000000e+00 ...  7.7641835e+00\n",
      "  -0.0000000e+00 -0.0000000e+00]\n",
      " [ 1.0000000e+00  8.9000000e+01 -0.0000000e+00 ...  4.6671630e-03\n",
      "  -0.0000000e+00  4.9407410e+00]]\n",
      "[[ 0.0000000e+00  0.0000000e+00 -0.0000000e+00 ...  3.7607260e+00.0% ...\n",
      "  -0.0000000e+00 -0.0000000e+00]\n",
      " [ 0.0000000e+00  1.0000000e+00 -0.0000000e+00 ...  4.2114880e-01\n",
      "  -0.0000000e+00 -0.0000000e+00]\n",
      " [ 0.0000000e+00  1.0000000e+00 -0.0000000e+00 ... -0.0000000e+00\n",
      "  -0.0000000e+00  3.5979896e+00]\n",
      " ...\n",
      " [ 1.0000000e+00  8.9000000e+01 -0.0000000e+00 ... -0.0000000e+00\n",
      "  -0.0000000e+00  1.6311076e-02]\n",
      " [ 1.0000000e+00  8.9000000e+01 -0.0000000e+00 ...  7.7641835e+00\n",
      "  -0.0000000e+00 -0.0000000e+00]\n",
      " [ 1.0000000e+00  8.9000000e+01 -0.0000000e+00 ...  4.6671630e-03\n",
      "  -0.0000000e+00  4.9407410e+00]]\n",
      "[[ 0.0000000e+00  0.0000000e+00 -0.0000000e+00 ...  3.7607260e+00.0% ...\n",
      "  -0.0000000e+00 -0.0000000e+00]\n",
      " [ 0.0000000e+00  1.0000000e+00 -0.0000000e+00 ...  4.2114880e-01\n",
      "  -0.0000000e+00 -0.0000000e+00]\n",
      " [ 0.0000000e+00  1.0000000e+00 -0.0000000e+00 ... -0.0000000e+00\n",
      "  -0.0000000e+00  3.5979896e+00]\n",
      " ...\n",
      " [ 1.0000000e+00  9.1000000e+01 -0.0000000e+00 ... -0.0000000e+00\n",
      "  -0.0000000e+00  1.6311076e-02]\n",
      " [ 1.0000000e+00  9.1000000e+01 -0.0000000e+00 ...  7.7641835e+00\n",
      "  -0.0000000e+00 -0.0000000e+00]\n",
      " [ 1.0000000e+00  9.1000000e+01 -0.0000000e+00 ... -0.0000000e+00\n",
      "  -0.0000000e+00 -0.0000000e+00]]\n",
      "[[ 0.0000000e+00  0.0000000e+00 -0.0000000e+00 ...  3.7607260e+00.0% ...\n",
      "  -0.0000000e+00 -0.0000000e+00]\n",
      " [ 0.0000000e+00  1.0000000e+00 -0.0000000e+00 ...  4.2114880e-01\n",
      "  -0.0000000e+00 -0.0000000e+00]\n",
      " [ 0.0000000e+00  1.0000000e+00 -0.0000000e+00 ... -0.0000000e+00\n",
      "  -0.0000000e+00  3.5979896e+00]\n",
      " ...\n",
      " [ 1.0000000e+00  9.1000000e+01 -0.0000000e+00 ... -0.0000000e+00\n",
      "  -0.0000000e+00  1.6311076e-02]\n",
      " [ 1.0000000e+00  9.1000000e+01 -0.0000000e+00 ...  7.7641835e+00\n",
      "  -0.0000000e+00 -0.0000000e+00]\n",
      " [ 1.0000000e+00  9.1000000e+01 -0.0000000e+00 ... -0.0000000e+00\n",
      "  -0.0000000e+00 -0.0000000e+00]]\n",
      "[[ 0.         0.        -0.        ...  3.760726  -0.        -0.       ]\n",
      " [ 0.         1.        -0.        ...  0.4211488 -0.        -0.       ]\n",
      " [ 0.         1.        -0.        ... -0.        -0.         3.5979896]\n",
      " ...\n",
      " [ 1.        91.        -0.        ...  7.7641835 -0.        -0.       ]\n",
      " [ 1.        91.        -0.        ... -0.        -0.        -0.       ]\n",
      " [ 0.        93.        -0.        ... -0.        -0.        -0.       ]]\n",
      "[[ 0.         0.        -0.        ...  3.760726  -0.        -0.       ]\n",
      " [ 0.         1.        -0.        ...  0.4211488 -0.        -0.       ]\n",
      " [ 0.         1.        -0.        ... -0.        -0.         3.5979896]\n",
      " ...\n",
      " [ 1.        91.        -0.        ... -0.        -0.        -0.       ]\n",
      " [ 0.        93.        -0.        ... -0.        -0.        -0.       ]\n",
      " [ 0.        94.        -0.        ... -0.        -0.        -0.       ]]\n",
      "[[ 0.         0.        -0.        ...  3.760726  -0.        -0.       ]\n",
      " [ 0.         1.        -0.        ...  0.4211488 -0.        -0.       ]\n",
      " [ 0.         1.        -0.        ... -0.        -0.         3.5979896]\n",
      " ...\n",
      " [ 1.        91.        -0.        ... -0.        -0.        -0.       ]\n",
      " [ 0.        93.        -0.        ... -0.        -0.        -0.       ]\n",
      " [ 0.        94.        -0.        ... -0.        -0.        -0.       ]]\n",
      "[[ 0.         0.        -0.        ...  3.760726  -0.        -0.       ]\n",
      " [ 0.         1.        -0.        ...  0.4211488 -0.        -0.       ]\n",
      " [ 0.         1.        -0.        ... -0.        -0.         3.5979896]\n",
      " ...\n",
      " [ 1.        91.        -0.        ... -0.        -0.        -0.       ]\n",
      " [ 0.        93.        -0.        ... -0.        -0.        -0.       ]\n",
      " [ 0.        94.        -0.        ... -0.        -0.        -0.       ]]\n",
      "[[ 0.         0.        -0.        ...  3.760726  -0.        -0.       ]\n",
      " [ 0.         1.        -0.        ...  0.4211488 -0.        -0.       ]\n",
      " [ 0.         1.        -0.        ... -0.        -0.         3.5979896]\n",
      " ...\n",
      " [ 0.        93.        -0.        ... -0.        -0.        -0.       ]\n",
      " [ 0.        94.        -0.        ... -0.        -0.        -0.       ]\n",
      " [ 0.        97.        -0.        ... -0.        -0.        -0.       ]]\n",
      "[[ 0.         0.        -0.        ...  3.760726  -0.        -0.       ]\n",
      " [ 0.         1.        -0.        ...  0.4211488 -0.        -0.       ]\n",
      " [ 0.         1.        -0.        ... -0.        -0.         3.5979896]\n",
      " ...\n",
      " [ 0.        93.        -0.        ... -0.        -0.        -0.       ]\n",
      " [ 0.        94.        -0.        ... -0.        -0.        -0.       ]\n",
      " [ 0.        97.        -0.        ... -0.        -0.        -0.       ]]\n",
      "[[ 0.         0.        -0.        ...  3.760726  -0.        -0.       ]\n",
      " [ 0.         1.        -0.        ...  0.4211488 -0.        -0.       ]\n",
      " [ 0.         1.        -0.        ... -0.        -0.         3.5979896]\n",
      " ...\n",
      " [ 0.        93.        -0.        ... -0.        -0.        -0.       ]\n",
      " [ 0.        94.        -0.        ... -0.        -0.        -0.       ]\n",
      " [ 0.        97.        -0.        ... -0.        -0.        -0.       ]]\n"
     ]
    }
   ],
   "source": [
    "bottleneck_features = pd.read_csv('data/bottleneck_features_train.csv')\n",
    "def make_dataset(bottleneck_features, indices):\n",
    "    data_array = None\n",
    "    for x in range(100):\n",
    "        progress(x,100)\n",
    "        data_array = add_row(data_array, bottleneck_features, indices, x)\n",
    "        print(data_array)\n",
    "    dataframe = pd.DataFrame(data_array)\n",
    "    dataframe.to_csv(\"data/paired_data.csv\", sep=',', encoding='utf-8')\n",
    "\n",
    "make_dataset(bottleneck_features, indices)"
   ]
  },
  {
   "cell_type": "code",
   "execution_count": 15,
   "metadata": {},
   "outputs": [
    {
     "name": "stdout",
     "output_type": "stream",
     "text": [
      "[0. 0. 0. 1. 1. 0. 1. 1. 0. 1. 0. 1. 1. 1. 1. 1. 1. 1. 1. 1. 0. 0. 0. 0.\n",
      " 0. 0. 0. 0. 0. 0. 0. 0. 0. 0. 0. 0. 0. 0. 0. 0. 0. 1. 0. 0. 1. 1. 0. 0.\n",
      " 1. 1. 1. 1. 0. 0. 0. 0. 1. 0. 0. 1. 1. 1. 1. 1. 0. 0. 1. 1. 0. 0. 1. 1.\n",
      " 1. 1. 1. 1. 1. 1. 1. 1. 1. 1. 1. 1. 1. 0. 0. 0.]\n",
      "      2         3    4    5    6    7         8         9   10        11  ...  \\\n",
      "0  -0.0 -0.000000 -0.0 -0.0 -0.0 -0.0 -0.000000 -0.000000 -0.0 -0.000000  ...   \n",
      "1  -0.0 -0.000000 -0.0 -0.0 -0.0 -0.0 -0.000000 -0.000000 -0.0 -0.000000  ...   \n",
      "2  -0.0 -0.000000 -0.0 -0.0 -0.0 -0.0 -0.000000 -0.000000 -0.0 -0.000000  ...   \n",
      "3  -0.0 -0.000000 -0.0 -0.0 -0.0 -0.0 -0.000000 -0.000000 -0.0 -0.000000  ...   \n",
      "4  -0.0 -0.000000 -0.0 -0.0 -0.0 -0.0 -0.000000 -0.000000 -0.0 -0.000000  ...   \n",
      "5  -0.0 -0.000000 -0.0 -0.0 -0.0 -0.0 -0.000000 -0.000000 -0.0 -0.000000  ...   \n",
      "6  -0.0 -0.000000 -0.0 -0.0 -0.0 -0.0 -0.000000 -0.000000 -0.0 -0.000000  ...   \n",
      "7  -0.0 -0.000000 -0.0 -0.0 -0.0 -0.0 -0.000000 -0.000000 -0.0 -0.000000  ...   \n",
      "8  -0.0 -0.000000 -0.0 -0.0 -0.0 -0.0 -0.000000 -0.000000 -0.0 -0.000000  ...   \n",
      "9  -0.0 -0.000000 -0.0 -0.0 -0.0 -0.0 -0.000000 -0.000000 -0.0 -0.000000  ...   \n",
      "10 -0.0 -0.000000 -0.0 -0.0 -0.0 -0.0 -0.000000 -0.000000 -0.0 -0.000000  ...   \n",
      "11 -0.0 -0.000000 -0.0 -0.0 -0.0 -0.0 -0.000000 -0.000000 -0.0 -0.000000  ...   \n",
      "12 -0.0 -0.000000 -0.0 -0.0 -0.0 -0.0 -0.000000 -0.000000 -0.0 -0.000000  ...   \n",
      "13 -0.0 -0.000000 -0.0 -0.0 -0.0 -0.0 -0.000000 -0.000000 -0.0 -0.000000  ...   \n",
      "14 -0.0 -0.000000 -0.0 -0.0 -0.0 -0.0 -0.000000 -0.000000 -0.0 -0.000000  ...   \n",
      "15 -0.0 -0.000000 -0.0 -0.0 -0.0 -0.0 -0.000000 -0.000000 -0.0 -0.000000  ...   \n",
      "16 -0.0 -0.000000 -0.0 -0.0 -0.0 -0.0 -0.000000 -0.000000 -0.0 -0.000000  ...   \n",
      "17 -0.0 -0.000000 -0.0 -0.0 -0.0 -0.0 -0.000000 -0.000000 -0.0 -0.000000  ...   \n",
      "18 -0.0 -0.000000 -0.0 -0.0 -0.0 -0.0 -0.000000 -0.000000 -0.0 -0.000000  ...   \n",
      "19 -0.0 -0.000000 -0.0 -0.0 -0.0 -0.0 -0.000000 -0.000000 -0.0 -0.000000  ...   \n",
      "20 -0.0 -0.000000 -0.0 -0.0 -0.0 -0.0 -0.000000 -0.000000 -0.0 -0.000000  ...   \n",
      "21 -0.0 -0.000000 -0.0 -0.0 -0.0 -0.0 -0.000000 -0.000000 -0.0 -0.000000  ...   \n",
      "22 -0.0 -0.000000 -0.0 -0.0 -0.0 -0.0 -0.000000 -0.000000 -0.0 -0.000000  ...   \n",
      "23 -0.0 -0.000000 -0.0 -0.0 -0.0 -0.0 -0.000000 -0.000000 -0.0  2.020675  ...   \n",
      "24 -0.0  0.216361 -0.0 -0.0 -0.0 -0.0 -0.000000 -0.000000 -0.0 -0.000000  ...   \n",
      "25 -0.0  0.216361 -0.0 -0.0 -0.0 -0.0 -0.000000 -0.000000 -0.0 -0.000000  ...   \n",
      "26 -0.0  1.395765 -0.0 -0.0 -0.0 -0.0 -0.000000 -0.000000 -0.0 -0.000000  ...   \n",
      "27 -0.0 -0.000000 -0.0 -0.0 -0.0 -0.0 -0.000000 -0.000000 -0.0 -0.000000  ...   \n",
      "28 -0.0 -0.000000 -0.0 -0.0 -0.0 -0.0 -0.000000 -0.000000 -0.0 -0.000000  ...   \n",
      "29 -0.0 -0.000000 -0.0 -0.0 -0.0 -0.0 -0.000000 -0.000000 -0.0 -0.000000  ...   \n",
      "..  ...       ...  ...  ...  ...  ...       ...       ...  ...       ...  ...   \n",
      "58 -0.0 -0.000000 -0.0 -0.0 -0.0 -0.0 -0.000000 -0.000000 -0.0  2.214128  ...   \n",
      "59 -0.0  2.713595 -0.0 -0.0 -0.0 -0.0 -0.000000 -0.000000 -0.0 -0.000000  ...   \n",
      "60 -0.0  2.713595 -0.0 -0.0 -0.0 -0.0 -0.000000 -0.000000 -0.0 -0.000000  ...   \n",
      "61 -0.0  2.713595 -0.0 -0.0 -0.0 -0.0 -0.000000 -0.000000 -0.0 -0.000000  ...   \n",
      "62 -0.0  2.713595 -0.0 -0.0 -0.0 -0.0 -0.000000 -0.000000 -0.0 -0.000000  ...   \n",
      "63 -0.0  2.713595 -0.0 -0.0 -0.0 -0.0 -0.000000 -0.000000 -0.0 -0.000000  ...   \n",
      "64 -0.0 -0.000000 -0.0 -0.0 -0.0 -0.0 -0.000000  0.538328 -0.0 -0.000000  ...   \n",
      "65 -0.0 -0.000000 -0.0 -0.0 -0.0 -0.0 -0.000000 -0.000000 -0.0 -0.000000  ...   \n",
      "66 -0.0 -0.000000 -0.0 -0.0 -0.0 -0.0 -0.000000 -0.000000 -0.0 -0.000000  ...   \n",
      "67 -0.0 -0.000000 -0.0 -0.0 -0.0 -0.0 -0.000000 -0.000000 -0.0 -0.000000  ...   \n",
      "68 -0.0 -0.000000 -0.0 -0.0 -0.0 -0.0 -0.000000 -0.000000 -0.0 -0.000000  ...   \n",
      "69 -0.0 -0.000000 -0.0 -0.0 -0.0 -0.0 -0.000000 -0.000000 -0.0 -0.000000  ...   \n",
      "70 -0.0 -0.000000 -0.0 -0.0 -0.0 -0.0 -0.000000 -0.000000 -0.0 -0.000000  ...   \n",
      "71 -0.0 -0.000000 -0.0 -0.0 -0.0 -0.0 -0.000000 -0.000000 -0.0 -0.000000  ...   \n",
      "72 -0.0 -0.000000 -0.0 -0.0 -0.0 -0.0 -0.000000 -0.000000 -0.0 -0.000000  ...   \n",
      "73 -0.0 -0.000000 -0.0 -0.0 -0.0 -0.0 -0.000000 -0.000000 -0.0 -0.000000  ...   \n",
      "74 -0.0 -0.000000 -0.0 -0.0 -0.0 -0.0 -0.000000 -0.000000 -0.0 -0.000000  ...   \n",
      "75 -0.0 -0.000000 -0.0 -0.0 -0.0 -0.0 -0.000000 -0.000000 -0.0 -0.000000  ...   \n",
      "76 -0.0 -0.000000 -0.0 -0.0 -0.0 -0.0 -0.000000 -0.000000 -0.0 -0.000000  ...   \n",
      "77 -0.0 -0.000000 -0.0 -0.0 -0.0 -0.0 -0.000000 -0.000000 -0.0 -0.000000  ...   \n",
      "78 -0.0 -0.000000 -0.0 -0.0 -0.0 -0.0 -0.000000 -0.000000 -0.0 -0.000000  ...   \n",
      "79 -0.0 -0.000000 -0.0 -0.0 -0.0 -0.0 -0.000000 -0.000000 -0.0 -0.000000  ...   \n",
      "80 -0.0  2.850330 -0.0 -0.0 -0.0 -0.0 -0.000000 -0.000000 -0.0 -0.000000  ...   \n",
      "81 -0.0  2.850330 -0.0 -0.0 -0.0 -0.0 -0.000000 -0.000000 -0.0 -0.000000  ...   \n",
      "82 -0.0  2.850330 -0.0 -0.0 -0.0 -0.0 -0.000000 -0.000000 -0.0 -0.000000  ...   \n",
      "83 -0.0  2.850330 -0.0 -0.0 -0.0 -0.0 -0.000000 -0.000000 -0.0 -0.000000  ...   \n",
      "84 -0.0  2.850330 -0.0 -0.0 -0.0 -0.0 -0.000000 -0.000000 -0.0 -0.000000  ...   \n",
      "85 -0.0 -0.000000 -0.0 -0.0 -0.0 -0.0 -0.000000 -0.000000 -0.0 -0.000000  ...   \n",
      "86 -0.0 -0.000000 -0.0 -0.0 -0.0 -0.0 -0.000000 -0.000000 -0.0 -0.000000  ...   \n",
      "87 -0.0 -0.000000 -0.0 -0.0 -0.0 -0.0  0.924161 -0.000000 -0.0 -0.000000  ...   \n",
      "\n",
      "    200697   200698    200699    200700    200701    200702    200703  \\\n",
      "0     -0.0 -0.00000 -0.000000 -0.000000 -0.000000 -0.000000  1.463361   \n",
      "1     -0.0 -0.00000 -0.000000 -0.000000 -0.000000 -0.000000 -0.000000   \n",
      "2     -0.0 -0.00000 -0.000000 -0.000000 -0.000000 -0.000000 -0.000000   \n",
      "3     -0.0 -0.00000 -0.000000 -0.000000 -0.000000 -0.000000 -0.000000   \n",
      "4     -0.0 -0.00000 -0.000000  0.043089 -0.000000 -0.000000 -0.000000   \n",
      "5     -0.0 -0.00000 -0.000000 -0.000000 -0.000000 -0.000000 -0.000000   \n",
      "6     -0.0 -0.00000 -0.000000  8.360689  2.249724  1.941945  0.535755   \n",
      "7     -0.0 -0.00000 -0.000000  0.043089 -0.000000 -0.000000 -0.000000   \n",
      "8     -0.0 -0.00000 -0.000000 -0.000000 -0.000000 -0.000000 -0.000000   \n",
      "9     -0.0 -0.00000 -0.000000 -0.000000 -0.000000 -0.000000 -0.000000   \n",
      "10    -0.0  0.21334  5.215451 -0.000000 -0.000000 -0.000000 -0.000000   \n",
      "11    -0.0 -0.00000 -0.000000 -0.000000 -0.000000 -0.000000 -0.000000   \n",
      "12    -0.0 -0.00000 -0.000000 -0.000000 -0.000000 -0.000000 -0.000000   \n",
      "13    -0.0 -0.00000 -0.000000 -0.000000 -0.000000 -0.000000 -0.000000   \n",
      "14    -0.0 -0.00000  1.371629 -0.000000 -0.000000 -0.000000 -0.000000   \n",
      "15    -0.0 -0.00000 -0.000000 -0.000000 -0.000000 -0.000000 -0.000000   \n",
      "16    -0.0 -0.00000 -0.000000 -0.000000 -0.000000 -0.000000 -0.000000   \n",
      "17    -0.0 -0.00000 -0.000000 -0.000000 -0.000000 -0.000000 -0.000000   \n",
      "18    -0.0 -0.00000 -0.000000 -0.000000 -0.000000 -0.000000 -0.000000   \n",
      "19    -0.0 -0.00000  1.371629 -0.000000 -0.000000 -0.000000 -0.000000   \n",
      "20    -0.0 -0.00000 -0.000000 -0.000000  1.088283 -0.000000 -0.000000   \n",
      "21    -0.0 -0.00000 -0.000000 -0.000000 -0.000000 -0.000000 -0.000000   \n",
      "22    -0.0 -0.00000  0.047105 -0.000000 -0.000000 -0.000000 -0.000000   \n",
      "23    -0.0 -0.00000  5.309541 -0.000000 -0.000000 -0.000000  1.108372   \n",
      "24    -0.0 -0.00000 -0.000000 -0.000000 -0.000000 -0.000000 -0.000000   \n",
      "25    -0.0 -0.00000 -0.000000 -0.000000 -0.000000 -0.000000 -0.000000   \n",
      "26    -0.0 -0.00000 -0.000000 -0.000000 -0.000000  0.624927  3.956773   \n",
      "27    -0.0 -0.00000 -0.000000 -0.000000 -0.000000 -0.000000 -0.000000   \n",
      "28    -0.0 -0.00000 -0.000000 -0.000000 -0.000000 -0.000000 -0.000000   \n",
      "29    -0.0 -0.00000 -0.000000 -0.000000 -0.000000 -0.000000 -0.000000   \n",
      "..     ...      ...       ...       ...       ...       ...       ...   \n",
      "58    -0.0 -0.00000  1.371629 -0.000000 -0.000000 -0.000000 -0.000000   \n",
      "59    -0.0 -0.00000 -0.000000 -0.000000 -0.000000 -0.000000 -0.000000   \n",
      "60    -0.0 -0.00000 -0.000000 -0.000000 -0.000000 -0.000000 -0.000000   \n",
      "61    -0.0 -0.00000 -0.000000 -0.000000 -0.000000 -0.000000 -0.000000   \n",
      "62    -0.0 -0.00000 -0.000000 -0.000000 -0.000000 -0.000000 -0.000000   \n",
      "63    -0.0 -0.00000  1.371629 -0.000000 -0.000000 -0.000000 -0.000000   \n",
      "64    -0.0 -0.00000  3.202219  2.600021 -0.000000 -0.000000 -0.000000   \n",
      "65    -0.0  0.05062  1.345346 -0.000000 -0.000000 -0.000000  0.368553   \n",
      "66    -0.0 -0.00000 -0.000000 -0.000000 -0.000000 -0.000000 -0.000000   \n",
      "67    -0.0 -0.00000 -0.000000 -0.000000 -0.000000 -0.000000 -0.000000   \n",
      "68    -0.0 -0.00000 -0.000000 -0.000000 -0.000000 -0.000000 -0.000000   \n",
      "69    -0.0 -0.00000 -0.000000 -0.000000 -0.000000 -0.000000 -0.000000   \n",
      "70    -0.0 -0.00000 -0.000000 -0.000000 -0.000000 -0.000000 -0.000000   \n",
      "71    -0.0 -0.00000 -0.000000 -0.000000 -0.000000 -0.000000 -0.000000   \n",
      "72    -0.0 -0.00000 -0.000000 -0.000000 -0.000000 -0.000000 -0.000000   \n",
      "73    -0.0 -0.00000 -0.000000 -0.000000 -0.000000 -0.000000 -0.000000   \n",
      "74    -0.0 -0.00000  1.371629 -0.000000 -0.000000 -0.000000 -0.000000   \n",
      "75    -0.0 -0.00000 -0.000000 -0.000000 -0.000000 -0.000000 -0.000000   \n",
      "76    -0.0 -0.00000 -0.000000 -0.000000 -0.000000 -0.000000 -0.000000   \n",
      "77    -0.0 -0.00000 -0.000000 -0.000000 -0.000000 -0.000000 -0.000000   \n",
      "78    -0.0 -0.00000 -0.000000 -0.000000 -0.000000 -0.000000 -0.000000   \n",
      "79    -0.0 -0.00000  1.371629 -0.000000 -0.000000 -0.000000 -0.000000   \n",
      "80    -0.0 -0.00000 -0.000000 -0.000000 -0.000000 -0.000000 -0.000000   \n",
      "81    -0.0 -0.00000 -0.000000 -0.000000 -0.000000 -0.000000 -0.000000   \n",
      "82    -0.0 -0.00000 -0.000000 -0.000000 -0.000000 -0.000000 -0.000000   \n",
      "83    -0.0 -0.00000 -0.000000 -0.000000 -0.000000 -0.000000 -0.000000   \n",
      "84    -0.0 -0.00000 -0.000000 -0.000000 -0.000000 -0.000000 -0.000000   \n",
      "85    -0.0 -0.00000 -0.000000 -0.000000  0.054143 -0.000000 -0.000000   \n",
      "86    -0.0 -0.00000 -0.000000 -0.000000 -0.000000 -0.000000 -0.000000   \n",
      "87    -0.0 -0.00000 -0.000000 -0.000000 -0.000000 -0.000000 -0.000000   \n",
      "\n",
      "       200704    200705    200706  \n",
      "0    3.760726 -0.000000 -0.000000  \n",
      "1    0.421149 -0.000000 -0.000000  \n",
      "2   -0.000000 -0.000000  3.597990  \n",
      "3   -0.000000 -0.000000  0.700857  \n",
      "4    7.673173 -0.000000 -0.000000  \n",
      "5    8.336096 -0.000000 -0.000000  \n",
      "6   -0.000000  1.876313 -0.000000  \n",
      "7    7.673173 -0.000000 -0.000000  \n",
      "8   11.594758 -0.000000 -0.000000  \n",
      "9   -0.000000 -0.000000 -0.000000  \n",
      "10  -0.000000 -0.000000 -0.000000  \n",
      "11  -0.000000 -0.000000  0.016311  \n",
      "12   7.764184 -0.000000 -0.000000  \n",
      "13  -0.000000 -0.000000 -0.000000  \n",
      "14   0.004667 -0.000000  4.940741  \n",
      "15  -0.000000 -0.000000 -0.000000  \n",
      "16  -0.000000 -0.000000  0.016311  \n",
      "17   7.764184 -0.000000 -0.000000  \n",
      "18  -0.000000 -0.000000 -0.000000  \n",
      "19   0.004667 -0.000000  4.940741  \n",
      "20  -0.000000 -0.000000 -0.000000  \n",
      "21  -0.000000 -0.000000 -0.000000  \n",
      "22  -0.000000 -0.000000 -0.000000  \n",
      "23  -0.000000 -0.000000 -0.000000  \n",
      "24  -0.000000 -0.000000 -0.000000  \n",
      "25   1.171318  0.316118 -0.000000  \n",
      "26   1.378176 -0.000000 -0.000000  \n",
      "27  -0.000000 -0.000000 -0.000000  \n",
      "28   0.421149 -0.000000 -0.000000  \n",
      "29   0.300638 -0.000000 -0.000000  \n",
      "..        ...       ...       ...  \n",
      "58   0.004667 -0.000000  4.940741  \n",
      "59  -0.000000 -0.000000 -0.000000  \n",
      "60  -0.000000 -0.000000 -0.000000  \n",
      "61   7.764184 -0.000000 -0.000000  \n",
      "62  -0.000000 -0.000000 -0.000000  \n",
      "63   0.004667 -0.000000  4.940741  \n",
      "64  -0.000000 -0.000000 -0.000000  \n",
      "65  -0.000000 -0.000000 -0.000000  \n",
      "66  -0.000000 -0.000000 -0.000000  \n",
      "67   2.883783 -0.000000  1.322208  \n",
      "68   0.300638 -0.000000 -0.000000  \n",
      "69  -0.000000 -0.000000 -0.000000  \n",
      "70  -0.000000 -0.000000 -0.000000  \n",
      "71  -0.000000 -0.000000 -0.000000  \n",
      "72  -0.000000 -0.000000  0.016311  \n",
      "73  -0.000000 -0.000000 -0.000000  \n",
      "74   0.004667 -0.000000  4.940741  \n",
      "75  -0.000000 -0.000000 -0.000000  \n",
      "76  -0.000000 -0.000000 -0.000000  \n",
      "77  -0.000000 -0.000000  0.016311  \n",
      "78   7.764184 -0.000000 -0.000000  \n",
      "79   0.004667 -0.000000  4.940741  \n",
      "80  -0.000000 -0.000000 -0.000000  \n",
      "81  -0.000000 -0.000000 -0.000000  \n",
      "82  -0.000000 -0.000000  0.016311  \n",
      "83   7.764184 -0.000000 -0.000000  \n",
      "84  -0.000000 -0.000000 -0.000000  \n",
      "85  -0.000000 -0.000000 -0.000000  \n",
      "86  -0.000000 -0.000000 -0.000000  \n",
      "87  -0.000000 -0.000000 -0.000000  \n",
      "\n",
      "[88 rows x 200705 columns]\n"
     ]
    }
   ],
   "source": [
    "pair_dataset = pd.read_csv(\"data/paired_data.csv\")\n",
    "all_y = pair_dataset.iloc[:,1].values\n",
    "print(all_y)\n",
    "all_X = pair_dataset.drop(pair_dataset.columns[[0,1,2]], axis=1)\n",
    "print(all_X)"
   ]
  },
  {
   "cell_type": "code",
   "execution_count": 16,
   "metadata": {},
   "outputs": [],
   "source": [
    "# convert test to one hot\n",
    "all_y = np.array(all_y, dtype=int)\n",
    "onehot_y = np.zeros((len(all_y), 2))\n",
    "onehot_y[np.arange(len(all_y)), all_y] = 1"
   ]
  },
  {
   "cell_type": "code",
   "execution_count": 17,
   "metadata": {},
   "outputs": [],
   "source": [
    "from sklearn import model_selection\n",
    "\n",
    "test_size = 0.2\n",
    "valid_size = 0.2\n",
    "\n",
    "X_train, X_test, y_train, y_test \\\n",
    "= model_selection.train_test_split(all_X, onehot_y, test_size=test_size, random_state=1)\n",
    "X_train, X_valid, y_train, y_valid \\\n",
    "= model_selection.train_test_split(X_train, y_train, test_size=valid_size/(1-test_size), random_state=1)"
   ]
  },
  {
   "cell_type": "code",
   "execution_count": 18,
   "metadata": {},
   "outputs": [
    {
     "name": "stdout",
     "output_type": "stream",
     "text": [
      "_________________________________________________________________\n",
      "Layer (type)                 Output Shape              Param #   \n",
      "=================================================================\n",
      "dense_9 (Dense)              (None, 1024)              205522944 \n",
      "_________________________________________________________________\n",
      "dense_10 (Dense)             (None, 760)               779000    \n",
      "_________________________________________________________________\n",
      "dropout_5 (Dropout)          (None, 760)               0         \n",
      "_________________________________________________________________\n",
      "dense_11 (Dense)             (None, 256)               194816    \n",
      "_________________________________________________________________\n",
      "dropout_6 (Dropout)          (None, 256)               0         \n",
      "_________________________________________________________________\n",
      "dense_12 (Dense)             (None, 2)                 514       \n",
      "=================================================================\n",
      "Total params: 206,497,274\n",
      "Trainable params: 206,497,274\n",
      "Non-trainable params: 0\n",
      "_________________________________________________________________\n"
     ]
    }
   ],
   "source": [
    "from keras.layers import Conv2D, MaxPooling2D, GlobalAveragePooling2D\n",
    "from keras.layers import Dropout, Flatten, Dense\n",
    "from keras.models import Sequential\n",
    "\n",
    "model = Sequential()\n",
    "model.add(Dense(1024, input_dim=200705))\n",
    "model.add(Dense(760, activation=\"relu\"))\n",
    "model.add(Dropout(0.5))\n",
    "model.add(Dense(256, activation=\"tanh\"))\n",
    "model.add(Dropout(0.4))\n",
    "model.add(Dense(2, activation=\"softmax\"))\n",
    "model.summary()"
   ]
  },
  {
   "cell_type": "code",
   "execution_count": 19,
   "metadata": {},
   "outputs": [],
   "source": [
    "model.compile(optimizer='rmsprop', loss='categorical_crossentropy', metrics=['accuracy'])"
   ]
  },
  {
   "cell_type": "code",
   "execution_count": 20,
   "metadata": {},
   "outputs": [
    {
     "name": "stdout",
     "output_type": "stream",
     "text": [
      "Train on 52 samples, validate on 18 samples\n",
      "Epoch 1/100\n",
      "52/52 [==============================] - 40s 761ms/step - loss: 0.8880 - acc: 0.6154 - val_loss: 0.3495 - val_acc: 0.9444\n",
      "\n",
      "Epoch 00001: val_loss improved from inf to 0.34953, saving model to saved_models/weights.best.from_scratch.hdf5\n",
      "Epoch 2/100\n",
      "52/52 [==============================] - 22s 426ms/step - loss: 0.5283 - acc: 0.7692 - val_loss: 0.7111 - val_acc: 0.5556\n",
      "\n",
      "Epoch 00002: val_loss did not improve from 0.34953\n",
      "Epoch 3/100\n",
      "52/52 [==============================] - 17s 319ms/step - loss: 1.2302 - acc: 0.4615 - val_loss: 0.7928 - val_acc: 0.5000\n",
      "\n",
      "Epoch 00003: val_loss did not improve from 0.34953\n",
      "Epoch 4/100\n",
      "52/52 [==============================] - 18s 355ms/step - loss: 0.6594 - acc: 0.7308 - val_loss: 0.5117 - val_acc: 0.6111\n",
      "\n",
      "Epoch 00004: val_loss did not improve from 0.34953\n",
      "Epoch 5/100\n",
      "20/52 [==========>...................] - ETA: 9s - loss: 0.9676 - acc: 0.4500"
     ]
    },
    {
     "ename": "KeyboardInterrupt",
     "evalue": "",
     "output_type": "error",
     "traceback": [
      "\u001b[0;31m---------------------------------------------------------------------------\u001b[0m",
      "\u001b[0;31mKeyboardInterrupt\u001b[0m                         Traceback (most recent call last)",
      "\u001b[0;32m<ipython-input-20-6b80584e8fbb>\u001b[0m in \u001b[0;36m<module>\u001b[0;34m\u001b[0m\n\u001b[1;32m      8\u001b[0m model.fit(X_train, y_train, \n\u001b[1;32m      9\u001b[0m           \u001b[0mvalidation_data\u001b[0m\u001b[0;34m=\u001b[0m\u001b[0;34m(\u001b[0m\u001b[0mX_valid\u001b[0m\u001b[0;34m,\u001b[0m \u001b[0my_valid\u001b[0m\u001b[0;34m)\u001b[0m\u001b[0;34m,\u001b[0m\u001b[0;34m\u001b[0m\u001b[0;34m\u001b[0m\u001b[0m\n\u001b[0;32m---> 10\u001b[0;31m           epochs=epochs, batch_size=20, callbacks=[checkpointer], verbose=1)\n\u001b[0m",
      "\u001b[0;32m/anaconda3/lib/python3.7/site-packages/keras/engine/training.py\u001b[0m in \u001b[0;36mfit\u001b[0;34m(self, x, y, batch_size, epochs, verbose, callbacks, validation_split, validation_data, shuffle, class_weight, sample_weight, initial_epoch, steps_per_epoch, validation_steps, **kwargs)\u001b[0m\n\u001b[1;32m   1037\u001b[0m                                         \u001b[0minitial_epoch\u001b[0m\u001b[0;34m=\u001b[0m\u001b[0minitial_epoch\u001b[0m\u001b[0;34m,\u001b[0m\u001b[0;34m\u001b[0m\u001b[0;34m\u001b[0m\u001b[0m\n\u001b[1;32m   1038\u001b[0m                                         \u001b[0msteps_per_epoch\u001b[0m\u001b[0;34m=\u001b[0m\u001b[0msteps_per_epoch\u001b[0m\u001b[0;34m,\u001b[0m\u001b[0;34m\u001b[0m\u001b[0;34m\u001b[0m\u001b[0m\n\u001b[0;32m-> 1039\u001b[0;31m                                         validation_steps=validation_steps)\n\u001b[0m\u001b[1;32m   1040\u001b[0m \u001b[0;34m\u001b[0m\u001b[0m\n\u001b[1;32m   1041\u001b[0m     def evaluate(self, x=None, y=None,\n",
      "\u001b[0;32m/anaconda3/lib/python3.7/site-packages/keras/engine/training_arrays.py\u001b[0m in \u001b[0;36mfit_loop\u001b[0;34m(model, f, ins, out_labels, batch_size, epochs, verbose, callbacks, val_f, val_ins, shuffle, callback_metrics, initial_epoch, steps_per_epoch, validation_steps)\u001b[0m\n\u001b[1;32m    197\u001b[0m                     \u001b[0mins_batch\u001b[0m\u001b[0;34m[\u001b[0m\u001b[0mi\u001b[0m\u001b[0;34m]\u001b[0m \u001b[0;34m=\u001b[0m \u001b[0mins_batch\u001b[0m\u001b[0;34m[\u001b[0m\u001b[0mi\u001b[0m\u001b[0;34m]\u001b[0m\u001b[0;34m.\u001b[0m\u001b[0mtoarray\u001b[0m\u001b[0;34m(\u001b[0m\u001b[0;34m)\u001b[0m\u001b[0;34m\u001b[0m\u001b[0;34m\u001b[0m\u001b[0m\n\u001b[1;32m    198\u001b[0m \u001b[0;34m\u001b[0m\u001b[0m\n\u001b[0;32m--> 199\u001b[0;31m                 \u001b[0mouts\u001b[0m \u001b[0;34m=\u001b[0m \u001b[0mf\u001b[0m\u001b[0;34m(\u001b[0m\u001b[0mins_batch\u001b[0m\u001b[0;34m)\u001b[0m\u001b[0;34m\u001b[0m\u001b[0;34m\u001b[0m\u001b[0m\n\u001b[0m\u001b[1;32m    200\u001b[0m                 \u001b[0mouts\u001b[0m \u001b[0;34m=\u001b[0m \u001b[0mto_list\u001b[0m\u001b[0;34m(\u001b[0m\u001b[0mouts\u001b[0m\u001b[0;34m)\u001b[0m\u001b[0;34m\u001b[0m\u001b[0;34m\u001b[0m\u001b[0m\n\u001b[1;32m    201\u001b[0m                 \u001b[0;32mfor\u001b[0m \u001b[0ml\u001b[0m\u001b[0;34m,\u001b[0m \u001b[0mo\u001b[0m \u001b[0;32min\u001b[0m \u001b[0mzip\u001b[0m\u001b[0;34m(\u001b[0m\u001b[0mout_labels\u001b[0m\u001b[0;34m,\u001b[0m \u001b[0mouts\u001b[0m\u001b[0;34m)\u001b[0m\u001b[0;34m:\u001b[0m\u001b[0;34m\u001b[0m\u001b[0;34m\u001b[0m\u001b[0m\n",
      "\u001b[0;32m/anaconda3/lib/python3.7/site-packages/keras/backend/tensorflow_backend.py\u001b[0m in \u001b[0;36m__call__\u001b[0;34m(self, inputs)\u001b[0m\n\u001b[1;32m   2713\u001b[0m                 \u001b[0;32mreturn\u001b[0m \u001b[0mself\u001b[0m\u001b[0;34m.\u001b[0m\u001b[0m_legacy_call\u001b[0m\u001b[0;34m(\u001b[0m\u001b[0minputs\u001b[0m\u001b[0;34m)\u001b[0m\u001b[0;34m\u001b[0m\u001b[0;34m\u001b[0m\u001b[0m\n\u001b[1;32m   2714\u001b[0m \u001b[0;34m\u001b[0m\u001b[0m\n\u001b[0;32m-> 2715\u001b[0;31m             \u001b[0;32mreturn\u001b[0m \u001b[0mself\u001b[0m\u001b[0;34m.\u001b[0m\u001b[0m_call\u001b[0m\u001b[0;34m(\u001b[0m\u001b[0minputs\u001b[0m\u001b[0;34m)\u001b[0m\u001b[0;34m\u001b[0m\u001b[0;34m\u001b[0m\u001b[0m\n\u001b[0m\u001b[1;32m   2716\u001b[0m         \u001b[0;32melse\u001b[0m\u001b[0;34m:\u001b[0m\u001b[0;34m\u001b[0m\u001b[0;34m\u001b[0m\u001b[0m\n\u001b[1;32m   2717\u001b[0m             \u001b[0;32mif\u001b[0m \u001b[0mpy_any\u001b[0m\u001b[0;34m(\u001b[0m\u001b[0mis_tensor\u001b[0m\u001b[0;34m(\u001b[0m\u001b[0mx\u001b[0m\u001b[0;34m)\u001b[0m \u001b[0;32mfor\u001b[0m \u001b[0mx\u001b[0m \u001b[0;32min\u001b[0m \u001b[0minputs\u001b[0m\u001b[0;34m)\u001b[0m\u001b[0;34m:\u001b[0m\u001b[0;34m\u001b[0m\u001b[0;34m\u001b[0m\u001b[0m\n",
      "\u001b[0;32m/anaconda3/lib/python3.7/site-packages/keras/backend/tensorflow_backend.py\u001b[0m in \u001b[0;36m_call\u001b[0;34m(self, inputs)\u001b[0m\n\u001b[1;32m   2673\u001b[0m             \u001b[0mfetched\u001b[0m \u001b[0;34m=\u001b[0m \u001b[0mself\u001b[0m\u001b[0;34m.\u001b[0m\u001b[0m_callable_fn\u001b[0m\u001b[0;34m(\u001b[0m\u001b[0;34m*\u001b[0m\u001b[0marray_vals\u001b[0m\u001b[0;34m,\u001b[0m \u001b[0mrun_metadata\u001b[0m\u001b[0;34m=\u001b[0m\u001b[0mself\u001b[0m\u001b[0;34m.\u001b[0m\u001b[0mrun_metadata\u001b[0m\u001b[0;34m)\u001b[0m\u001b[0;34m\u001b[0m\u001b[0;34m\u001b[0m\u001b[0m\n\u001b[1;32m   2674\u001b[0m         \u001b[0;32melse\u001b[0m\u001b[0;34m:\u001b[0m\u001b[0;34m\u001b[0m\u001b[0;34m\u001b[0m\u001b[0m\n\u001b[0;32m-> 2675\u001b[0;31m             \u001b[0mfetched\u001b[0m \u001b[0;34m=\u001b[0m \u001b[0mself\u001b[0m\u001b[0;34m.\u001b[0m\u001b[0m_callable_fn\u001b[0m\u001b[0;34m(\u001b[0m\u001b[0;34m*\u001b[0m\u001b[0marray_vals\u001b[0m\u001b[0;34m)\u001b[0m\u001b[0;34m\u001b[0m\u001b[0;34m\u001b[0m\u001b[0m\n\u001b[0m\u001b[1;32m   2676\u001b[0m         \u001b[0;32mreturn\u001b[0m \u001b[0mfetched\u001b[0m\u001b[0;34m[\u001b[0m\u001b[0;34m:\u001b[0m\u001b[0mlen\u001b[0m\u001b[0;34m(\u001b[0m\u001b[0mself\u001b[0m\u001b[0;34m.\u001b[0m\u001b[0moutputs\u001b[0m\u001b[0;34m)\u001b[0m\u001b[0;34m]\u001b[0m\u001b[0;34m\u001b[0m\u001b[0;34m\u001b[0m\u001b[0m\n\u001b[1;32m   2677\u001b[0m \u001b[0;34m\u001b[0m\u001b[0m\n",
      "\u001b[0;32m/anaconda3/lib/python3.7/site-packages/tensorflow/python/client/session.py\u001b[0m in \u001b[0;36m__call__\u001b[0;34m(self, *args, **kwargs)\u001b[0m\n\u001b[1;32m   1437\u001b[0m           ret = tf_session.TF_SessionRunCallable(\n\u001b[1;32m   1438\u001b[0m               \u001b[0mself\u001b[0m\u001b[0;34m.\u001b[0m\u001b[0m_session\u001b[0m\u001b[0;34m.\u001b[0m\u001b[0m_session\u001b[0m\u001b[0;34m,\u001b[0m \u001b[0mself\u001b[0m\u001b[0;34m.\u001b[0m\u001b[0m_handle\u001b[0m\u001b[0;34m,\u001b[0m \u001b[0margs\u001b[0m\u001b[0;34m,\u001b[0m \u001b[0mstatus\u001b[0m\u001b[0;34m,\u001b[0m\u001b[0;34m\u001b[0m\u001b[0;34m\u001b[0m\u001b[0m\n\u001b[0;32m-> 1439\u001b[0;31m               run_metadata_ptr)\n\u001b[0m\u001b[1;32m   1440\u001b[0m         \u001b[0;32mif\u001b[0m \u001b[0mrun_metadata\u001b[0m\u001b[0;34m:\u001b[0m\u001b[0;34m\u001b[0m\u001b[0;34m\u001b[0m\u001b[0m\n\u001b[1;32m   1441\u001b[0m           \u001b[0mproto_data\u001b[0m \u001b[0;34m=\u001b[0m \u001b[0mtf_session\u001b[0m\u001b[0;34m.\u001b[0m\u001b[0mTF_GetBuffer\u001b[0m\u001b[0;34m(\u001b[0m\u001b[0mrun_metadata_ptr\u001b[0m\u001b[0;34m)\u001b[0m\u001b[0;34m\u001b[0m\u001b[0;34m\u001b[0m\u001b[0m\n",
      "\u001b[0;31mKeyboardInterrupt\u001b[0m: "
     ]
    }
   ],
   "source": [
    "from keras.callbacks import ModelCheckpoint\n",
    "\n",
    "epochs = 100 # high so I can always manually stop\n",
    "\n",
    "checkpointer = ModelCheckpoint(filepath='saved_models/weights.best.from_scratch.hdf5', \n",
    "                               verbose=1, save_best_only=True)\n",
    "\n",
    "model.fit(X_train, y_train, \n",
    "          validation_data=(X_valid, y_valid),\n",
    "          epochs=epochs, batch_size=20, callbacks=[checkpointer], verbose=1)"
   ]
  },
  {
   "cell_type": "code",
   "execution_count": null,
   "metadata": {},
   "outputs": [],
   "source": []
  },
  {
   "cell_type": "code",
   "execution_count": null,
   "metadata": {},
   "outputs": [],
   "source": []
  }
 ],
 "metadata": {
  "kernelspec": {
   "display_name": "Python 3",
   "language": "python",
   "name": "python3"
  },
  "language_info": {
   "codemirror_mode": {
    "name": "ipython",
    "version": 3
   },
   "file_extension": ".py",
   "mimetype": "text/x-python",
   "name": "python",
   "nbconvert_exporter": "python",
   "pygments_lexer": "ipython3",
   "version": "3.7.3"
  }
 },
 "nbformat": 4,
 "nbformat_minor": 1
}
