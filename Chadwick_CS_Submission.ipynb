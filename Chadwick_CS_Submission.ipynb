{
 "cells": [
  {
   "cell_type": "code",
   "execution_count": 47,
   "metadata": {
    "_cell_guid": "b1076dfc-b9ad-4769-8c92-a6c4dae69d19",
    "_uuid": "8f2839f25d086af736a60e9eeb907d3b93b6e0e5"
   },
   "outputs": [
    {
     "name": "stdout",
     "output_type": "stream",
     "text": [
      "['.DS_Store', 'retrieval_sample_submission.csv', 'google-landmarks-dataset']\n",
      "Training data size: (1225029, 3)\n",
      "Test data size: (117703, 2)\n",
      "Retreival data size: (117703, 2)\n"
     ]
    }
   ],
   "source": [
    "# This Python 3 environment comes with many helpful analytics libraries installed\n",
    "# It is defined by the kaggle/python docker image: https://github.com/kaggle/docker-python\n",
    "# For example, here's several helpful packages to load in \n",
    "\n",
    "import numpy as np # linear algebra\n",
    "import pandas as pd # data processing, CSV file I/O (e.g. pd.read_csv)\n",
    "import matplotlib.pyplot as plt\n",
    "import seaborn as sns\n",
    "\n",
    "# Input data files are available in the \"../input/\" directory.\n",
    "# For example, running this (by clicking run or pressing Shift+Enter) will list the files in the input directory\n",
    "\n",
    "import os\n",
    "print(os.listdir(\"input/\"))\n",
    "\n",
    "# Any results you write to the current directory are saved as output.\n",
    "\n",
    "#reading the training and test data\n",
    "train_data = pd.read_csv('input/google-landmarks-dataset/train.csv')\n",
    "test_data = pd.read_csv('input/google-landmarks-dataset/test.csv')\n",
    "matching_data = pd.read_csv('input/retrieval_sample_submission.csv')\n",
    "\n",
    "print(\"Training data size:\",train_data.shape)\n",
    "print(\"Test data size:\",test_data.shape)\n",
    "print(\"Retreival data size:\",matching_data.shape)\n"
   ]
  },
  {
   "cell_type": "code",
   "execution_count": 48,
   "metadata": {},
   "outputs": [],
   "source": [
    "#Downloading the images \n",
    "from IPython.display import Image\n",
    "from IPython.core.display import HTML \n",
    "def display_image(url):\n",
    "    img_style = \"width: 500px; margin: 0px; float: left; border: 1px solid black;\"\n",
    "    #images_list = ''.join([f\"<img style='{img_style}' src='{u}' />\" for _, u in urls.head(20).iteritems()])\n",
    "    image=f\"<img style='{img_style}' src='{url}' />\"\n",
    "    display(HTML(image))"
   ]
  },
  {
   "cell_type": "code",
   "execution_count": 50,
   "metadata": {},
   "outputs": [
    {
     "data": {
      "text/html": [
       "<img style='width: 500px; margin: 0px; float: left; border: 1px solid black;' src='http://lh4.ggpht.com/-f8xYA5l4apw/RSziSQVaABI/AAAAAAAAASE/V8rWCdC0cvI/s1600/' />"
      ],
      "text/plain": [
       "<IPython.core.display.HTML object>"
      ]
     },
     "metadata": {},
     "output_type": "display_data"
    },
    {
     "data": {
      "text/html": [
       "<img style='width: 500px; margin: 0px; float: left; border: 1px solid black;' src='https://lh5.googleusercontent.com/-PUnMrX7oOyA/TySyn1rpTTI/AAAAAAAAASE/1O6VjsWhkdo/s1600/' />"
      ],
      "text/plain": [
       "<IPython.core.display.HTML object>"
      ]
     },
     "metadata": {},
     "output_type": "display_data"
    },
    {
     "data": {
      "text/html": [
       "<img style='width: 500px; margin: 0px; float: left; border: 1px solid black;' src='http://mw2.google.com/mw-panoramio/photos/medium/31965247.jpg' />"
      ],
      "text/plain": [
       "<IPython.core.display.HTML object>"
      ]
     },
     "metadata": {},
     "output_type": "display_data"
    },
    {
     "data": {
      "text/html": [
       "<img style='width: 500px; margin: 0px; float: left; border: 1px solid black;' src='http://lh3.ggpht.com/-9fgSxDYwhHA/SMvGEoltKTI/AAAAAAAAAmQ/okImAMVbiM8/s1600/' />"
      ],
      "text/plain": [
       "<IPython.core.display.HTML object>"
      ]
     },
     "metadata": {},
     "output_type": "display_data"
    },
    {
     "data": {
      "text/html": [
       "<img style='width: 500px; margin: 0px; float: left; border: 1px solid black;' src='http://lh6.ggpht.com/-UGAXxvPbr98/S-jGZbyMIPI/AAAAAAAACjk/cDbltIKSaEs/s1600/' />"
      ],
      "text/plain": [
       "<IPython.core.display.HTML object>"
      ]
     },
     "metadata": {},
     "output_type": "display_data"
    },
    {
     "data": {
      "text/html": [
       "<img style='width: 500px; margin: 0px; float: left; border: 1px solid black;' src='https://lh3.googleusercontent.com/-nbz_XT1dGz4/AAAAAAAAAAI/AAAAAAAAAAA/_QzphS62Sws/rj/' />"
      ],
      "text/plain": [
       "<IPython.core.display.HTML object>"
      ]
     },
     "metadata": {},
     "output_type": "display_data"
    },
    {
     "data": {
      "text/html": [
       "<img style='width: 500px; margin: 0px; float: left; border: 1px solid black;' src='https://lh6.googleusercontent.com/-onL5-pK9nZI/SvfWv6_P-pI/AAAAAAAABPY/Le1iu-JSmgY/s1600/' />"
      ],
      "text/plain": [
       "<IPython.core.display.HTML object>"
      ]
     },
     "metadata": {},
     "output_type": "display_data"
    },
    {
     "data": {
      "text/html": [
       "<img style='width: 500px; margin: 0px; float: left; border: 1px solid black;' src='http://lh5.ggpht.com/-3GWjPriaA9g/Sg3e_S0qEgI/AAAAAAAADY0/ysitBi2mSLc/s1600/' />"
      ],
      "text/plain": [
       "<IPython.core.display.HTML object>"
      ]
     },
     "metadata": {},
     "output_type": "display_data"
    },
    {
     "data": {
      "text/html": [
       "<img style='width: 500px; margin: 0px; float: left; border: 1px solid black;' src='https://lh4.googleusercontent.com/-FcAwNv0-WeY/T0AzkaCi3eI/AAAAAAAAFb8/Ehmw2DwGe6s/s1600/' />"
      ],
      "text/plain": [
       "<IPython.core.display.HTML object>"
      ]
     },
     "metadata": {},
     "output_type": "display_data"
    },
    {
     "data": {
      "text/html": [
       "<img style='width: 500px; margin: 0px; float: left; border: 1px solid black;' src='http://mw2.google.com/mw-panoramio/photos/medium/82951930.jpg' />"
      ],
      "text/plain": [
       "<IPython.core.display.HTML object>"
      ]
     },
     "metadata": {},
     "output_type": "display_data"
    },
    {
     "data": {
      "text/html": [
       "<img style='width: 500px; margin: 0px; float: left; border: 1px solid black;' src='https://lh6.googleusercontent.com/-xIJ3I2i3ESk/Ud-m9bYtxoI/AAAAAAAAdho/l-zOMG1nosw/s1600/' />"
      ],
      "text/plain": [
       "<IPython.core.display.HTML object>"
      ]
     },
     "metadata": {},
     "output_type": "display_data"
    },
    {
     "data": {
      "text/html": [
       "<img style='width: 500px; margin: 0px; float: left; border: 1px solid black;' src='http://lh3.ggpht.com/-3bysCvkJIBs/Tnf_HqJhFaI/AAAAAAAAbxQ/xpqzo2s6C-U/s1600/' />"
      ],
      "text/plain": [
       "<IPython.core.display.HTML object>"
      ]
     },
     "metadata": {},
     "output_type": "display_data"
    },
    {
     "data": {
      "text/html": [
       "<img style='width: 500px; margin: 0px; float: left; border: 1px solid black;' src='https://lh5.googleusercontent.com/-eoC653AtqLs/RlnlPeWOUCI/AAAAAAAAAJo/0UYvWJieL0w/rj/' />"
      ],
      "text/plain": [
       "<IPython.core.display.HTML object>"
      ]
     },
     "metadata": {},
     "output_type": "display_data"
    },
    {
     "data": {
      "text/html": [
       "<img style='width: 500px; margin: 0px; float: left; border: 1px solid black;' src='http://lh6.ggpht.com/-5upOUlKrK5g/RT9rdTOxABI/AAAAAAAADjc/90fCmeY5nTM/s1600/' />"
      ],
      "text/plain": [
       "<IPython.core.display.HTML object>"
      ]
     },
     "metadata": {},
     "output_type": "display_data"
    },
    {
     "data": {
      "text/html": [
       "<img style='width: 500px; margin: 0px; float: left; border: 1px solid black;' src='http://lh4.ggpht.com/-2Z3YgkH6iI8/TW5MB3UmXhI/AAAAAAAAAfk/u7IZrc-VbSo/s1600/' />"
      ],
      "text/plain": [
       "<IPython.core.display.HTML object>"
      ]
     },
     "metadata": {},
     "output_type": "display_data"
    },
    {
     "data": {
      "text/html": [
       "<img style='width: 500px; margin: 0px; float: left; border: 1px solid black;' src='http://lh4.ggpht.com/-Fl70oNceS_g/TFcqq4PpR9I/AAAAAAAALPs/z803A0bIyBI/s1600/' />"
      ],
      "text/plain": [
       "<IPython.core.display.HTML object>"
      ]
     },
     "metadata": {},
     "output_type": "display_data"
    },
    {
     "data": {
      "text/html": [
       "<img style='width: 500px; margin: 0px; float: left; border: 1px solid black;' src='https://lh6.googleusercontent.com/-8isu7IsH2x8/TD9faPQeEaI/AAAAAAAACHE/hyz4YsuqfUw/s1600/' />"
      ],
      "text/plain": [
       "<IPython.core.display.HTML object>"
      ]
     },
     "metadata": {},
     "output_type": "display_data"
    },
    {
     "data": {
      "text/html": [
       "<img style='width: 500px; margin: 0px; float: left; border: 1px solid black;' src='http://lh6.ggpht.com/-qdtbnvhvEDM/TSoOCs0xtjI/AAAAAAAACi8/-76yG_qffFE/s1600/' />"
      ],
      "text/plain": [
       "<IPython.core.display.HTML object>"
      ]
     },
     "metadata": {},
     "output_type": "display_data"
    },
    {
     "data": {
      "text/html": [
       "<img style='width: 500px; margin: 0px; float: left; border: 1px solid black;' src='http://lh5.ggpht.com/-bifKvgfhFYo/SFBbgBD0giI/AAAAAAAAAQo/jVcxfWLrJnY/rj/' />"
      ],
      "text/plain": [
       "<IPython.core.display.HTML object>"
      ]
     },
     "metadata": {},
     "output_type": "display_data"
    },
    {
     "data": {
      "text/html": [
       "<img style='width: 500px; margin: 0px; float: left; border: 1px solid black;' src='http://lh5.ggpht.com/-0vWLyGMeQQ0/T-AU7KKs08I/AAAAAAAACSc/m-syosrtsM0/s1600/' />"
      ],
      "text/plain": [
       "<IPython.core.display.HTML object>"
      ]
     },
     "metadata": {},
     "output_type": "display_data"
    },
    {
     "data": {
      "text/html": [
       "<img style='width: 500px; margin: 0px; float: left; border: 1px solid black;' src='https://lh3.googleusercontent.com/-nGAwumqrkI0/SDlq3IWdZ2I/AAAAAAAAIgM/n6LadHrWegI/s1600/' />"
      ],
      "text/plain": [
       "<IPython.core.display.HTML object>"
      ]
     },
     "metadata": {},
     "output_type": "display_data"
    },
    {
     "data": {
      "text/html": [
       "<img style='width: 500px; margin: 0px; float: left; border: 1px solid black;' src='http://mw2.google.com/mw-panoramio/photos/medium/3676629.jpg' />"
      ],
      "text/plain": [
       "<IPython.core.display.HTML object>"
      ]
     },
     "metadata": {},
     "output_type": "display_data"
    },
    {
     "data": {
      "text/html": [
       "<img style='width: 500px; margin: 0px; float: left; border: 1px solid black;' src='http://lh6.ggpht.com/-Euw-JhniTh0/RxevJzZ3ZnI/AAAAAAAABzY/2FeE0pd4-ww/s1600/' />"
      ],
      "text/plain": [
       "<IPython.core.display.HTML object>"
      ]
     },
     "metadata": {},
     "output_type": "display_data"
    },
    {
     "data": {
      "text/html": [
       "<img style='width: 500px; margin: 0px; float: left; border: 1px solid black;' src='http://lh6.ggpht.com/-MbCfKSsUTLg/RjyNT-6K2OI/AAAAAAAAArk/bCJ_ohFb67M/s1600/' />"
      ],
      "text/plain": [
       "<IPython.core.display.HTML object>"
      ]
     },
     "metadata": {},
     "output_type": "display_data"
    },
    {
     "data": {
      "text/html": [
       "<img style='width: 500px; margin: 0px; float: left; border: 1px solid black;' src='http://lh6.ggpht.com/-g_6dtHyMEmA/TB5_ST1SOtI/AAAAAAAAEaI/fYOceYItDu0/s1600/' />"
      ],
      "text/plain": [
       "<IPython.core.display.HTML object>"
      ]
     },
     "metadata": {},
     "output_type": "display_data"
    },
    {
     "data": {
      "text/html": [
       "<img style='width: 500px; margin: 0px; float: left; border: 1px solid black;' src='http://lh6.ggpht.com/-JpdnqBvK1oo/THtuyaiV6KI/AAAAAAAAAM0/gM3UKB223vE/s1600/' />"
      ],
      "text/plain": [
       "<IPython.core.display.HTML object>"
      ]
     },
     "metadata": {},
     "output_type": "display_data"
    },
    {
     "data": {
      "text/html": [
       "<img style='width: 500px; margin: 0px; float: left; border: 1px solid black;' src='http://lh5.ggpht.com/-z1SE2reTvWo/S6jsOEFI0bI/AAAAAAAAK4g/lKKCd-ajOCw/s1600/' />"
      ],
      "text/plain": [
       "<IPython.core.display.HTML object>"
      ]
     },
     "metadata": {},
     "output_type": "display_data"
    },
    {
     "data": {
      "text/html": [
       "<img style='width: 500px; margin: 0px; float: left; border: 1px solid black;' src='https://lh5.googleusercontent.com/--Q3SMs25zX8/SF3HEjIdEtI/AAAAAAAAAiQ/r84lPWLiRPY/s1600/' />"
      ],
      "text/plain": [
       "<IPython.core.display.HTML object>"
      ]
     },
     "metadata": {},
     "output_type": "display_data"
    },
    {
     "data": {
      "text/html": [
       "<img style='width: 500px; margin: 0px; float: left; border: 1px solid black;' src='http://lh3.ggpht.com/-m2DXA3MAeso/R21hFwlu_dI/AAAAAAAACpQ/zIzYNu6_mt8/s1600/' />"
      ],
      "text/plain": [
       "<IPython.core.display.HTML object>"
      ]
     },
     "metadata": {},
     "output_type": "display_data"
    },
    {
     "data": {
      "text/html": [
       "<img style='width: 500px; margin: 0px; float: left; border: 1px solid black;' src='http://lh3.ggpht.com/-IU1Valypm3w/SOaQ-Y_rZ2I/AAAAAAAAAKM/1yhFFFEtOns/s1600/' />"
      ],
      "text/plain": [
       "<IPython.core.display.HTML object>"
      ]
     },
     "metadata": {},
     "output_type": "display_data"
    },
    {
     "data": {
      "text/html": [
       "<img style='width: 500px; margin: 0px; float: left; border: 1px solid black;' src='http://lh5.ggpht.com/-Kbr17owtR3Q/SYtzNSaYiRI/AAAAAAAABBs/HRJb0qluVIg/s128/' />"
      ],
      "text/plain": [
       "<IPython.core.display.HTML object>"
      ]
     },
     "metadata": {},
     "output_type": "display_data"
    },
    {
     "data": {
      "text/html": [
       "<img style='width: 500px; margin: 0px; float: left; border: 1px solid black;' src='http://lh5.ggpht.com/-29Q8dAjTbok/S8ly09Go5YI/AAAAAAAABB0/MtWj0Ri5cqk/s1600/' />"
      ],
      "text/plain": [
       "<IPython.core.display.HTML object>"
      ]
     },
     "metadata": {},
     "output_type": "display_data"
    },
    {
     "data": {
      "text/html": [
       "<img style='width: 500px; margin: 0px; float: left; border: 1px solid black;' src='https://lh6.googleusercontent.com/-v4yKkJvMfEs/TtjusdcsKmI/AAAAAAAAPfo/z3jKfLsmEoA/s1600/' />"
      ],
      "text/plain": [
       "<IPython.core.display.HTML object>"
      ]
     },
     "metadata": {},
     "output_type": "display_data"
    },
    {
     "data": {
      "text/html": [
       "<img style='width: 500px; margin: 0px; float: left; border: 1px solid black;' src='http://lh5.ggpht.com/-yFxdhHs6wHk/TZ5cSAOiYlI/AAAAAAAAKDQ/ZyOcU7jJeDc/s1600/' />"
      ],
      "text/plain": [
       "<IPython.core.display.HTML object>"
      ]
     },
     "metadata": {},
     "output_type": "display_data"
    },
    {
     "data": {
      "text/html": [
       "<img style='width: 500px; margin: 0px; float: left; border: 1px solid black;' src='https://lh4.googleusercontent.com/-r_X8PoYuZGs/T9FlEIM-oPI/AAAAAAAAyiQ/w0bBKGNoVuI/s128/' />"
      ],
      "text/plain": [
       "<IPython.core.display.HTML object>"
      ]
     },
     "metadata": {},
     "output_type": "display_data"
    },
    {
     "data": {
      "text/html": [
       "<img style='width: 500px; margin: 0px; float: left; border: 1px solid black;' src='https://lh6.googleusercontent.com/-ldxeDQwwuw4/Uv4EVHlbw1I/AAAAAAAAQxI/RgNiGcSBFQQ/s1600/' />"
      ],
      "text/plain": [
       "<IPython.core.display.HTML object>"
      ]
     },
     "metadata": {},
     "output_type": "display_data"
    },
    {
     "data": {
      "text/html": [
       "<img style='width: 500px; margin: 0px; float: left; border: 1px solid black;' src='http://mw2.google.com/mw-panoramio/photos/medium/11148316.jpg' />"
      ],
      "text/plain": [
       "<IPython.core.display.HTML object>"
      ]
     },
     "metadata": {},
     "output_type": "display_data"
    },
    {
     "data": {
      "text/html": [
       "<img style='width: 500px; margin: 0px; float: left; border: 1px solid black;' src='http://lh6.ggpht.com/-TvoGOeXXDK8/Tk_xrwJzy4I/AAAAAAAABQc/YDjJsD_xvNQ/s1600/' />"
      ],
      "text/plain": [
       "<IPython.core.display.HTML object>"
      ]
     },
     "metadata": {},
     "output_type": "display_data"
    },
    {
     "data": {
      "text/html": [
       "<img style='width: 500px; margin: 0px; float: left; border: 1px solid black;' src='https://lh4.googleusercontent.com/-aSKVQ4ZAY44/TsAvkQzW4bI/AAAAAAAAIss/RT0tHvrMgzU/s1600/' />"
      ],
      "text/plain": [
       "<IPython.core.display.HTML object>"
      ]
     },
     "metadata": {},
     "output_type": "display_data"
    },
    {
     "data": {
      "text/html": [
       "<img style='width: 500px; margin: 0px; float: left; border: 1px solid black;' src='http://lh5.ggpht.com/-VVD1QBNnZB8/ShG-yfKCZ3I/AAAAAAAABrc/uUbV8bksxvY/s1600/' />"
      ],
      "text/plain": [
       "<IPython.core.display.HTML object>"
      ]
     },
     "metadata": {},
     "output_type": "display_data"
    },
    {
     "data": {
      "text/html": [
       "<img style='width: 500px; margin: 0px; float: left; border: 1px solid black;' src='https://lh4.googleusercontent.com/-XJ9A_JCpWh0/T8gB5Htj_HI/AAAAAAAAFVU/ygWhz-cRi-A/s1600/' />"
      ],
      "text/plain": [
       "<IPython.core.display.HTML object>"
      ]
     },
     "metadata": {},
     "output_type": "display_data"
    },
    {
     "data": {
      "text/html": [
       "<img style='width: 500px; margin: 0px; float: left; border: 1px solid black;' src='https://lh4.googleusercontent.com/-wvRGZhIX08Y/TEOXV7a9-oI/AAAAAAAAWfI/e_4XLWW78k8/s1600/' />"
      ],
      "text/plain": [
       "<IPython.core.display.HTML object>"
      ]
     },
     "metadata": {},
     "output_type": "display_data"
    },
    {
     "data": {
      "text/html": [
       "<img style='width: 500px; margin: 0px; float: left; border: 1px solid black;' src='http://lh3.ggpht.com/-2OZ1jqOsRPs/SvMGRhFte4I/AAAAAAAABzw/WxUkmws5ZLY/rj/' />"
      ],
      "text/plain": [
       "<IPython.core.display.HTML object>"
      ]
     },
     "metadata": {},
     "output_type": "display_data"
    },
    {
     "data": {
      "text/html": [
       "<img style='width: 500px; margin: 0px; float: left; border: 1px solid black;' src='https://lh3.googleusercontent.com/-6i9aiykGtmw/T7WeeNahlkI/AAAAAAAAX3Y/y828BnFsgss/s1600/' />"
      ],
      "text/plain": [
       "<IPython.core.display.HTML object>"
      ]
     },
     "metadata": {},
     "output_type": "display_data"
    },
    {
     "data": {
      "text/html": [
       "<img style='width: 500px; margin: 0px; float: left; border: 1px solid black;' src='http://lh5.ggpht.com/-ACjGX7p_wEU/RqDzUZFvNVI/AAAAAAAABl8/Czvt7w9bIV8/s1600/' />"
      ],
      "text/plain": [
       "<IPython.core.display.HTML object>"
      ]
     },
     "metadata": {},
     "output_type": "display_data"
    },
    {
     "data": {
      "text/html": [
       "<img style='width: 500px; margin: 0px; float: left; border: 1px solid black;' src='https://lh3.googleusercontent.com/-3j3UkLr6_kI/UIGv0CDRZAI/AAAAAAAAAIA/yp4yEG75Pfg/s1600/' />"
      ],
      "text/plain": [
       "<IPython.core.display.HTML object>"
      ]
     },
     "metadata": {},
     "output_type": "display_data"
    },
    {
     "data": {
      "text/html": [
       "<img style='width: 500px; margin: 0px; float: left; border: 1px solid black;' src='http://lh6.ggpht.com/-APyo4_Q6M-Y/SLDGxVNoFLI/AAAAAAAABjM/yKGsXDbb20s/s1600/' />"
      ],
      "text/plain": [
       "<IPython.core.display.HTML object>"
      ]
     },
     "metadata": {},
     "output_type": "display_data"
    },
    {
     "data": {
      "text/html": [
       "<img style='width: 500px; margin: 0px; float: left; border: 1px solid black;' src='https://lh3.googleusercontent.com/-MKZvZV1YX4M/TQmLLdvc-AI/AAAAAAAAOyg/MP6FTTVW2JM/s1600/' />"
      ],
      "text/plain": [
       "<IPython.core.display.HTML object>"
      ]
     },
     "metadata": {},
     "output_type": "display_data"
    },
    {
     "data": {
      "text/html": [
       "<img style='width: 500px; margin: 0px; float: left; border: 1px solid black;' src='https://lh6.googleusercontent.com/-jCiqpASe2Sk/SHd-i78n1OI/AAAAAAAACSI/fFa59ZfUwzs/s1600/' />"
      ],
      "text/plain": [
       "<IPython.core.display.HTML object>"
      ]
     },
     "metadata": {},
     "output_type": "display_data"
    },
    {
     "data": {
      "text/html": [
       "<img style='width: 500px; margin: 0px; float: left; border: 1px solid black;' src='http://lh4.ggpht.com/-307jc65HbLE/Sn1C7ss0piI/AAAAAAAAA78/q5hBUqXHrQQ/s1600/' />"
      ],
      "text/plain": [
       "<IPython.core.display.HTML object>"
      ]
     },
     "metadata": {},
     "output_type": "display_data"
    },
    {
     "data": {
      "text/html": [
       "<img style='width: 500px; margin: 0px; float: left; border: 1px solid black;' src='http://lh4.ggpht.com/--2WjNfYmRCg/R5NDEj2e3qI/AAAAAAAAA2k/HFcMMARcB78/s1600/' />"
      ],
      "text/plain": [
       "<IPython.core.display.HTML object>"
      ]
     },
     "metadata": {},
     "output_type": "display_data"
    },
    {
     "data": {
      "text/html": [
       "<img style='width: 500px; margin: 0px; float: left; border: 1px solid black;' src='https://lh4.googleusercontent.com/-uu142fuPpro/SHGX6hoQgxI/AAAAAAAABrI/eyzGqHk_u6o/s1600/' />"
      ],
      "text/plain": [
       "<IPython.core.display.HTML object>"
      ]
     },
     "metadata": {},
     "output_type": "display_data"
    },
    {
     "data": {
      "text/html": [
       "<img style='width: 500px; margin: 0px; float: left; border: 1px solid black;' src='https://lh6.googleusercontent.com/-hjvNbdzzwEI/TFPi0EymdcI/AAAAAAAABdk/krHOn_PcrUE/s1600/' />"
      ],
      "text/plain": [
       "<IPython.core.display.HTML object>"
      ]
     },
     "metadata": {},
     "output_type": "display_data"
    },
    {
     "data": {
      "text/html": [
       "<img style='width: 500px; margin: 0px; float: left; border: 1px solid black;' src='http://lh5.ggpht.com/-uLN0OD_WvAQ/SL_fQ842gzI/AAAAAAAABHs/aAaCLb285qA/rj/' />"
      ],
      "text/plain": [
       "<IPython.core.display.HTML object>"
      ]
     },
     "metadata": {},
     "output_type": "display_data"
    },
    {
     "data": {
      "text/html": [
       "<img style='width: 500px; margin: 0px; float: left; border: 1px solid black;' src='http://lh3.ggpht.com/-CJtpl8Z77mE/S-xrWlbYBuI/AAAAAAAAAB4/8YdnidbZ0Fs/s1600/' />"
      ],
      "text/plain": [
       "<IPython.core.display.HTML object>"
      ]
     },
     "metadata": {},
     "output_type": "display_data"
    },
    {
     "data": {
      "text/html": [
       "<img style='width: 500px; margin: 0px; float: left; border: 1px solid black;' src='https://lh4.googleusercontent.com/-AVEfPLKUjwQ/SdF7VIFGoHI/AAAAAAAABNg/O7-q8jnIuvc/s1600/' />"
      ],
      "text/plain": [
       "<IPython.core.display.HTML object>"
      ]
     },
     "metadata": {},
     "output_type": "display_data"
    },
    {
     "data": {
      "text/html": [
       "<img style='width: 500px; margin: 0px; float: left; border: 1px solid black;' src='https://lh4.googleusercontent.com/-0bWCkQdH5no/SnXVXG3qrsI/AAAAAAAABoE/hdYgCC2ere8/s1600/' />"
      ],
      "text/plain": [
       "<IPython.core.display.HTML object>"
      ]
     },
     "metadata": {},
     "output_type": "display_data"
    },
    {
     "data": {
      "text/html": [
       "<img style='width: 500px; margin: 0px; float: left; border: 1px solid black;' src='https://lh5.googleusercontent.com/-Ok_aIvZ--gU/UkXjFY1G6BI/AAAAAAAALkg/k6ZR_OVmdAY/s1600/' />"
      ],
      "text/plain": [
       "<IPython.core.display.HTML object>"
      ]
     },
     "metadata": {},
     "output_type": "display_data"
    },
    {
     "data": {
      "text/html": [
       "<img style='width: 500px; margin: 0px; float: left; border: 1px solid black;' src='https://lh4.googleusercontent.com/-yKDyS9Y7cwU/SkvrA__5UWI/AAAAAAAADgk/hlj5n65cNvE/s1600/' />"
      ],
      "text/plain": [
       "<IPython.core.display.HTML object>"
      ]
     },
     "metadata": {},
     "output_type": "display_data"
    },
    {
     "data": {
      "text/html": [
       "<img style='width: 500px; margin: 0px; float: left; border: 1px solid black;' src='https://lh6.googleusercontent.com/-lLI_nZj5fuk/SMlZL0d1HDI/AAAAAAAACoI/MuwNasDcvdY/s1600/' />"
      ],
      "text/plain": [
       "<IPython.core.display.HTML object>"
      ]
     },
     "metadata": {},
     "output_type": "display_data"
    },
    {
     "data": {
      "text/html": [
       "<img style='width: 500px; margin: 0px; float: left; border: 1px solid black;' src='https://lh6.googleusercontent.com/-uda5w74rMaU/S82yeuJqkcI/AAAAAAAABdw/4tlwlUXFlLw/s1600/' />"
      ],
      "text/plain": [
       "<IPython.core.display.HTML object>"
      ]
     },
     "metadata": {},
     "output_type": "display_data"
    },
    {
     "data": {
      "text/html": [
       "<img style='width: 500px; margin: 0px; float: left; border: 1px solid black;' src='https://lh6.googleusercontent.com/-YOZsFjS8hVg/TMcMMi8YQBI/AAAAAAAABOA/gxMAJPK3isM/rj/' />"
      ],
      "text/plain": [
       "<IPython.core.display.HTML object>"
      ]
     },
     "metadata": {},
     "output_type": "display_data"
    },
    {
     "data": {
      "text/html": [
       "<img style='width: 500px; margin: 0px; float: left; border: 1px solid black;' src='http://lh4.ggpht.com/-YzuWuieyLyg/S6G2Lyrv8VI/AAAAAAAAQfM/fDEw0bYTHWY/s1600/' />"
      ],
      "text/plain": [
       "<IPython.core.display.HTML object>"
      ]
     },
     "metadata": {},
     "output_type": "display_data"
    },
    {
     "data": {
      "text/html": [
       "<img style='width: 500px; margin: 0px; float: left; border: 1px solid black;' src='https://lh5.googleusercontent.com/-7AoJnw2esWw/S7ubehzXuuI/AAAAAAAAAXw/NKnaXkpx1wU/s1600/' />"
      ],
      "text/plain": [
       "<IPython.core.display.HTML object>"
      ]
     },
     "metadata": {},
     "output_type": "display_data"
    },
    {
     "data": {
      "text/html": [
       "<img style='width: 500px; margin: 0px; float: left; border: 1px solid black;' src='http://lh5.ggpht.com/-UpuLIUBbpRg/ThdRqwg6CmI/AAAAAAAAK_4/oGsoU3vF-Xs/s1600/' />"
      ],
      "text/plain": [
       "<IPython.core.display.HTML object>"
      ]
     },
     "metadata": {},
     "output_type": "display_data"
    },
    {
     "data": {
      "text/html": [
       "<img style='width: 500px; margin: 0px; float: left; border: 1px solid black;' src='https://lh3.googleusercontent.com/-r2uDcs8YF-k/R756rwMpxBI/AAAAAAAAA3E/LTFZIo5RwXs/s1600/' />"
      ],
      "text/plain": [
       "<IPython.core.display.HTML object>"
      ]
     },
     "metadata": {},
     "output_type": "display_data"
    },
    {
     "data": {
      "text/html": [
       "<img style='width: 500px; margin: 0px; float: left; border: 1px solid black;' src='https://lh3.googleusercontent.com/-kebpHJWHbdg/SBZ0Tt8inJI/AAAAAAAACmo/OKhKNsVEOzI/s1600/' />"
      ],
      "text/plain": [
       "<IPython.core.display.HTML object>"
      ]
     },
     "metadata": {},
     "output_type": "display_data"
    },
    {
     "data": {
      "text/html": [
       "<img style='width: 500px; margin: 0px; float: left; border: 1px solid black;' src='https://lh5.googleusercontent.com/-EJD0G7iKv10/Ugm924ZEOjI/AAAAAAAA7w0/vQSB_3ycuAo/s1600/' />"
      ],
      "text/plain": [
       "<IPython.core.display.HTML object>"
      ]
     },
     "metadata": {},
     "output_type": "display_data"
    },
    {
     "data": {
      "text/html": [
       "<img style='width: 500px; margin: 0px; float: left; border: 1px solid black;' src='http://lh5.ggpht.com/-6Vob_tzYQSE/S5wk-YnrqbI/AAAAAAAABAs/Q9gvaaf_du0/s1600/' />"
      ],
      "text/plain": [
       "<IPython.core.display.HTML object>"
      ]
     },
     "metadata": {},
     "output_type": "display_data"
    },
    {
     "data": {
      "text/html": [
       "<img style='width: 500px; margin: 0px; float: left; border: 1px solid black;' src='https://lh6.googleusercontent.com/-xAmqD_PLM28/RrAE2_jmP0I/AAAAAAAACCU/Vq7NPptikCU/s1600/' />"
      ],
      "text/plain": [
       "<IPython.core.display.HTML object>"
      ]
     },
     "metadata": {},
     "output_type": "display_data"
    },
    {
     "data": {
      "text/html": [
       "<img style='width: 500px; margin: 0px; float: left; border: 1px solid black;' src='https://lh6.googleusercontent.com/-c6H1pYnMXaU/THaZ5Bx7I0I/AAAAAAAAAWo/XKJ4j2XlRXQ/s1600/' />"
      ],
      "text/plain": [
       "<IPython.core.display.HTML object>"
      ]
     },
     "metadata": {},
     "output_type": "display_data"
    },
    {
     "data": {
      "text/html": [
       "<img style='width: 500px; margin: 0px; float: left; border: 1px solid black;' src='https://lh5.googleusercontent.com/-6RKZOrMiqTE/UBgDAbsXk8I/AAAAAAAAG5Q/URw_308Pdc4/s1600/' />"
      ],
      "text/plain": [
       "<IPython.core.display.HTML object>"
      ]
     },
     "metadata": {},
     "output_type": "display_data"
    },
    {
     "data": {
      "text/html": [
       "<img style='width: 500px; margin: 0px; float: left; border: 1px solid black;' src='https://lh3.googleusercontent.com/-gCILJIYCEY0/TAU1kdnMVyI/AAAAAAAAASU/Ff7G0F7oBkw/s1600/' />"
      ],
      "text/plain": [
       "<IPython.core.display.HTML object>"
      ]
     },
     "metadata": {},
     "output_type": "display_data"
    },
    {
     "data": {
      "text/html": [
       "<img style='width: 500px; margin: 0px; float: left; border: 1px solid black;' src='https://lh6.googleusercontent.com/-BaHBb1fniJU/SRX61bAXl7I/AAAAAAAALE4/h22JAVB5-vc/s1600/' />"
      ],
      "text/plain": [
       "<IPython.core.display.HTML object>"
      ]
     },
     "metadata": {},
     "output_type": "display_data"
    },
    {
     "data": {
      "text/html": [
       "<img style='width: 500px; margin: 0px; float: left; border: 1px solid black;' src='http://lh4.ggpht.com/-OM1cKZCxm2g/SYIg8jE7AgI/AAAAAAAAA9U/G9pM_7N07Y8/s1600/' />"
      ],
      "text/plain": [
       "<IPython.core.display.HTML object>"
      ]
     },
     "metadata": {},
     "output_type": "display_data"
    },
    {
     "data": {
      "text/html": [
       "<img style='width: 500px; margin: 0px; float: left; border: 1px solid black;' src='http://lh6.ggpht.com/-7Uu23vhvieY/Sehon7kKivI/AAAAAAAAAfY/kzSTCQWaaps/s1600/' />"
      ],
      "text/plain": [
       "<IPython.core.display.HTML object>"
      ]
     },
     "metadata": {},
     "output_type": "display_data"
    },
    {
     "data": {
      "text/html": [
       "<img style='width: 500px; margin: 0px; float: left; border: 1px solid black;' src='http://lh4.ggpht.com/-vyK23KRCis4/T7T_YFZ3rQI/AAAAAAAAABk/hyncAVWEHug/s1600/' />"
      ],
      "text/plain": [
       "<IPython.core.display.HTML object>"
      ]
     },
     "metadata": {},
     "output_type": "display_data"
    },
    {
     "data": {
      "text/html": [
       "<img style='width: 500px; margin: 0px; float: left; border: 1px solid black;' src='http://lh6.ggpht.com/-24D6rS6-E7Y/SRVYdUC7mbI/AAAAAAAABHs/GQUJqqsQwjY/s1600/' />"
      ],
      "text/plain": [
       "<IPython.core.display.HTML object>"
      ]
     },
     "metadata": {},
     "output_type": "display_data"
    },
    {
     "data": {
      "text/html": [
       "<img style='width: 500px; margin: 0px; float: left; border: 1px solid black;' src='https://lh5.googleusercontent.com/-vNm4Qep4xvc/RucMw5WOW5I/AAAAAAAAAyY/MXCsn0AvJRs/s1600/' />"
      ],
      "text/plain": [
       "<IPython.core.display.HTML object>"
      ]
     },
     "metadata": {},
     "output_type": "display_data"
    },
    {
     "data": {
      "text/html": [
       "<img style='width: 500px; margin: 0px; float: left; border: 1px solid black;' src='http://mw2.google.com/mw-panoramio/photos/medium/25520314.jpg' />"
      ],
      "text/plain": [
       "<IPython.core.display.HTML object>"
      ]
     },
     "metadata": {},
     "output_type": "display_data"
    },
    {
     "data": {
      "text/html": [
       "<img style='width: 500px; margin: 0px; float: left; border: 1px solid black;' src='https://lh5.googleusercontent.com/-J4zYoHnZ8Xk/Twz2XHboQHI/AAAAAAAABCo/z87CSocZHuY/s1600/' />"
      ],
      "text/plain": [
       "<IPython.core.display.HTML object>"
      ]
     },
     "metadata": {},
     "output_type": "display_data"
    },
    {
     "data": {
      "text/html": [
       "<img style='width: 500px; margin: 0px; float: left; border: 1px solid black;' src='https://lh4.googleusercontent.com/-J3-mGv6lFAc/R2ajNkL_YDI/AAAAAAAAAWY/k3_-1LEGtfY/s1600/' />"
      ],
      "text/plain": [
       "<IPython.core.display.HTML object>"
      ]
     },
     "metadata": {},
     "output_type": "display_data"
    },
    {
     "data": {
      "text/html": [
       "<img style='width: 500px; margin: 0px; float: left; border: 1px solid black;' src='https://lh6.googleusercontent.com/-KxLAESHHqdg/S3MDz0nnqpI/AAAAAAAABdM/CofCjdYs4kg/s1600/' />"
      ],
      "text/plain": [
       "<IPython.core.display.HTML object>"
      ]
     },
     "metadata": {},
     "output_type": "display_data"
    },
    {
     "data": {
      "text/html": [
       "<img style='width: 500px; margin: 0px; float: left; border: 1px solid black;' src='http://lh6.ggpht.com/-IvKcAX9IeQ8/Sb5f9Ur6FaI/AAAAAAAAE4w/pazI3srCO9w/rj/' />"
      ],
      "text/plain": [
       "<IPython.core.display.HTML object>"
      ]
     },
     "metadata": {},
     "output_type": "display_data"
    },
    {
     "data": {
      "text/html": [
       "<img style='width: 500px; margin: 0px; float: left; border: 1px solid black;' src='http://lh6.ggpht.com/-n58xiLS2Pyc/TkmbBVlHyMI/AAAAAAAADxU/RDhsYaXG3TE/s1600/' />"
      ],
      "text/plain": [
       "<IPython.core.display.HTML object>"
      ]
     },
     "metadata": {},
     "output_type": "display_data"
    },
    {
     "data": {
      "text/html": [
       "<img style='width: 500px; margin: 0px; float: left; border: 1px solid black;' src='http://lh4.ggpht.com/-1PIefeawLOA/TWcYsVMzwHI/AAAAAAAAA5Q/O-J3ARMuoyc/s1600/' />"
      ],
      "text/plain": [
       "<IPython.core.display.HTML object>"
      ]
     },
     "metadata": {},
     "output_type": "display_data"
    },
    {
     "data": {
      "text/html": [
       "<img style='width: 500px; margin: 0px; float: left; border: 1px solid black;' src='http://lh4.ggpht.com/-z8q8ifPKNbw/Slk432VPDPI/AAAAAAAABk4/lQxw7QFWwCQ/s1600/' />"
      ],
      "text/plain": [
       "<IPython.core.display.HTML object>"
      ]
     },
     "metadata": {},
     "output_type": "display_data"
    },
    {
     "data": {
      "text/html": [
       "<img style='width: 500px; margin: 0px; float: left; border: 1px solid black;' src='https://lh6.googleusercontent.com/-QCDV0ENYxPI/SKfNbKY2CtI/AAAAAAAABxA/UIj8746bUTw/s0-d/' />"
      ],
      "text/plain": [
       "<IPython.core.display.HTML object>"
      ]
     },
     "metadata": {},
     "output_type": "display_data"
    },
    {
     "data": {
      "text/html": [
       "<img style='width: 500px; margin: 0px; float: left; border: 1px solid black;' src='https://lh5.googleusercontent.com/-NUKyaAOAgas/Sj_uReNEq-I/AAAAAAAAANY/gUTRGaTaiN8/rj/' />"
      ],
      "text/plain": [
       "<IPython.core.display.HTML object>"
      ]
     },
     "metadata": {},
     "output_type": "display_data"
    },
    {
     "data": {
      "text/html": [
       "<img style='width: 500px; margin: 0px; float: left; border: 1px solid black;' src='http://lh4.ggpht.com/-_X7nI-75w8g/SgMLSQSXDgI/AAAAAAAABns/YZjlL9lgu98/s1600/' />"
      ],
      "text/plain": [
       "<IPython.core.display.HTML object>"
      ]
     },
     "metadata": {},
     "output_type": "display_data"
    },
    {
     "data": {
      "text/html": [
       "<img style='width: 500px; margin: 0px; float: left; border: 1px solid black;' src='http://lh6.ggpht.com/-r1LjRS9oOvM/S5AP9aYUj7I/AAAAAAAACW4/9-zRL-rwY40/s1600/' />"
      ],
      "text/plain": [
       "<IPython.core.display.HTML object>"
      ]
     },
     "metadata": {},
     "output_type": "display_data"
    },
    {
     "data": {
      "text/html": [
       "<img style='width: 500px; margin: 0px; float: left; border: 1px solid black;' src='http://lh4.ggpht.com/-Q0dIIT0LWEQ/R3J24z32yTI/AAAAAAAABR0/PbLYcD3k7Es/s1600/' />"
      ],
      "text/plain": [
       "<IPython.core.display.HTML object>"
      ]
     },
     "metadata": {},
     "output_type": "display_data"
    },
    {
     "data": {
      "text/html": [
       "<img style='width: 500px; margin: 0px; float: left; border: 1px solid black;' src='http://mw2.google.com/mw-panoramio/photos/medium/22400863.jpg' />"
      ],
      "text/plain": [
       "<IPython.core.display.HTML object>"
      ]
     },
     "metadata": {},
     "output_type": "display_data"
    },
    {
     "data": {
      "text/html": [
       "<img style='width: 500px; margin: 0px; float: left; border: 1px solid black;' src='http://lh4.ggpht.com/-TcsUKA57m6s/RySqlnGdq_I/AAAAAAAAAWA/d1ch-NJLzE4/s1600/' />"
      ],
      "text/plain": [
       "<IPython.core.display.HTML object>"
      ]
     },
     "metadata": {},
     "output_type": "display_data"
    },
    {
     "data": {
      "text/html": [
       "<img style='width: 500px; margin: 0px; float: left; border: 1px solid black;' src='http://lh3.ggpht.com/-xpk9kRpv65o/ToGbE6Vi4_I/AAAAAAAABA0/Smxe9XqC4qY/s1600/' />"
      ],
      "text/plain": [
       "<IPython.core.display.HTML object>"
      ]
     },
     "metadata": {},
     "output_type": "display_data"
    },
    {
     "data": {
      "text/html": [
       "<img style='width: 500px; margin: 0px; float: left; border: 1px solid black;' src='https://lh4.googleusercontent.com/-9pL3NosFgKQ/TOKArK4l7fI/AAAAAAAAOv8/GyqxhDyJdSU/s1600/' />"
      ],
      "text/plain": [
       "<IPython.core.display.HTML object>"
      ]
     },
     "metadata": {},
     "output_type": "display_data"
    },
    {
     "data": {
      "text/html": [
       "<img style='width: 500px; margin: 0px; float: left; border: 1px solid black;' src='https://lh6.googleusercontent.com/-KmY65KLxSlk/TcUSPEMs44I/AAAAAAAAAwY/pjYvePK5Zlk/s1600/' />"
      ],
      "text/plain": [
       "<IPython.core.display.HTML object>"
      ]
     },
     "metadata": {},
     "output_type": "display_data"
    },
    {
     "data": {
      "text/html": [
       "<img style='width: 500px; margin: 0px; float: left; border: 1px solid black;' src='http://lh4.ggpht.com/-q4t2BCB-5hk/S59ETA-o0CI/AAAAAAAAALg/afSaIOMnwGw/s1600/' />"
      ],
      "text/plain": [
       "<IPython.core.display.HTML object>"
      ]
     },
     "metadata": {},
     "output_type": "display_data"
    },
    {
     "data": {
      "text/html": [
       "<img style='width: 500px; margin: 0px; float: left; border: 1px solid black;' src='https://lh6.googleusercontent.com/-2M8kBxuyWMU/SLbLfW-y3vI/AAAAAAAAE7Q/fsdcJLPXsiY/rj/' />"
      ],
      "text/plain": [
       "<IPython.core.display.HTML object>"
      ]
     },
     "metadata": {},
     "output_type": "display_data"
    },
    {
     "data": {
      "text/html": [
       "<img style='width: 500px; margin: 0px; float: left; border: 1px solid black;' src='http://lh3.ggpht.com/-3ob6Pa7Aiu0/UDh3TnBcG3I/AAAAAAAAA6I/lKgRruC7Ong/s1600/' />"
      ],
      "text/plain": [
       "<IPython.core.display.HTML object>"
      ]
     },
     "metadata": {},
     "output_type": "display_data"
    }
   ],
   "source": [
    "#Displaying the images\n",
    "for x in range(100):\n",
    "    display_image(train_data['url'][x])"
   ]
  },
  {
   "cell_type": "code",
   "execution_count": 51,
   "metadata": {},
   "outputs": [],
   "source": [
    "from keras.preprocessing import image\n",
    "def path_to_tensor(img_path):\n",
    "    # loads RGB image as PIL.Image.Image type\n",
    "    img = image.load_img(img_path, target_size=(224, 224))\n",
    "    # convert PIL.Image.Image type to 3D tensor with shape (224, 224, 3)\n",
    "    x = image.img_to_array(img)\n",
    "    # convert 3D tensor to 4D tensor with shape (1, 224, 224, 3) and return 4D tensor\n",
    "    return np.expand_dims(x, axis=0)"
   ]
  },
  {
   "cell_type": "code",
   "execution_count": 52,
   "metadata": {},
   "outputs": [],
   "source": [
    "import sys\n",
    "# https://gist.github.com/vladignatyev/06860ec2040cb497f0f3\n",
    "# vladignatyev's progress bar\n",
    "# remove later\n",
    "def progress(count, total, status=''):\n",
    "    bar_len = 60\n",
    "    filled_len = int(round(bar_len * count / float(total)))\n",
    "\n",
    "    percents = round(100.0 * count / float(total), 1)\n",
    "    bar = '=' * filled_len + '-' * (bar_len - filled_len)\n",
    "\n",
    "    sys.stdout.write('[%s] %s%s ...%s\\r' % (bar, percents, '%', status))\n",
    "    sys.stdout.flush()  # As suggested by Rom Ruben (see: http://stackoverflow.com/questions/3173320/text-progress-bar-in-the-console/27871113#comment50529068_27871113)\n"
   ]
  },
  {
   "cell_type": "code",
   "execution_count": 53,
   "metadata": {},
   "outputs": [],
   "source": [
    "def setter(x, adder, data):\n",
    "    try:\n",
    "        url1 = data['url'][x+adder]\n",
    "        urllib.request.urlretrieve(url1, 'tempfiles/evaluated.jpg')\n",
    "        return True\n",
    "    except:\n",
    "        return False"
   ]
  },
  {
   "cell_type": "code",
   "execution_count": 54,
   "metadata": {
    "scrolled": false
   },
   "outputs": [
    {
     "name": "stderr",
     "output_type": "stream",
     "text": [
      "/anaconda3/lib/python3.7/site-packages/keras_applications/resnet50.py:265: UserWarning: The output shape of `ResNet50(include_top=False)` has been changed since Keras 2.2.0.\n",
      "  warnings.warn('The output shape of `ResNet50(include_top=False)` '\n"
     ]
    },
    {
     "name": "stdout",
     "output_type": "stream",
     "text": [
      "[===========================================================-] 99.0% ...\r"
     ]
    },
    {
     "name": "stderr",
     "output_type": "stream",
     "text": [
      "/anaconda3/lib/python3.7/site-packages/keras_applications/resnet50.py:265: UserWarning: The output shape of `ResNet50(include_top=False)` has been changed since Keras 2.2.0.\n",
      "  warnings.warn('The output shape of `ResNet50(include_top=False)` '\n"
     ]
    },
    {
     "name": "stdout",
     "output_type": "stream",
     "text": [
      "[===========================================================-] 99.0% ...\r"
     ]
    }
   ],
   "source": [
    "from tensorflow.python.keras.applications import ResNet50\n",
    "from tensorflow.python.keras.models import Sequential\n",
    "import urllib.request\n",
    "import scipy\n",
    "import pandas as pd\n",
    "\n",
    "def create_resnet50_csv(data, length, suffix):\n",
    "\n",
    "    url0 = data['url'][0]\n",
    "    urllib.request.urlretrieve(url0, 'tempfiles/evaluated.jpg')\n",
    "\n",
    "    model = Sequential()\n",
    "    model = ResNet50(include_top=False, weights='imagenet')\n",
    "\n",
    "\n",
    "    evaluated_coords = model.predict(path_to_tensor(\"tempfiles/evaluated.jpg\"))\n",
    "\n",
    "    flat = evaluated_coords.flatten()\n",
    "\n",
    "    datalist = [flat]\n",
    "\n",
    "    index_list = np.full((1,1), 0)\n",
    "\n",
    "    adder = 1\n",
    "\n",
    "    for x in range(length-1):\n",
    "        progress(x,length-1)\n",
    "        temp = setter(x, adder, data)\n",
    "        while temp is not True:\n",
    "            adder += 1\n",
    "            temp = setter(x, adder, data)\n",
    "        evaluated_coords = model.predict(path_to_tensor(\"tempfiles/evaluated.jpg\"))\n",
    "        flat = evaluated_coords.flatten()\n",
    "        datalist = np.append(datalist, [flat], axis=0)\n",
    "\n",
    "        current_row = np.full((1,1), x+adder)\n",
    "        index_list = np.append(index_list, current_row)\n",
    "\n",
    "\n",
    "    dataframe = pd.DataFrame(datalist)\n",
    "    index_dataframe = pd.DataFrame(index_list)\n",
    "    \n",
    "    dataframe.to_csv(\"data/bottleneck_features\" + suffix + \".csv\", sep=',', encoding='utf-8')\n",
    "    index_dataframe.to_csv(\"data/indices\" + suffix + \".csv\", sep=',', encoding='utf-8')\n",
    "\n",
    "create_resnet50_csv(train_data, 100, \"_train\")\n",
    "create_resnet50_csv(test_data, 100, \"_test\")"
   ]
  },
  {
   "cell_type": "code",
   "execution_count": 89,
   "metadata": {},
   "outputs": [],
   "source": [
    "def is_same_landmark(indices, id_getter, row1, row2):\n",
    "    actual_row1 = indices.iloc[row1][1]\n",
    "    actual_row2 = indices.iloc[row2][1]\n",
    "    id1 = id_getter['landmark_id'][actual_row1]\n",
    "    id2 = id_getter['landmark_id'][actual_row2]\n",
    "    return id1 == id2"
   ]
  },
  {
   "cell_type": "code",
   "execution_count": 85,
   "metadata": {},
   "outputs": [
    {
     "name": "stdout",
     "output_type": "stream",
     "text": [
      "6051\n",
      "True\n"
     ]
    }
   ],
   "source": [
    "indices = pd.read_csv('data/indices_train.csv')\n",
    "print(is_same_landmark(indices,train_data,89,84))"
   ]
  },
  {
   "cell_type": "code",
   "execution_count": 105,
   "metadata": {},
   "outputs": [],
   "source": [
    "import random\n",
    "\n",
    "def to_add():\n",
    "    if random.random()<0.0043:\n",
    "        return True\n",
    "    else:\n",
    "        return False"
   ]
  },
  {
   "cell_type": "code",
   "execution_count": 110,
   "metadata": {},
   "outputs": [],
   "source": [
    "def add_row(data_array, bottleneck_features, indices, row_num):\n",
    "    row = bottleneck_features.iloc[row_num]\n",
    "    for x in range(100):\n",
    "        combined_row = []\n",
    "        if x != row_num:\n",
    "            eval_row = bottleneck_features.iloc[x]\n",
    "            if is_same_landmark(indices, train_data, row_num, x):\n",
    "                combined_row = np.append([1], row)\n",
    "                combined_row = np.append(combined_row, eval_row)\n",
    "            else:\n",
    "                if (to_add()):\n",
    "                    combined_row = np.append([0], row)\n",
    "                    combined_row = np.append(combined_row, eval_row)\n",
    "                    \n",
    "        if len(combined_row) > 0:\n",
    "            if data_array is None:\n",
    "                data_array = [combined_row]\n",
    "            else:\n",
    "                data_array = np.append(data_array, [combined_row], axis=0)\n",
    "    return data_array"
   ]
  },
  {
   "cell_type": "code",
   "execution_count": 111,
   "metadata": {},
   "outputs": [
    {
     "name": "stdout",
     "output_type": "stream",
     "text": [
      "[array([ 0.      ,  0.      , -0.      , ...,  3.760726, -0.      , ...\n",
      "       -0.      ])]\n",
      "[[ 0.         0.        -0.        ...  3.760726  -0.        -0.       ]\n",
      " [ 0.         1.        -0.        ...  0.4211488 -0.        -0.       ]\n",
      " [ 0.         1.        -0.        ... -0.        -0.         3.5979896]]\n",
      "[[ 0.         0.        -0.        ...  3.760726  -0.        -0.       ]\n",
      " [ 0.         1.        -0.        ...  0.4211488 -0.        -0.       ]\n",
      " [ 0.         1.        -0.        ... -0.        -0.         3.5979896]]\n",
      "[[ 0.         0.        -0.        ...  3.760726  -0.        -0.       ]\n",
      " [ 0.         1.        -0.        ...  0.4211488 -0.        -0.       ]\n",
      " [ 0.         1.        -0.        ... -0.        -0.         3.5979896]]\n",
      "[[ 0.         0.        -0.        ...  3.760726  -0.        -0.       ]\n",
      " [ 0.         1.        -0.        ...  0.4211488 -0.        -0.       ]\n",
      " [ 0.         1.        -0.        ... -0.        -0.         3.5979896]]\n",
      "[[ 0.          0.         -0.         ...  3.760726   -0.----] 5.0% ...\n",
      "  -0.        ]\n",
      " [ 0.          1.         -0.         ...  0.4211488  -0.\n",
      "  -0.        ]\n",
      " [ 0.          1.         -0.         ... -0.         -0.\n",
      "   3.5979896 ]\n",
      " [ 1.          5.         -0.         ... -0.         -0.\n",
      "   0.70085704]\n",
      " [ 1.          5.         -0.         ...  7.6731734  -0.\n",
      "  -0.        ]]\n",
      "[[ 0.          0.         -0.         ...  3.760726   -0.----] 6.0% ...\n",
      "  -0.        ]\n",
      " [ 0.          1.         -0.         ...  0.4211488  -0.\n",
      "  -0.        ]\n",
      " [ 0.          1.         -0.         ... -0.         -0.\n",
      "   3.5979896 ]\n",
      " [ 1.          5.         -0.         ... -0.         -0.\n",
      "   0.70085704]\n",
      " [ 1.          5.         -0.         ...  7.6731734  -0.\n",
      "  -0.        ]\n",
      " [ 0.          6.         -0.         ...  8.336096   -0.\n",
      "  -0.        ]]\n",
      "[[ 0.          0.         -0.         ...  3.760726   -0.----] 7.0% ...\n",
      "  -0.        ]\n",
      " [ 0.          1.         -0.         ...  0.4211488  -0.\n",
      "  -0.        ]\n",
      " [ 0.          1.         -0.         ... -0.         -0.\n",
      "   3.5979896 ]\n",
      " [ 1.          5.         -0.         ... -0.         -0.\n",
      "   0.70085704]\n",
      " [ 1.          5.         -0.         ...  7.6731734  -0.\n",
      "  -0.        ]\n",
      " [ 0.          6.         -0.         ...  8.336096   -0.\n",
      "  -0.        ]]\n",
      "[[ 0.          0.         -0.         ...  3.760726   -0.----] 8.0% ...\n",
      "  -0.        ]\n",
      " [ 0.          1.         -0.         ...  0.4211488  -0.\n",
      "  -0.        ]\n",
      " [ 0.          1.         -0.         ... -0.         -0.\n",
      "   3.5979896 ]\n",
      " [ 1.          5.         -0.         ... -0.         -0.\n",
      "   0.70085704]\n",
      " [ 1.          5.         -0.         ...  7.6731734  -0.\n",
      "  -0.        ]\n",
      " [ 0.          6.         -0.         ...  8.336096   -0.\n",
      "  -0.        ]]\n",
      "[[ 0.         0.        -0.        ...  3.760726  -0.        -0.       ]\n",
      " [ 0.         1.        -0.        ...  0.4211488 -0.        -0.       ]\n",
      " [ 0.         1.        -0.        ... -0.        -0.         3.5979896]\n",
      " ...\n",
      " [ 0.         6.        -0.        ...  8.336096  -0.        -0.       ]\n",
      " [ 1.         9.        -0.        ... -0.         1.8763129 -0.       ]\n",
      " [ 1.         9.        -0.        ...  7.6731734 -0.        -0.       ]]\n",
      "[[ 0.         0.        -0.        ...  3.760726  -0.        -0.       ]\n",
      " [ 0.         1.        -0.        ...  0.4211488 -0.        -0.       ]\n",
      " [ 0.         1.        -0.        ... -0.        -0.         3.5979896]\n",
      " ...\n",
      " [ 0.         6.        -0.        ...  8.336096  -0.        -0.       ]\n",
      " [ 1.         9.        -0.        ... -0.         1.8763129 -0.       ]\n",
      " [ 1.         9.        -0.        ...  7.6731734 -0.        -0.       ]]\n",
      "[[ 0.         0.        -0.        ...  3.760726  -0.        -0.       ]\n",
      " [ 0.         1.        -0.        ...  0.4211488 -0.        -0.       ]\n",
      " [ 0.         1.        -0.        ... -0.        -0.         3.5979896]\n",
      " ...\n",
      " [ 0.         6.        -0.        ...  8.336096  -0.        -0.       ]\n",
      " [ 1.         9.        -0.        ... -0.         1.8763129 -0.       ]\n",
      " [ 1.         9.        -0.        ...  7.6731734 -0.        -0.       ]]\n",
      "[[ 0.         0.        -0.        ...  3.760726  -0.        -0.       ]\n",
      " [ 0.         1.        -0.        ...  0.4211488 -0.        -0.       ]\n",
      " [ 0.         1.        -0.        ... -0.        -0.         3.5979896]\n",
      " ...\n",
      " [ 0.         6.        -0.        ...  8.336096  -0.        -0.       ]\n",
      " [ 1.         9.        -0.        ... -0.         1.8763129 -0.       ]\n",
      " [ 1.         9.        -0.        ...  7.6731734 -0.        -0.       ]]\n",
      "[[ 0.         0.        -0.        ...  3.760726  -0.        -0.       ]\n",
      " [ 0.         1.        -0.        ...  0.4211488 -0.        -0.       ]\n",
      " [ 0.         1.        -0.        ... -0.        -0.         3.5979896]\n",
      " ...\n",
      " [ 0.         6.        -0.        ...  8.336096  -0.        -0.       ]\n",
      " [ 1.         9.        -0.        ... -0.         1.8763129 -0.       ]\n",
      " [ 1.         9.        -0.        ...  7.6731734 -0.        -0.       ]]\n",
      "[[ 0.         0.        -0.        ...  3.760726  -0.        -0.       ]\n",
      " [ 0.         1.        -0.        ...  0.4211488 -0.        -0.       ]\n",
      " [ 0.         1.        -0.        ... -0.        -0.         3.5979896]\n",
      " ...\n",
      " [ 0.         6.        -0.        ...  8.336096  -0.        -0.       ]\n",
      " [ 1.         9.        -0.        ... -0.         1.8763129 -0.       ]\n",
      " [ 1.         9.        -0.        ...  7.6731734 -0.        -0.       ]]\n",
      "[[ 0.         0.        -0.        ...  3.760726  -0.        -0.       ]\n",
      " [ 0.         1.        -0.        ...  0.4211488 -0.        -0.       ]\n",
      " [ 0.         1.        -0.        ... -0.        -0.         3.5979896]\n",
      " ...\n",
      " [ 0.         6.        -0.        ...  8.336096  -0.        -0.       ]\n",
      " [ 1.         9.        -0.        ... -0.         1.8763129 -0.       ]\n",
      " [ 1.         9.        -0.        ...  7.6731734 -0.        -0.       ]]\n",
      "[[ 0.         0.        -0.        ...  3.760726  -0.        -0.       ]\n",
      " [ 0.         1.        -0.        ...  0.4211488 -0.        -0.       ]\n",
      " [ 0.         1.        -0.        ... -0.        -0.         3.5979896]\n",
      " ...\n",
      " [ 0.         6.        -0.        ...  8.336096  -0.        -0.       ]\n",
      " [ 1.         9.        -0.        ... -0.         1.8763129 -0.       ]\n",
      " [ 1.         9.        -0.        ...  7.6731734 -0.        -0.       ]]\n",
      "[[ 0.         0.        -0.        ...  3.760726  -0.        -0.       ]\n",
      " [ 0.         1.        -0.        ...  0.4211488 -0.        -0.       ]\n",
      " [ 0.         1.        -0.        ... -0.        -0.         3.5979896]\n",
      " ...\n",
      " [ 0.         6.        -0.        ...  8.336096  -0.        -0.       ]\n",
      " [ 1.         9.        -0.        ... -0.         1.8763129 -0.       ]\n",
      " [ 1.         9.        -0.        ...  7.6731734 -0.        -0.       ]]\n",
      "[[ 0.         0.        -0.        ...  3.760726  -0.        -0.       ]\n",
      " [ 0.         1.        -0.        ...  0.4211488 -0.        -0.       ]\n",
      " [ 0.         1.        -0.        ... -0.        -0.         3.5979896]\n",
      " ...\n",
      " [ 1.         9.        -0.        ... -0.         1.8763129 -0.       ]\n",
      " [ 1.         9.        -0.        ...  7.6731734 -0.        -0.       ]\n",
      " [ 0.        18.        -0.        ... 11.594758  -0.        -0.       ]]\n",
      "[[ 0.         0.        -0.        ...  3.760726  -0.        -0.       ]\n",
      " [ 0.         1.        -0.        ...  0.4211488 -0.        -0.       ]\n",
      " [ 0.         1.        -0.        ... -0.        -0.         3.5979896]\n",
      " ...\n",
      " [ 1.         9.        -0.        ... -0.         1.8763129 -0.       ]\n",
      " [ 1.         9.        -0.        ...  7.6731734 -0.        -0.       ]\n",
      " [ 0.        18.        -0.        ... 11.594758  -0.        -0.       ]]\n",
      "[[ 0.0000000e+00  0.0000000e+00 -0.0000000e+00 ...  3.7607260e+00.0% ...\n",
      "  -0.0000000e+00 -0.0000000e+00]\n",
      " [ 0.0000000e+00  1.0000000e+00 -0.0000000e+00 ...  4.2114880e-01\n",
      "  -0.0000000e+00 -0.0000000e+00]\n",
      " [ 0.0000000e+00  1.0000000e+00 -0.0000000e+00 ... -0.0000000e+00\n",
      "  -0.0000000e+00  3.5979896e+00]\n",
      " ...\n",
      " [ 1.0000000e+00  2.0000000e+01 -0.0000000e+00 ...  7.7641835e+00\n",
      "  -0.0000000e+00 -0.0000000e+00]\n",
      " [ 1.0000000e+00  2.0000000e+01 -0.0000000e+00 ... -0.0000000e+00\n",
      "  -0.0000000e+00 -0.0000000e+00]\n",
      " [ 1.0000000e+00  2.0000000e+01 -0.0000000e+00 ...  4.6671630e-03\n",
      "  -0.0000000e+00  4.9407410e+00]]\n"
     ]
    },
    {
     "name": "stdout",
     "output_type": "stream",
     "text": [
      "[[ 0.0000000e+00  0.0000000e+00 -0.0000000e+00 ...  3.7607260e+00.0% ...\n",
      "  -0.0000000e+00 -0.0000000e+00]\n",
      " [ 0.0000000e+00  1.0000000e+00 -0.0000000e+00 ...  4.2114880e-01\n",
      "  -0.0000000e+00 -0.0000000e+00]\n",
      " [ 0.0000000e+00  1.0000000e+00 -0.0000000e+00 ... -0.0000000e+00\n",
      "  -0.0000000e+00  3.5979896e+00]\n",
      " ...\n",
      " [ 1.0000000e+00  2.0000000e+01 -0.0000000e+00 ...  7.7641835e+00\n",
      "  -0.0000000e+00 -0.0000000e+00]\n",
      " [ 1.0000000e+00  2.0000000e+01 -0.0000000e+00 ... -0.0000000e+00\n",
      "  -0.0000000e+00 -0.0000000e+00]\n",
      " [ 1.0000000e+00  2.0000000e+01 -0.0000000e+00 ...  4.6671630e-03\n",
      "  -0.0000000e+00  4.9407410e+00]]\n",
      "[[ 0.0000000e+00  0.0000000e+00 -0.0000000e+00 ...  3.7607260e+00.0% ...\n",
      "  -0.0000000e+00 -0.0000000e+00]\n",
      " [ 0.0000000e+00  1.0000000e+00 -0.0000000e+00 ...  4.2114880e-01\n",
      "  -0.0000000e+00 -0.0000000e+00]\n",
      " [ 0.0000000e+00  1.0000000e+00 -0.0000000e+00 ... -0.0000000e+00\n",
      "  -0.0000000e+00  3.5979896e+00]\n",
      " ...\n",
      " [ 1.0000000e+00  2.0000000e+01 -0.0000000e+00 ...  7.7641835e+00\n",
      "  -0.0000000e+00 -0.0000000e+00]\n",
      " [ 1.0000000e+00  2.0000000e+01 -0.0000000e+00 ... -0.0000000e+00\n",
      "  -0.0000000e+00 -0.0000000e+00]\n",
      " [ 1.0000000e+00  2.0000000e+01 -0.0000000e+00 ...  4.6671630e-03\n",
      "  -0.0000000e+00  4.9407410e+00]]\n",
      "[[ 0.0000000e+00  0.0000000e+00 -0.0000000e+00 ...  3.7607260e+00.0% ...\n",
      "  -0.0000000e+00 -0.0000000e+00]\n",
      " [ 0.0000000e+00  1.0000000e+00 -0.0000000e+00 ...  4.2114880e-01\n",
      "  -0.0000000e+00 -0.0000000e+00]\n",
      " [ 0.0000000e+00  1.0000000e+00 -0.0000000e+00 ... -0.0000000e+00\n",
      "  -0.0000000e+00  3.5979896e+00]\n",
      " ...\n",
      " [ 1.0000000e+00  2.0000000e+01 -0.0000000e+00 ...  7.7641835e+00\n",
      "  -0.0000000e+00 -0.0000000e+00]\n",
      " [ 1.0000000e+00  2.0000000e+01 -0.0000000e+00 ... -0.0000000e+00\n",
      "  -0.0000000e+00 -0.0000000e+00]\n",
      " [ 1.0000000e+00  2.0000000e+01 -0.0000000e+00 ...  4.6671630e-03\n",
      "  -0.0000000e+00  4.9407410e+00]]\n",
      "[[ 0.0000000e+00  0.0000000e+00 -0.0000000e+00 ...  3.7607260e+00.0% ...\n",
      "  -0.0000000e+00 -0.0000000e+00]\n",
      " [ 0.0000000e+00  1.0000000e+00 -0.0000000e+00 ...  4.2114880e-01\n",
      "  -0.0000000e+00 -0.0000000e+00]\n",
      " [ 0.0000000e+00  1.0000000e+00 -0.0000000e+00 ... -0.0000000e+00\n",
      "  -0.0000000e+00  3.5979896e+00]\n",
      " ...\n",
      " [ 1.0000000e+00  2.0000000e+01 -0.0000000e+00 ...  7.7641835e+00\n",
      "  -0.0000000e+00 -0.0000000e+00]\n",
      " [ 1.0000000e+00  2.0000000e+01 -0.0000000e+00 ... -0.0000000e+00\n",
      "  -0.0000000e+00 -0.0000000e+00]\n",
      " [ 1.0000000e+00  2.0000000e+01 -0.0000000e+00 ...  4.6671630e-03\n",
      "  -0.0000000e+00  4.9407410e+00]]\n",
      "[[ 0.0000000e+00  0.0000000e+00 -0.0000000e+00 ...  3.7607260e+00.0% ...\n",
      "  -0.0000000e+00 -0.0000000e+00]\n",
      " [ 0.0000000e+00  1.0000000e+00 -0.0000000e+00 ...  4.2114880e-01\n",
      "  -0.0000000e+00 -0.0000000e+00]\n",
      " [ 0.0000000e+00  1.0000000e+00 -0.0000000e+00 ... -0.0000000e+00\n",
      "  -0.0000000e+00  3.5979896e+00]\n",
      " ...\n",
      " [ 1.0000000e+00  2.0000000e+01 -0.0000000e+00 ...  7.7641835e+00\n",
      "  -0.0000000e+00 -0.0000000e+00]\n",
      " [ 1.0000000e+00  2.0000000e+01 -0.0000000e+00 ... -0.0000000e+00\n",
      "  -0.0000000e+00 -0.0000000e+00]\n",
      " [ 1.0000000e+00  2.0000000e+01 -0.0000000e+00 ...  4.6671630e-03\n",
      "  -0.0000000e+00  4.9407410e+00]]\n",
      "[[ 0.0000000e+00  0.0000000e+00 -0.0000000e+00 ...  3.7607260e+00.0% ...\n",
      "  -0.0000000e+00 -0.0000000e+00]\n",
      " [ 0.0000000e+00  1.0000000e+00 -0.0000000e+00 ...  4.2114880e-01\n",
      "  -0.0000000e+00 -0.0000000e+00]\n",
      " [ 0.0000000e+00  1.0000000e+00 -0.0000000e+00 ... -0.0000000e+00\n",
      "  -0.0000000e+00  3.5979896e+00]\n",
      " ...\n",
      " [ 1.0000000e+00  2.6000000e+01 -0.0000000e+00 ...  7.7641835e+00\n",
      "  -0.0000000e+00 -0.0000000e+00]\n",
      " [ 1.0000000e+00  2.6000000e+01 -0.0000000e+00 ... -0.0000000e+00\n",
      "  -0.0000000e+00 -0.0000000e+00]\n",
      " [ 1.0000000e+00  2.6000000e+01 -0.0000000e+00 ...  4.6671630e-03\n",
      "  -0.0000000e+00  4.9407410e+00]]\n",
      "[[ 0.0000000e+00  0.0000000e+00 -0.0000000e+00 ...  3.7607260e+00.0% ...\n",
      "  -0.0000000e+00 -0.0000000e+00]\n",
      " [ 0.0000000e+00  1.0000000e+00 -0.0000000e+00 ...  4.2114880e-01\n",
      "  -0.0000000e+00 -0.0000000e+00]\n",
      " [ 0.0000000e+00  1.0000000e+00 -0.0000000e+00 ... -0.0000000e+00\n",
      "  -0.0000000e+00  3.5979896e+00]\n",
      " ...\n",
      " [ 1.0000000e+00  2.6000000e+01 -0.0000000e+00 ...  7.7641835e+00\n",
      "  -0.0000000e+00 -0.0000000e+00]\n",
      " [ 1.0000000e+00  2.6000000e+01 -0.0000000e+00 ... -0.0000000e+00\n",
      "  -0.0000000e+00 -0.0000000e+00]\n",
      " [ 1.0000000e+00  2.6000000e+01 -0.0000000e+00 ...  4.6671630e-03\n",
      "  -0.0000000e+00  4.9407410e+00]]\n",
      "[[ 0.0000000e+00  0.0000000e+00 -0.0000000e+00 ...  3.7607260e+00.0% ...\n",
      "  -0.0000000e+00 -0.0000000e+00]\n",
      " [ 0.0000000e+00  1.0000000e+00 -0.0000000e+00 ...  4.2114880e-01\n",
      "  -0.0000000e+00 -0.0000000e+00]\n",
      " [ 0.0000000e+00  1.0000000e+00 -0.0000000e+00 ... -0.0000000e+00\n",
      "  -0.0000000e+00  3.5979896e+00]\n",
      " ...\n",
      " [ 1.0000000e+00  2.6000000e+01 -0.0000000e+00 ... -0.0000000e+00\n",
      "  -0.0000000e+00 -0.0000000e+00]\n",
      " [ 1.0000000e+00  2.6000000e+01 -0.0000000e+00 ...  4.6671630e-03\n",
      "  -0.0000000e+00  4.9407410e+00]\n",
      " [ 0.0000000e+00  2.8000000e+01 -0.0000000e+00 ... -0.0000000e+00\n",
      "  -0.0000000e+00 -0.0000000e+00]]\n",
      "[[ 0.0000000e+00  0.0000000e+00 -0.0000000e+00 ...  3.7607260e+00.0% ...\n",
      "  -0.0000000e+00 -0.0000000e+00]\n",
      " [ 0.0000000e+00  1.0000000e+00 -0.0000000e+00 ...  4.2114880e-01\n",
      "  -0.0000000e+00 -0.0000000e+00]\n",
      " [ 0.0000000e+00  1.0000000e+00 -0.0000000e+00 ... -0.0000000e+00\n",
      "  -0.0000000e+00  3.5979896e+00]\n",
      " ...\n",
      " [ 1.0000000e+00  2.6000000e+01 -0.0000000e+00 ... -0.0000000e+00\n",
      "  -0.0000000e+00 -0.0000000e+00]\n",
      " [ 1.0000000e+00  2.6000000e+01 -0.0000000e+00 ...  4.6671630e-03\n",
      "  -0.0000000e+00  4.9407410e+00]\n",
      " [ 0.0000000e+00  2.8000000e+01 -0.0000000e+00 ... -0.0000000e+00\n",
      "  -0.0000000e+00 -0.0000000e+00]]\n",
      "[[ 0.0000000e+00  0.0000000e+00 -0.0000000e+00 ...  3.7607260e+00.0% ...\n",
      "  -0.0000000e+00 -0.0000000e+00]\n",
      " [ 0.0000000e+00  1.0000000e+00 -0.0000000e+00 ...  4.2114880e-01\n",
      "  -0.0000000e+00 -0.0000000e+00]\n",
      " [ 0.0000000e+00  1.0000000e+00 -0.0000000e+00 ... -0.0000000e+00\n",
      "  -0.0000000e+00  3.5979896e+00]\n",
      " ...\n",
      " [ 1.0000000e+00  2.6000000e+01 -0.0000000e+00 ... -0.0000000e+00\n",
      "  -0.0000000e+00 -0.0000000e+00]\n",
      " [ 1.0000000e+00  2.6000000e+01 -0.0000000e+00 ...  4.6671630e-03\n",
      "  -0.0000000e+00  4.9407410e+00]\n",
      " [ 0.0000000e+00  2.8000000e+01 -0.0000000e+00 ... -0.0000000e+00\n",
      "  -0.0000000e+00 -0.0000000e+00]]\n",
      "[[ 0.0000000e+00  0.0000000e+00 -0.0000000e+00 ...  3.7607260e+00.0% ...\n",
      "  -0.0000000e+00 -0.0000000e+00]\n",
      " [ 0.0000000e+00  1.0000000e+00 -0.0000000e+00 ...  4.2114880e-01\n",
      "  -0.0000000e+00 -0.0000000e+00]\n",
      " [ 0.0000000e+00  1.0000000e+00 -0.0000000e+00 ... -0.0000000e+00\n",
      "  -0.0000000e+00  3.5979896e+00]\n",
      " ...\n",
      " [ 1.0000000e+00  2.6000000e+01 -0.0000000e+00 ... -0.0000000e+00\n",
      "  -0.0000000e+00 -0.0000000e+00]\n",
      " [ 1.0000000e+00  2.6000000e+01 -0.0000000e+00 ...  4.6671630e-03\n",
      "  -0.0000000e+00  4.9407410e+00]\n",
      " [ 0.0000000e+00  2.8000000e+01 -0.0000000e+00 ... -0.0000000e+00\n",
      "  -0.0000000e+00 -0.0000000e+00]]\n",
      "[[ 0.0000000e+00  0.0000000e+00 -0.0000000e+00 ...  3.7607260e+00.0% ...\n",
      "  -0.0000000e+00 -0.0000000e+00]\n",
      " [ 0.0000000e+00  1.0000000e+00 -0.0000000e+00 ...  4.2114880e-01\n",
      "  -0.0000000e+00 -0.0000000e+00]\n",
      " [ 0.0000000e+00  1.0000000e+00 -0.0000000e+00 ... -0.0000000e+00\n",
      "  -0.0000000e+00  3.5979896e+00]\n",
      " ...\n",
      " [ 1.0000000e+00  2.6000000e+01 -0.0000000e+00 ...  4.6671630e-03\n",
      "  -0.0000000e+00  4.9407410e+00]\n",
      " [ 0.0000000e+00  2.8000000e+01 -0.0000000e+00 ... -0.0000000e+00\n",
      "  -0.0000000e+00 -0.0000000e+00]\n",
      " [ 0.0000000e+00  3.2000000e+01 -0.0000000e+00 ... -0.0000000e+00\n",
      "  -0.0000000e+00 -0.0000000e+00]]\n",
      "[[ 0.0000000e+00  0.0000000e+00 -0.0000000e+00 ...  3.7607260e+00.0% ...\n",
      "  -0.0000000e+00 -0.0000000e+00]\n",
      " [ 0.0000000e+00  1.0000000e+00 -0.0000000e+00 ...  4.2114880e-01\n",
      "  -0.0000000e+00 -0.0000000e+00]\n",
      " [ 0.0000000e+00  1.0000000e+00 -0.0000000e+00 ... -0.0000000e+00\n",
      "  -0.0000000e+00  3.5979896e+00]\n",
      " ...\n",
      " [ 1.0000000e+00  2.6000000e+01 -0.0000000e+00 ...  4.6671630e-03\n",
      "  -0.0000000e+00  4.9407410e+00]\n",
      " [ 0.0000000e+00  2.8000000e+01 -0.0000000e+00 ... -0.0000000e+00\n",
      "  -0.0000000e+00 -0.0000000e+00]\n",
      " [ 0.0000000e+00  3.2000000e+01 -0.0000000e+00 ... -0.0000000e+00\n",
      "  -0.0000000e+00 -0.0000000e+00]]\n",
      "[[ 0.         0.        -0.        ...  3.760726  -0.        -0.       ]\n",
      " [ 0.         1.        -0.        ...  0.4211488 -0.        -0.       ]\n",
      " [ 0.         1.        -0.        ... -0.        -0.         3.5979896]\n",
      " ...\n",
      " [ 0.        28.        -0.        ... -0.        -0.        -0.       ]\n",
      " [ 0.        32.        -0.        ... -0.        -0.        -0.       ]\n",
      " [ 0.        34.        -0.        ... -0.        -0.        -0.       ]]\n"
     ]
    },
    {
     "name": "stdout",
     "output_type": "stream",
     "text": [
      "[[ 0.         0.        -0.        ...  3.760726  -0.        -0.       ]\n",
      " [ 0.         1.        -0.        ...  0.4211488 -0.        -0.       ]\n",
      " [ 0.         1.        -0.        ... -0.        -0.         3.5979896]\n",
      " ...\n",
      " [ 0.        32.        -0.        ... -0.        -0.        -0.       ]\n",
      " [ 0.        34.        -0.        ... -0.        -0.        -0.       ]\n",
      " [ 0.        35.        -0.        ... -0.        -0.        -0.       ]]\n",
      "[[ 0.         0.        -0.        ...  3.760726  -0.        -0.       ]\n",
      " [ 0.         1.        -0.        ...  0.4211488 -0.        -0.       ]\n",
      " [ 0.         1.        -0.        ... -0.        -0.         3.5979896]\n",
      " ...\n",
      " [ 0.        32.        -0.        ... -0.        -0.        -0.       ]\n",
      " [ 0.        34.        -0.        ... -0.        -0.        -0.       ]\n",
      " [ 0.        35.        -0.        ... -0.        -0.        -0.       ]]\n",
      "[[ 0.         0.        -0.        ...  3.760726  -0.        -0.       ]\n",
      " [ 0.         1.        -0.        ...  0.4211488 -0.        -0.       ]\n",
      " [ 0.         1.        -0.        ... -0.        -0.         3.5979896]\n",
      " ...\n",
      " [ 0.        35.        -0.        ... -0.        -0.        -0.       ]\n",
      " [ 0.        37.        -0.        ... -0.        -0.        -0.       ]\n",
      " [ 0.        37.        -0.        ...  1.1713179  0.3161184 -0.       ]]\n",
      "[[ 0.         0.        -0.        ...  3.760726  -0.        -0.       ]\n",
      " [ 0.         1.        -0.        ...  0.4211488 -0.        -0.       ]\n",
      " [ 0.         1.        -0.        ... -0.        -0.         3.5979896]\n",
      " ...\n",
      " [ 0.        37.        -0.        ... -0.        -0.        -0.       ]\n",
      " [ 0.        37.        -0.        ...  1.1713179  0.3161184 -0.       ]\n",
      " [ 0.        38.        -0.        ...  1.3781762 -0.        -0.       ]]\n",
      "[[ 0.         0.        -0.        ...  3.760726  -0.        -0.       ]\n",
      " [ 0.         1.        -0.        ...  0.4211488 -0.        -0.       ]\n",
      " [ 0.         1.        -0.        ... -0.        -0.         3.5979896]\n",
      " ...\n",
      " [ 0.        38.        -0.        ...  1.3781762 -0.        -0.       ]\n",
      " [ 0.        39.        -0.        ... -0.        -0.        -0.       ]\n",
      " [ 0.        39.        -0.        ...  0.4211488 -0.        -0.       ]]\n",
      "[[ 0.         0.        -0.        ...  3.760726  -0.        -0.       ]\n",
      " [ 0.         1.        -0.        ...  0.4211488 -0.        -0.       ]\n",
      " [ 0.         1.        -0.        ... -0.        -0.         3.5979896]\n",
      " ...\n",
      " [ 0.        38.        -0.        ...  1.3781762 -0.        -0.       ]\n",
      " [ 0.        39.        -0.        ... -0.        -0.        -0.       ]\n",
      " [ 0.        39.        -0.        ...  0.4211488 -0.        -0.       ]]\n",
      "[[ 0.         0.        -0.        ...  3.760726  -0.        -0.       ]\n",
      " [ 0.         1.        -0.        ...  0.4211488 -0.        -0.       ]\n",
      " [ 0.         1.        -0.        ... -0.        -0.         3.5979896]\n",
      " ...\n",
      " [ 0.        38.        -0.        ...  1.3781762 -0.        -0.       ]\n",
      " [ 0.        39.        -0.        ... -0.        -0.        -0.       ]\n",
      " [ 0.        39.        -0.        ...  0.4211488 -0.        -0.       ]]\n",
      "[[ 0.          0.         -0.         ...  3.760726   -0.----] 42.0% ...\n",
      "  -0.        ]\n",
      " [ 0.          1.         -0.         ...  0.4211488  -0.\n",
      "  -0.        ]\n",
      " [ 0.          1.         -0.         ... -0.         -0.\n",
      "   3.5979896 ]\n",
      " ...\n",
      " [ 0.         39.         -0.         ...  0.4211488  -0.\n",
      "  -0.        ]\n",
      " [ 0.         42.         -0.         ...  0.30063772 -0.\n",
      "  -0.        ]\n",
      " [ 0.         42.         -0.         ...  3.5275102  -0.\n",
      "  -0.        ]]\n",
      "[[ 0.          0.         -0.         ...  3.760726   -0.----] 43.0% ...\n",
      "  -0.        ]\n",
      " [ 0.          1.         -0.         ...  0.4211488  -0.\n",
      "  -0.        ]\n",
      " [ 0.          1.         -0.         ... -0.         -0.\n",
      "   3.5979896 ]\n",
      " ...\n",
      " [ 0.         42.         -0.         ...  0.30063772 -0.\n",
      "  -0.        ]\n",
      " [ 0.         42.         -0.         ...  3.5275102  -0.\n",
      "  -0.        ]\n",
      " [ 0.         43.         -0.         ... -0.         -0.\n",
      "  -0.        ]]\n",
      "[[ 0.         0.        -0.        ...  3.760726  -0.        -0.       ]\n",
      " [ 0.         1.        -0.        ...  0.4211488 -0.        -0.       ]\n",
      " [ 0.         1.        -0.        ... -0.        -0.         3.5979896]\n",
      " ...\n",
      " [ 0.        42.        -0.        ...  3.5275102 -0.        -0.       ]\n",
      " [ 0.        43.        -0.        ... -0.        -0.        -0.       ]\n",
      " [ 0.        44.        -0.        ... -0.        -0.        -0.       ]]\n",
      "[[ 0.         0.        -0.        ...  3.760726  -0.        -0.       ]\n",
      " [ 0.         1.        -0.        ...  0.4211488 -0.        -0.       ]\n",
      " [ 0.         1.        -0.        ... -0.        -0.         3.5979896]\n",
      " ...\n",
      " [ 0.        42.        -0.        ...  3.5275102 -0.        -0.       ]\n",
      " [ 0.        43.        -0.        ... -0.        -0.        -0.       ]\n",
      " [ 0.        44.        -0.        ... -0.        -0.        -0.       ]]\n",
      "[[ 0.         0.        -0.        ...  3.760726  -0.        -0.       ]\n",
      " [ 0.         1.        -0.        ...  0.4211488 -0.        -0.       ]\n",
      " [ 0.         1.        -0.        ... -0.        -0.         3.5979896]\n",
      " ...\n",
      " [ 0.        42.        -0.        ...  3.5275102 -0.        -0.       ]\n",
      " [ 0.        43.        -0.        ... -0.        -0.        -0.       ]\n",
      " [ 0.        44.        -0.        ... -0.        -0.        -0.       ]]\n",
      "[[ 0.         0.        -0.        ...  3.760726  -0.        -0.       ]\n",
      " [ 0.         1.        -0.        ...  0.4211488 -0.        -0.       ]\n",
      " [ 0.         1.        -0.        ... -0.        -0.         3.5979896]\n",
      " ...\n",
      " [ 0.        43.        -0.        ... -0.        -0.        -0.       ]\n",
      " [ 0.        44.        -0.        ... -0.        -0.        -0.       ]\n",
      " [ 0.        47.        -0.        ... -0.        -0.        -0.       ]]\n",
      "[[ 0.         0.        -0.        ...  3.760726  -0.        -0.       ]\n",
      " [ 0.         1.        -0.        ...  0.4211488 -0.        -0.       ]\n",
      " [ 0.         1.        -0.        ... -0.        -0.         3.5979896]\n",
      " ...\n",
      " [ 0.        44.        -0.        ... -0.        -0.        -0.       ]\n",
      " [ 0.        47.        -0.        ... -0.        -0.        -0.       ]\n",
      " [ 0.        48.        -0.        ...  0.4970486 -0.         5.0277166]]\n",
      "[[ 0.         0.        -0.        ...  3.760726  -0.        -0.       ]\n",
      " [ 0.         1.        -0.        ...  0.4211488 -0.        -0.       ]\n",
      " [ 0.         1.        -0.        ... -0.        -0.         3.5979896]\n",
      " ...\n",
      " [ 0.        44.        -0.        ... -0.        -0.        -0.       ]\n",
      " [ 0.        47.        -0.        ... -0.        -0.        -0.       ]\n",
      " [ 0.        48.        -0.        ...  0.4970486 -0.         5.0277166]]\n",
      "[[ 0.         0.        -0.        ...  3.760726  -0.        -0.       ]\n",
      " [ 0.         1.        -0.        ...  0.4211488 -0.        -0.       ]\n",
      " [ 0.         1.        -0.        ... -0.        -0.         3.5979896]\n",
      " ...\n",
      " [ 0.        47.        -0.        ... -0.        -0.        -0.       ]\n",
      " [ 0.        48.        -0.        ...  0.4970486 -0.         5.0277166]\n",
      " [ 0.        50.        -0.        ... -0.        -0.        -0.       ]]\n",
      "[[ 0.         0.        -0.        ...  3.760726  -0.        -0.       ]\n",
      " [ 0.         1.        -0.        ...  0.4211488 -0.        -0.       ]\n",
      " [ 0.         1.        -0.        ... -0.        -0.         3.5979896]\n",
      " ...\n",
      " [ 0.        48.        -0.        ...  0.4970486 -0.         5.0277166]\n",
      " [ 0.        50.        -0.        ... -0.        -0.        -0.       ]\n",
      " [ 0.        51.        -0.        ... -0.        -0.        -0.       ]]\n",
      "[[ 0.         0.        -0.        ...  3.760726  -0.        -0.       ]\n",
      " [ 0.         1.        -0.        ...  0.4211488 -0.        -0.       ]\n",
      " [ 0.         1.        -0.        ... -0.        -0.         3.5979896]\n",
      " ...\n",
      " [ 0.        51.        -0.        ... -0.        -0.        -0.       ]\n",
      " [ 0.        52.        -0.        ... -0.        -0.        -0.       ]\n",
      " [ 0.        52.        -0.        ...  5.647515  -0.         0.851339 ]]\n",
      "[[ 0.         0.        -0.        ...  3.760726  -0.        -0.       ]\n",
      " [ 0.         1.        -0.        ...  0.4211488 -0.        -0.       ]\n",
      " [ 0.         1.        -0.        ... -0.        -0.         3.5979896]\n",
      " ...\n",
      " [ 0.        52.        -0.        ... -0.        -0.        -0.       ]\n",
      " [ 0.        52.        -0.        ...  5.647515  -0.         0.851339 ]\n",
      " [ 0.        53.        -0.        ... -0.        -0.        -0.       ]]\n"
     ]
    },
    {
     "name": "stdout",
     "output_type": "stream",
     "text": [
      "[[ 0.         0.        -0.        ...  3.760726  -0.        -0.       ]\n",
      " [ 0.         1.        -0.        ...  0.4211488 -0.        -0.       ]\n",
      " [ 0.         1.        -0.        ... -0.        -0.         3.5979896]\n",
      " ...\n",
      " [ 0.        52.        -0.        ... -0.        -0.        -0.       ]\n",
      " [ 0.        52.        -0.        ...  5.647515  -0.         0.851339 ]\n",
      " [ 0.        53.        -0.        ... -0.        -0.        -0.       ]]\n",
      "[[ 0.         0.        -0.        ...  3.760726  -0.        -0.       ]\n",
      " [ 0.         1.        -0.        ...  0.4211488 -0.        -0.       ]\n",
      " [ 0.         1.        -0.        ... -0.        -0.         3.5979896]\n",
      " ...\n",
      " [ 0.        52.        -0.        ... -0.        -0.        -0.       ]\n",
      " [ 0.        52.        -0.        ...  5.647515  -0.         0.851339 ]\n",
      " [ 0.        53.        -0.        ... -0.        -0.        -0.       ]]\n",
      "[[ 0.         0.        -0.        ...  3.760726  -0.        -0.       ]\n",
      " [ 0.         1.        -0.        ...  0.4211488 -0.        -0.       ]\n",
      " [ 0.         1.        -0.        ... -0.        -0.         3.5979896]\n",
      " ...\n",
      " [ 0.        52.        -0.        ...  5.647515  -0.         0.851339 ]\n",
      " [ 0.        53.        -0.        ... -0.        -0.        -0.       ]\n",
      " [ 0.        56.        -0.        ...  4.0785413 -0.        -0.       ]]\n",
      "[[ 0.         0.        -0.        ...  3.760726  -0.        -0.       ]\n",
      " [ 0.         1.        -0.        ...  0.4211488 -0.        -0.       ]\n",
      " [ 0.         1.        -0.        ... -0.        -0.         3.5979896]\n",
      " ...\n",
      " [ 1.        57.        -0.        ...  1.1761547 -0.        -0.       ]\n",
      " [ 0.        57.        -0.        ...  3.5275102 -0.        -0.       ]\n",
      " [ 0.        57.        -0.        ...  1.3781762 -0.        -0.       ]]\n",
      "[[ 0.         0.        -0.        ...  3.760726  -0.        -0.       ]\n",
      " [ 0.         1.        -0.        ...  0.4211488 -0.        -0.       ]\n",
      " [ 0.         1.        -0.        ... -0.        -0.         3.5979896]\n",
      " ...\n",
      " [ 0.        57.        -0.        ...  1.3781762 -0.        -0.       ]\n",
      " [ 1.        58.        -0.        ...  2.8837833 -0.         1.3222085]\n",
      " [ 1.        58.        -0.        ... -0.        -0.        -0.       ]]\n",
      "[[ 0.         0.        -0.        ...  3.760726  -0.        -0.       ]\n",
      " [ 0.         1.        -0.        ...  0.4211488 -0.        -0.       ]\n",
      " [ 0.         1.        -0.        ... -0.        -0.         3.5979896]\n",
      " ...\n",
      " [ 1.        58.        -0.        ...  2.8837833 -0.         1.3222085]\n",
      " [ 1.        58.        -0.        ... -0.        -0.        -0.       ]\n",
      " [ 0.        59.        -0.        ... -0.        -0.         3.271551 ]]\n",
      "[[ 0.         0.        -0.        ...  3.760726  -0.        -0.       ]\n",
      " [ 0.         1.        -0.        ...  0.4211488 -0.        -0.       ]\n",
      " [ 0.         1.        -0.        ... -0.        -0.         3.5979896]\n",
      " ...\n",
      " [ 1.        58.        -0.        ...  2.8837833 -0.         1.3222085]\n",
      " [ 1.        58.        -0.        ... -0.        -0.        -0.       ]\n",
      " [ 0.        59.        -0.        ... -0.        -0.         3.271551 ]]\n",
      "[[ 0.         0.        -0.        ...  3.760726  -0.        -0.       ]\n",
      " [ 0.         1.        -0.        ...  0.4211488 -0.        -0.       ]\n",
      " [ 0.         1.        -0.        ... -0.        -0.         3.5979896]\n",
      " ...\n",
      " [ 1.        58.        -0.        ...  2.8837833 -0.         1.3222085]\n",
      " [ 1.        58.        -0.        ... -0.        -0.        -0.       ]\n",
      " [ 0.        59.        -0.        ... -0.        -0.         3.271551 ]]\n",
      "[[ 0.         0.        -0.        ...  3.760726  -0.        -0.       ]\n",
      " [ 0.         1.        -0.        ...  0.4211488 -0.        -0.       ]\n",
      " [ 0.         1.        -0.        ... -0.        -0.         3.5979896]\n",
      " ...\n",
      " [ 1.        58.        -0.        ... -0.        -0.        -0.       ]\n",
      " [ 0.        59.        -0.        ... -0.        -0.         3.271551 ]\n",
      " [ 0.        62.        -0.        ... -0.        -0.        -0.       ]]\n",
      "[[ 0.          0.         -0.         ...  3.760726   -0.----] 63.0% ...\n",
      "  -0.        ]\n",
      " [ 0.          1.         -0.         ...  0.4211488  -0.\n",
      "  -0.        ]\n",
      " [ 0.          1.         -0.         ... -0.         -0.\n",
      "   3.5979896 ]\n",
      " ...\n",
      " [ 0.         62.         -0.         ... -0.         -0.\n",
      "  -0.        ]\n",
      " [ 1.         63.         -0.         ... -0.          1.8763129\n",
      "  -0.        ]\n",
      " [ 1.         63.         -0.         ... -0.         -0.\n",
      "   0.70085704]]\n",
      "[[ 0.          0.         -0.         ...  3.760726   -0.----] 64.0% ...\n",
      "  -0.        ]\n",
      " [ 0.          1.         -0.         ...  0.4211488  -0.\n",
      "  -0.        ]\n",
      " [ 0.          1.         -0.         ... -0.         -0.\n",
      "   3.5979896 ]\n",
      " ...\n",
      " [ 1.         63.         -0.         ... -0.         -0.\n",
      "   0.70085704]\n",
      " [ 1.         64.         -0.         ... -0.         -0.\n",
      "  -0.        ]\n",
      " [ 1.         64.         -0.         ... -0.         -0.\n",
      "  -0.        ]]\n",
      "[[ 0.          0.         -0.         ...  3.760726   -0.----] 65.0% ...\n",
      "  -0.        ]\n",
      " [ 0.          1.         -0.         ...  0.4211488  -0.\n",
      "  -0.        ]\n",
      " [ 0.          1.         -0.         ... -0.         -0.\n",
      "   3.5979896 ]\n",
      " ...\n",
      " [ 1.         63.         -0.         ... -0.         -0.\n",
      "   0.70085704]\n",
      " [ 1.         64.         -0.         ... -0.         -0.\n",
      "  -0.        ]\n",
      " [ 1.         64.         -0.         ... -0.         -0.\n",
      "  -0.        ]]\n",
      "[[ 0.          0.         -0.         ...  3.760726   -0.----] 66.0% ...\n",
      "  -0.        ]\n",
      " [ 0.          1.         -0.         ...  0.4211488  -0.\n",
      "  -0.        ]\n",
      " [ 0.          1.         -0.         ... -0.         -0.\n",
      "   3.5979896 ]\n",
      " ...\n",
      " [ 1.         63.         -0.         ... -0.         -0.\n",
      "   0.70085704]\n",
      " [ 1.         64.         -0.         ... -0.         -0.\n",
      "  -0.        ]\n",
      " [ 1.         64.         -0.         ... -0.         -0.\n",
      "  -0.        ]]\n",
      "[[ 0.          0.         -0.         ...  3.760726   -0.----] 67.0% ...\n",
      "  -0.        ]\n",
      " [ 0.          1.         -0.         ...  0.4211488  -0.\n",
      "  -0.        ]\n",
      " [ 0.          1.         -0.         ... -0.         -0.\n",
      "   3.5979896 ]\n",
      " ...\n",
      " [ 1.         63.         -0.         ... -0.         -0.\n",
      "   0.70085704]\n",
      " [ 1.         64.         -0.         ... -0.         -0.\n",
      "  -0.        ]\n",
      " [ 1.         64.         -0.         ... -0.         -0.\n",
      "  -0.        ]]\n",
      "[[ 0.          0.         -0.         ...  3.760726   -0.----] 68.0% ...\n",
      "  -0.        ]\n",
      " [ 0.          1.         -0.         ...  0.4211488  -0.\n",
      "  -0.        ]\n",
      " [ 0.          1.         -0.         ... -0.         -0.\n",
      "   3.5979896 ]\n",
      " ...\n",
      " [ 1.         63.         -0.         ... -0.         -0.\n",
      "   0.70085704]\n",
      " [ 1.         64.         -0.         ... -0.         -0.\n",
      "  -0.        ]\n",
      " [ 1.         64.         -0.         ... -0.         -0.\n",
      "  -0.        ]]\n",
      "[[ 0.         0.        -0.        ...  3.760726  -0.        -0.       ]\n",
      " [ 0.         1.        -0.        ...  0.4211488 -0.        -0.       ]\n",
      " [ 0.         1.        -0.        ... -0.        -0.         3.5979896]\n",
      " ...\n",
      " [ 1.        64.        -0.        ... -0.        -0.        -0.       ]\n",
      " [ 1.        64.        -0.        ... -0.        -0.        -0.       ]\n",
      " [ 0.        69.        -0.        ... -0.        -0.        -0.       ]]\n",
      "[[ 0.         0.        -0.        ...  3.760726  -0.        -0.       ]\n",
      " [ 0.         1.        -0.        ...  0.4211488 -0.        -0.       ]\n",
      " [ 0.         1.        -0.        ... -0.        -0.         3.5979896]\n",
      " ...\n",
      " [ 1.        64.        -0.        ... -0.        -0.        -0.       ]\n",
      " [ 0.        69.        -0.        ... -0.        -0.        -0.       ]\n",
      " [ 0.        70.        -0.        ... -0.        -0.        -0.       ]]\n",
      "[[ 0.         0.        -0.        ...  3.760726  -0.        -0.       ]\n",
      " [ 0.         1.        -0.        ...  0.4211488 -0.        -0.       ]\n",
      " [ 0.         1.        -0.        ... -0.        -0.         3.5979896]\n",
      " ...\n",
      " [ 0.        70.        -0.        ... -0.        -0.        -0.       ]\n",
      " [ 0.        71.        -0.        ... -0.        -0.        -0.       ]\n",
      " [ 0.        71.        -0.        ...  4.0785413 -0.        -0.       ]]\n",
      "[[ 0.         0.        -0.        ...  3.760726  -0.        -0.       ]\n",
      " [ 0.         1.        -0.        ...  0.4211488 -0.        -0.       ]\n",
      " [ 0.         1.        -0.        ... -0.        -0.         3.5979896]\n",
      " ...\n",
      " [ 0.        70.        -0.        ... -0.        -0.        -0.       ]\n",
      " [ 0.        71.        -0.        ... -0.        -0.        -0.       ]\n",
      " [ 0.        71.        -0.        ...  4.0785413 -0.        -0.       ]]\n"
     ]
    },
    {
     "name": "stdout",
     "output_type": "stream",
     "text": [
      "[[ 0.         0.        -0.        ...  3.760726  -0.        -0.       ]\n",
      " [ 0.         1.        -0.        ...  0.4211488 -0.        -0.       ]\n",
      " [ 0.         1.        -0.        ... -0.        -0.         3.5979896]\n",
      " ...\n",
      " [ 0.        71.        -0.        ... -0.        -0.        -0.       ]\n",
      " [ 0.        71.        -0.        ...  4.0785413 -0.        -0.       ]\n",
      " [ 1.        73.        -0.        ...  2.3850055 -0.        -0.       ]]\n",
      "[[ 0.         0.        -0.        ...  3.760726  -0.        -0.       ]\n",
      " [ 0.         1.        -0.        ...  0.4211488 -0.        -0.       ]\n",
      " [ 0.         1.        -0.        ... -0.        -0.         3.5979896]\n",
      " ...\n",
      " [ 0.        71.        -0.        ... -0.        -0.        -0.       ]\n",
      " [ 0.        71.        -0.        ...  4.0785413 -0.        -0.       ]\n",
      " [ 1.        73.        -0.        ...  2.3850055 -0.        -0.       ]]\n",
      "[[ 0.         0.        -0.        ...  3.760726  -0.        -0.       ]\n",
      " [ 0.         1.        -0.        ...  0.4211488 -0.        -0.       ]\n",
      " [ 0.         1.        -0.        ... -0.        -0.         3.5979896]\n",
      " ...\n",
      " [ 0.        71.        -0.        ...  4.0785413 -0.        -0.       ]\n",
      " [ 1.        73.        -0.        ...  2.3850055 -0.        -0.       ]\n",
      " [ 0.        75.        -0.        ... -0.         1.0343889 -0.       ]]\n",
      "[[ 0.0000000e+00  0.0000000e+00 -0.0000000e+00 ...  3.7607260e+00.0% ...\n",
      "  -0.0000000e+00 -0.0000000e+00]\n",
      " [ 0.0000000e+00  1.0000000e+00 -0.0000000e+00 ...  4.2114880e-01\n",
      "  -0.0000000e+00 -0.0000000e+00]\n",
      " [ 0.0000000e+00  1.0000000e+00 -0.0000000e+00 ... -0.0000000e+00\n",
      "  -0.0000000e+00  3.5979896e+00]\n",
      " ...\n",
      " [ 1.0000000e+00  7.3000000e+01 -0.0000000e+00 ...  2.3850055e+00\n",
      "  -0.0000000e+00 -0.0000000e+00]\n",
      " [ 0.0000000e+00  7.5000000e+01 -0.0000000e+00 ... -0.0000000e+00\n",
      "   1.0343889e+00 -0.0000000e+00]\n",
      " [ 0.0000000e+00  7.6000000e+01 -0.0000000e+00 ...  4.6671630e-03\n",
      "  -0.0000000e+00  4.9407410e+00]]\n",
      "[[ 0.0000000e+00  0.0000000e+00 -0.0000000e+00 ...  3.7607260e+00.0% ...\n",
      "  -0.0000000e+00 -0.0000000e+00]\n",
      " [ 0.0000000e+00  1.0000000e+00 -0.0000000e+00 ...  4.2114880e-01\n",
      "  -0.0000000e+00 -0.0000000e+00]\n",
      " [ 0.0000000e+00  1.0000000e+00 -0.0000000e+00 ... -0.0000000e+00\n",
      "  -0.0000000e+00  3.5979896e+00]\n",
      " ...\n",
      " [ 1.0000000e+00  7.7000000e+01 -0.0000000e+00 ...  7.7641835e+00\n",
      "  -0.0000000e+00 -0.0000000e+00]\n",
      " [ 1.0000000e+00  7.7000000e+01 -0.0000000e+00 ... -0.0000000e+00\n",
      "  -0.0000000e+00 -0.0000000e+00]\n",
      " [ 1.0000000e+00  7.7000000e+01 -0.0000000e+00 ...  4.6671630e-03\n",
      "  -0.0000000e+00  4.9407410e+00]]\n",
      "[[ 0.0000000e+00  0.0000000e+00 -0.0000000e+00 ...  3.7607260e+00.0% ...\n",
      "  -0.0000000e+00 -0.0000000e+00]\n",
      " [ 0.0000000e+00  1.0000000e+00 -0.0000000e+00 ...  4.2114880e-01\n",
      "  -0.0000000e+00 -0.0000000e+00]\n",
      " [ 0.0000000e+00  1.0000000e+00 -0.0000000e+00 ... -0.0000000e+00\n",
      "  -0.0000000e+00  3.5979896e+00]\n",
      " ...\n",
      " [ 1.0000000e+00  7.7000000e+01 -0.0000000e+00 ...  7.7641835e+00\n",
      "  -0.0000000e+00 -0.0000000e+00]\n",
      " [ 1.0000000e+00  7.7000000e+01 -0.0000000e+00 ... -0.0000000e+00\n",
      "  -0.0000000e+00 -0.0000000e+00]\n",
      " [ 1.0000000e+00  7.7000000e+01 -0.0000000e+00 ...  4.6671630e-03\n",
      "  -0.0000000e+00  4.9407410e+00]]\n",
      "[[ 0.0000000e+00  0.0000000e+00 -0.0000000e+00 ...  3.7607260e+00.0% ...\n",
      "  -0.0000000e+00 -0.0000000e+00]\n",
      " [ 0.0000000e+00  1.0000000e+00 -0.0000000e+00 ...  4.2114880e-01\n",
      "  -0.0000000e+00 -0.0000000e+00]\n",
      " [ 0.0000000e+00  1.0000000e+00 -0.0000000e+00 ... -0.0000000e+00\n",
      "  -0.0000000e+00  3.5979896e+00]\n",
      " ...\n",
      " [ 1.0000000e+00  7.7000000e+01 -0.0000000e+00 ...  7.7641835e+00\n",
      "  -0.0000000e+00 -0.0000000e+00]\n",
      " [ 1.0000000e+00  7.7000000e+01 -0.0000000e+00 ... -0.0000000e+00\n",
      "  -0.0000000e+00 -0.0000000e+00]\n",
      " [ 1.0000000e+00  7.7000000e+01 -0.0000000e+00 ...  4.6671630e-03\n",
      "  -0.0000000e+00  4.9407410e+00]]\n",
      "[[ 0.0000000e+00  0.0000000e+00 -0.0000000e+00 ...  3.7607260e+00.0% ...\n",
      "  -0.0000000e+00 -0.0000000e+00]\n",
      " [ 0.0000000e+00  1.0000000e+00 -0.0000000e+00 ...  4.2114880e-01\n",
      "  -0.0000000e+00 -0.0000000e+00]\n",
      " [ 0.0000000e+00  1.0000000e+00 -0.0000000e+00 ... -0.0000000e+00\n",
      "  -0.0000000e+00  3.5979896e+00]\n",
      " ...\n",
      " [ 1.0000000e+00  7.7000000e+01 -0.0000000e+00 ... -0.0000000e+00\n",
      "  -0.0000000e+00 -0.0000000e+00]\n",
      " [ 1.0000000e+00  7.7000000e+01 -0.0000000e+00 ...  4.6671630e-03\n",
      "  -0.0000000e+00  4.9407410e+00]\n",
      " [ 0.0000000e+00  8.0000000e+01 -0.0000000e+00 ... -0.0000000e+00\n",
      "  -0.0000000e+00 -0.0000000e+00]]\n",
      "[[ 0.         0.        -0.        ...  3.760726  -0.        -0.       ]\n",
      " [ 0.         1.        -0.        ...  0.4211488 -0.        -0.       ]\n",
      " [ 0.         1.        -0.        ... -0.        -0.         3.5979896]\n",
      " ...\n",
      " [ 0.        81.        -0.        ... -0.        -0.        -0.       ]\n",
      " [ 1.        81.        -0.        ... -0.        -0.        -0.       ]\n",
      " [ 1.        81.        -0.        ...  2.8837833 -0.         1.3222085]]\n",
      "[[ 0.          0.         -0.         ...  3.760726   -0.----] 82.0% ...\n",
      "  -0.        ]\n",
      " [ 0.          1.         -0.         ...  0.4211488  -0.\n",
      "  -0.        ]\n",
      " [ 0.          1.         -0.         ... -0.         -0.\n",
      "   3.5979896 ]\n",
      " ...\n",
      " [ 1.         81.         -0.         ... -0.         -0.\n",
      "  -0.        ]\n",
      " [ 1.         81.         -0.         ...  2.8837833  -0.\n",
      "   1.3222085 ]\n",
      " [ 0.         82.         -0.         ...  0.30063772 -0.\n",
      "  -0.        ]]\n",
      "[[ 0.          0.         -0.         ...  3.760726   -0.----] 83.0% ...\n",
      "  -0.        ]\n",
      " [ 0.          1.         -0.         ...  0.4211488  -0.\n",
      "  -0.        ]\n",
      " [ 0.          1.         -0.         ... -0.         -0.\n",
      "   3.5979896 ]\n",
      " ...\n",
      " [ 1.         81.         -0.         ... -0.         -0.\n",
      "  -0.        ]\n",
      " [ 1.         81.         -0.         ...  2.8837833  -0.\n",
      "   1.3222085 ]\n",
      " [ 0.         82.         -0.         ...  0.30063772 -0.\n",
      "  -0.        ]]\n",
      "[[ 0.0000000e+00  0.0000000e+00 -0.0000000e+00 ...  3.7607260e+00.0% ...\n",
      "  -0.0000000e+00 -0.0000000e+00]\n",
      " [ 0.0000000e+00  1.0000000e+00 -0.0000000e+00 ...  4.2114880e-01\n",
      "  -0.0000000e+00 -0.0000000e+00]\n",
      " [ 0.0000000e+00  1.0000000e+00 -0.0000000e+00 ... -0.0000000e+00\n",
      "  -0.0000000e+00  3.5979896e+00]\n",
      " ...\n",
      " [ 1.0000000e+00  8.4000000e+01 -0.0000000e+00 ... -0.0000000e+00\n",
      "  -0.0000000e+00  1.6311076e-02]\n",
      " [ 1.0000000e+00  8.4000000e+01 -0.0000000e+00 ... -0.0000000e+00\n",
      "  -0.0000000e+00 -0.0000000e+00]\n",
      " [ 1.0000000e+00  8.4000000e+01 -0.0000000e+00 ...  4.6671630e-03\n",
      "  -0.0000000e+00  4.9407410e+00]]\n",
      "[[ 0.0000000e+00  0.0000000e+00 -0.0000000e+00 ...  3.7607260e+00.0% ...\n",
      "  -0.0000000e+00 -0.0000000e+00]\n",
      " [ 0.0000000e+00  1.0000000e+00 -0.0000000e+00 ...  4.2114880e-01\n",
      "  -0.0000000e+00 -0.0000000e+00]\n",
      " [ 0.0000000e+00  1.0000000e+00 -0.0000000e+00 ... -0.0000000e+00\n",
      "  -0.0000000e+00  3.5979896e+00]\n",
      " ...\n",
      " [ 1.0000000e+00  8.4000000e+01 -0.0000000e+00 ... -0.0000000e+00\n",
      "  -0.0000000e+00  1.6311076e-02]\n",
      " [ 1.0000000e+00  8.4000000e+01 -0.0000000e+00 ... -0.0000000e+00\n",
      "  -0.0000000e+00 -0.0000000e+00]\n",
      " [ 1.0000000e+00  8.4000000e+01 -0.0000000e+00 ...  4.6671630e-03\n",
      "  -0.0000000e+00  4.9407410e+00]]\n",
      "[[ 0.0000000e+00  0.0000000e+00 -0.0000000e+00 ...  3.7607260e+00.0% ...\n",
      "  -0.0000000e+00 -0.0000000e+00]\n",
      " [ 0.0000000e+00  1.0000000e+00 -0.0000000e+00 ...  4.2114880e-01\n",
      "  -0.0000000e+00 -0.0000000e+00]\n",
      " [ 0.0000000e+00  1.0000000e+00 -0.0000000e+00 ... -0.0000000e+00\n",
      "  -0.0000000e+00  3.5979896e+00]\n",
      " ...\n",
      " [ 1.0000000e+00  8.4000000e+01 -0.0000000e+00 ... -0.0000000e+00\n",
      "  -0.0000000e+00  1.6311076e-02]\n",
      " [ 1.0000000e+00  8.4000000e+01 -0.0000000e+00 ... -0.0000000e+00\n",
      "  -0.0000000e+00 -0.0000000e+00]\n",
      " [ 1.0000000e+00  8.4000000e+01 -0.0000000e+00 ...  4.6671630e-03\n",
      "  -0.0000000e+00  4.9407410e+00]]\n",
      "[[ 0.0000000e+00  0.0000000e+00 -0.0000000e+00 ...  3.7607260e+00.0% ...\n",
      "  -0.0000000e+00 -0.0000000e+00]\n",
      " [ 0.0000000e+00  1.0000000e+00 -0.0000000e+00 ...  4.2114880e-01\n",
      "  -0.0000000e+00 -0.0000000e+00]\n",
      " [ 0.0000000e+00  1.0000000e+00 -0.0000000e+00 ... -0.0000000e+00\n",
      "  -0.0000000e+00  3.5979896e+00]\n",
      " ...\n",
      " [ 1.0000000e+00  8.4000000e+01 -0.0000000e+00 ... -0.0000000e+00\n",
      "  -0.0000000e+00  1.6311076e-02]\n",
      " [ 1.0000000e+00  8.4000000e+01 -0.0000000e+00 ... -0.0000000e+00\n",
      "  -0.0000000e+00 -0.0000000e+00]\n",
      " [ 1.0000000e+00  8.4000000e+01 -0.0000000e+00 ...  4.6671630e-03\n",
      "  -0.0000000e+00  4.9407410e+00]]\n"
     ]
    },
    {
     "name": "stdout",
     "output_type": "stream",
     "text": [
      "[[ 0.0000000e+00  0.0000000e+00 -0.0000000e+00 ...  3.7607260e+00.0% ...\n",
      "  -0.0000000e+00 -0.0000000e+00]\n",
      " [ 0.0000000e+00  1.0000000e+00 -0.0000000e+00 ...  4.2114880e-01\n",
      "  -0.0000000e+00 -0.0000000e+00]\n",
      " [ 0.0000000e+00  1.0000000e+00 -0.0000000e+00 ... -0.0000000e+00\n",
      "  -0.0000000e+00  3.5979896e+00]\n",
      " ...\n",
      " [ 1.0000000e+00  8.4000000e+01 -0.0000000e+00 ... -0.0000000e+00\n",
      "  -0.0000000e+00  1.6311076e-02]\n",
      " [ 1.0000000e+00  8.4000000e+01 -0.0000000e+00 ... -0.0000000e+00\n",
      "  -0.0000000e+00 -0.0000000e+00]\n",
      " [ 1.0000000e+00  8.4000000e+01 -0.0000000e+00 ...  4.6671630e-03\n",
      "  -0.0000000e+00  4.9407410e+00]]\n",
      "[[ 0.0000000e+00  0.0000000e+00 -0.0000000e+00 ...  3.7607260e+00.0% ...\n",
      "  -0.0000000e+00 -0.0000000e+00]\n",
      " [ 0.0000000e+00  1.0000000e+00 -0.0000000e+00 ...  4.2114880e-01\n",
      "  -0.0000000e+00 -0.0000000e+00]\n",
      " [ 0.0000000e+00  1.0000000e+00 -0.0000000e+00 ... -0.0000000e+00\n",
      "  -0.0000000e+00  3.5979896e+00]\n",
      " ...\n",
      " [ 1.0000000e+00  8.9000000e+01 -0.0000000e+00 ... -0.0000000e+00\n",
      "  -0.0000000e+00  1.6311076e-02]\n",
      " [ 1.0000000e+00  8.9000000e+01 -0.0000000e+00 ...  7.7641835e+00\n",
      "  -0.0000000e+00 -0.0000000e+00]\n",
      " [ 1.0000000e+00  8.9000000e+01 -0.0000000e+00 ...  4.6671630e-03\n",
      "  -0.0000000e+00  4.9407410e+00]]\n",
      "[[ 0.0000000e+00  0.0000000e+00 -0.0000000e+00 ...  3.7607260e+00.0% ...\n",
      "  -0.0000000e+00 -0.0000000e+00]\n",
      " [ 0.0000000e+00  1.0000000e+00 -0.0000000e+00 ...  4.2114880e-01\n",
      "  -0.0000000e+00 -0.0000000e+00]\n",
      " [ 0.0000000e+00  1.0000000e+00 -0.0000000e+00 ... -0.0000000e+00\n",
      "  -0.0000000e+00  3.5979896e+00]\n",
      " ...\n",
      " [ 1.0000000e+00  8.9000000e+01 -0.0000000e+00 ... -0.0000000e+00\n",
      "  -0.0000000e+00  1.6311076e-02]\n",
      " [ 1.0000000e+00  8.9000000e+01 -0.0000000e+00 ...  7.7641835e+00\n",
      "  -0.0000000e+00 -0.0000000e+00]\n",
      " [ 1.0000000e+00  8.9000000e+01 -0.0000000e+00 ...  4.6671630e-03\n",
      "  -0.0000000e+00  4.9407410e+00]]\n",
      "[[ 0.0000000e+00  0.0000000e+00 -0.0000000e+00 ...  3.7607260e+00.0% ...\n",
      "  -0.0000000e+00 -0.0000000e+00]\n",
      " [ 0.0000000e+00  1.0000000e+00 -0.0000000e+00 ...  4.2114880e-01\n",
      "  -0.0000000e+00 -0.0000000e+00]\n",
      " [ 0.0000000e+00  1.0000000e+00 -0.0000000e+00 ... -0.0000000e+00\n",
      "  -0.0000000e+00  3.5979896e+00]\n",
      " ...\n",
      " [ 1.0000000e+00  9.1000000e+01 -0.0000000e+00 ... -0.0000000e+00\n",
      "  -0.0000000e+00  1.6311076e-02]\n",
      " [ 1.0000000e+00  9.1000000e+01 -0.0000000e+00 ...  7.7641835e+00\n",
      "  -0.0000000e+00 -0.0000000e+00]\n",
      " [ 1.0000000e+00  9.1000000e+01 -0.0000000e+00 ... -0.0000000e+00\n",
      "  -0.0000000e+00 -0.0000000e+00]]\n",
      "[[ 0.0000000e+00  0.0000000e+00 -0.0000000e+00 ...  3.7607260e+00.0% ...\n",
      "  -0.0000000e+00 -0.0000000e+00]\n",
      " [ 0.0000000e+00  1.0000000e+00 -0.0000000e+00 ...  4.2114880e-01\n",
      "  -0.0000000e+00 -0.0000000e+00]\n",
      " [ 0.0000000e+00  1.0000000e+00 -0.0000000e+00 ... -0.0000000e+00\n",
      "  -0.0000000e+00  3.5979896e+00]\n",
      " ...\n",
      " [ 1.0000000e+00  9.1000000e+01 -0.0000000e+00 ... -0.0000000e+00\n",
      "  -0.0000000e+00  1.6311076e-02]\n",
      " [ 1.0000000e+00  9.1000000e+01 -0.0000000e+00 ...  7.7641835e+00\n",
      "  -0.0000000e+00 -0.0000000e+00]\n",
      " [ 1.0000000e+00  9.1000000e+01 -0.0000000e+00 ... -0.0000000e+00\n",
      "  -0.0000000e+00 -0.0000000e+00]]\n",
      "[[ 0.         0.        -0.        ...  3.760726  -0.        -0.       ]\n",
      " [ 0.         1.        -0.        ...  0.4211488 -0.        -0.       ]\n",
      " [ 0.         1.        -0.        ... -0.        -0.         3.5979896]\n",
      " ...\n",
      " [ 1.        91.        -0.        ...  7.7641835 -0.        -0.       ]\n",
      " [ 1.        91.        -0.        ... -0.        -0.        -0.       ]\n",
      " [ 0.        93.        -0.        ... -0.        -0.        -0.       ]]\n",
      "[[ 0.         0.        -0.        ...  3.760726  -0.        -0.       ]\n",
      " [ 0.         1.        -0.        ...  0.4211488 -0.        -0.       ]\n",
      " [ 0.         1.        -0.        ... -0.        -0.         3.5979896]\n",
      " ...\n",
      " [ 1.        91.        -0.        ... -0.        -0.        -0.       ]\n",
      " [ 0.        93.        -0.        ... -0.        -0.        -0.       ]\n",
      " [ 0.        94.        -0.        ... -0.        -0.        -0.       ]]\n",
      "[[ 0.         0.        -0.        ...  3.760726  -0.        -0.       ]\n",
      " [ 0.         1.        -0.        ...  0.4211488 -0.        -0.       ]\n",
      " [ 0.         1.        -0.        ... -0.        -0.         3.5979896]\n",
      " ...\n",
      " [ 1.        91.        -0.        ... -0.        -0.        -0.       ]\n",
      " [ 0.        93.        -0.        ... -0.        -0.        -0.       ]\n",
      " [ 0.        94.        -0.        ... -0.        -0.        -0.       ]]\n",
      "[[ 0.         0.        -0.        ...  3.760726  -0.        -0.       ]\n",
      " [ 0.         1.        -0.        ...  0.4211488 -0.        -0.       ]\n",
      " [ 0.         1.        -0.        ... -0.        -0.         3.5979896]\n",
      " ...\n",
      " [ 1.        91.        -0.        ... -0.        -0.        -0.       ]\n",
      " [ 0.        93.        -0.        ... -0.        -0.        -0.       ]\n",
      " [ 0.        94.        -0.        ... -0.        -0.        -0.       ]]\n",
      "[[ 0.         0.        -0.        ...  3.760726  -0.        -0.       ]\n",
      " [ 0.         1.        -0.        ...  0.4211488 -0.        -0.       ]\n",
      " [ 0.         1.        -0.        ... -0.        -0.         3.5979896]\n",
      " ...\n",
      " [ 0.        93.        -0.        ... -0.        -0.        -0.       ]\n",
      " [ 0.        94.        -0.        ... -0.        -0.        -0.       ]\n",
      " [ 0.        97.        -0.        ... -0.        -0.        -0.       ]]\n",
      "[[ 0.         0.        -0.        ...  3.760726  -0.        -0.       ]\n",
      " [ 0.         1.        -0.        ...  0.4211488 -0.        -0.       ]\n",
      " [ 0.         1.        -0.        ... -0.        -0.         3.5979896]\n",
      " ...\n",
      " [ 0.        93.        -0.        ... -0.        -0.        -0.       ]\n",
      " [ 0.        94.        -0.        ... -0.        -0.        -0.       ]\n",
      " [ 0.        97.        -0.        ... -0.        -0.        -0.       ]]\n",
      "[[ 0.         0.        -0.        ...  3.760726  -0.        -0.       ]\n",
      " [ 0.         1.        -0.        ...  0.4211488 -0.        -0.       ]\n",
      " [ 0.         1.        -0.        ... -0.        -0.         3.5979896]\n",
      " ...\n",
      " [ 0.        93.        -0.        ... -0.        -0.        -0.       ]\n",
      " [ 0.        94.        -0.        ... -0.        -0.        -0.       ]\n",
      " [ 0.        97.        -0.        ... -0.        -0.        -0.       ]]\n"
     ]
    }
   ],
   "source": [
    "bottleneck_features = pd.read_csv('data/bottleneck_features_train.csv')\n",
    "def make_dataset(bottleneck_features, indices):\n",
    "    data_array = None\n",
    "    for x in range(100):\n",
    "        progress(x,100)\n",
    "        data_array = add_row(data_array, bottleneck_features, indices, x)\n",
    "        print(data_array)\n",
    "    dataframe = pd.DataFrame(data_array)\n",
    "    dataframe.to_csv(\"data/paired_data.csv\", sep=',', encoding='utf-8')\n",
    "\n",
    "make_dataset(bottleneck_features, indices)"
   ]
  },
  {
   "cell_type": "code",
   "execution_count": null,
   "metadata": {},
   "outputs": [],
   "source": []
  },
  {
   "cell_type": "code",
   "execution_count": null,
   "metadata": {},
   "outputs": [],
   "source": []
  }
 ],
 "metadata": {
  "kernelspec": {
   "display_name": "Python 3",
   "language": "python",
   "name": "python3"
  },
  "language_info": {
   "codemirror_mode": {
    "name": "ipython",
    "version": 3
   },
   "file_extension": ".py",
   "mimetype": "text/x-python",
   "name": "python",
   "nbconvert_exporter": "python",
   "pygments_lexer": "ipython3",
   "version": "3.7.3"
  }
 },
 "nbformat": 4,
 "nbformat_minor": 1
}
