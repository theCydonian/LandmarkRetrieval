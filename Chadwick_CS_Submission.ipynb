{
 "cells": [
  {
   "cell_type": "code",
   "execution_count": 6,
   "metadata": {
    "_cell_guid": "b1076dfc-b9ad-4769-8c92-a6c4dae69d19",
    "_uuid": "8f2839f25d086af736a60e9eeb907d3b93b6e0e5"
   },
   "outputs": [
    {
     "name": "stdout",
     "output_type": "stream",
     "text": [
      "['.DS_Store', 'google-landmarks-dataset']\n",
      "Training data size: (1098461, 2)\n",
      "Test data size: (117703, 2)\n"
     ]
    }
   ],
   "source": [
    "# This Python 3 environment comes with many helpful analytics libraries installed\n",
    "# It is defined by the kaggle/python docker image: https://github.com/kaggle/docker-python\n",
    "# For example, here's several helpful packages to load in \n",
    "\n",
    "import numpy as np # linear algebra\n",
    "import pandas as pd # data processing, CSV file I/O (e.g. pd.read_csv)\n",
    "import matplotlib.pyplot as plt\n",
    "import seaborn as sns\n",
    "\n",
    "# Input data files are available in the \"../input/\" directory.\n",
    "# For example, running this (by clicking run or pressing Shift+Enter) will list the files in the input directory\n",
    "\n",
    "import os\n",
    "print(os.listdir(\"input/\"))\n",
    "\n",
    "# Any results you write to the current directory are saved as output.\n",
    "\n",
    "#reading the training and test data\n",
    "train_data = pd.read_csv('input/google-landmarks-dataset/index.csv')\n",
    "test_data = pd.read_csv('input/google-landmarks-dataset/test.csv')\n",
    "\n",
    "print(\"Training data size:\",train_data.shape)\n",
    "print(\"Test data size:\",test_data.shape)"
   ]
  },
  {
   "cell_type": "code",
   "execution_count": 7,
   "metadata": {},
   "outputs": [],
   "source": [
    "#Downloading the images \n",
    "from IPython.display import Image\n",
    "from IPython.core.display import HTML \n",
    "def display_image(url):\n",
    "    img_style = \"width: 500px; margin: 0px; float: left; border: 1px solid black;\"\n",
    "    #images_list = ''.join([f\"<img style='{img_style}' src='{u}' />\" for _, u in urls.head(20).iteritems()])\n",
    "    image=f\"<img style='{img_style}' src='{url}' />\"\n",
    "    display(HTML(image))"
   ]
  },
  {
   "cell_type": "code",
   "execution_count": 8,
   "metadata": {},
   "outputs": [
    {
     "data": {
      "text/html": [
       "<img style='width: 500px; margin: 0px; float: left; border: 1px solid black;' src='http://lh3.ggpht.com/-0syNYGY8KGI/TM3Y0kKbgDI/AAAAAAAAALU/LaanOkKbt8g/s1600/' />"
      ],
      "text/plain": [
       "<IPython.core.display.HTML object>"
      ]
     },
     "metadata": {},
     "output_type": "display_data"
    },
    {
     "data": {
      "text/html": [
       "<img style='width: 500px; margin: 0px; float: left; border: 1px solid black;' src='https://lh3.googleusercontent.com/-gvOm8lpizSQ/TqGi__aydEI/AAAAAAAAAWw/oM5M9Idm_cM/s1600/' />"
      ],
      "text/plain": [
       "<IPython.core.display.HTML object>"
      ]
     },
     "metadata": {},
     "output_type": "display_data"
    },
    {
     "data": {
      "text/html": [
       "<img style='width: 500px; margin: 0px; float: left; border: 1px solid black;' src='http://lh5.ggpht.com/-2NdVC7qAtk4/SC9AW2SGWqI/AAAAAAAACps/CnLYkyGwg6w/s1600/' />"
      ],
      "text/plain": [
       "<IPython.core.display.HTML object>"
      ]
     },
     "metadata": {},
     "output_type": "display_data"
    },
    {
     "data": {
      "text/html": [
       "<img style='width: 500px; margin: 0px; float: left; border: 1px solid black;' src='http://lh3.ggpht.com/-FV8xeM7Xohk/RpTvuupcVQI/AAAAAAAADFc/Vr8WIcYNAsU/rj/' />"
      ],
      "text/plain": [
       "<IPython.core.display.HTML object>"
      ]
     },
     "metadata": {},
     "output_type": "display_data"
    },
    {
     "data": {
      "text/html": [
       "<img style='width: 500px; margin: 0px; float: left; border: 1px solid black;' src='http://lh5.ggpht.com/-g3MdBD7f318/RzwDstaevTI/AAAAAAAAAEE/-jfdf03RYyk/s1600/' />"
      ],
      "text/plain": [
       "<IPython.core.display.HTML object>"
      ]
     },
     "metadata": {},
     "output_type": "display_data"
    },
    {
     "data": {
      "text/html": [
       "<img style='width: 500px; margin: 0px; float: left; border: 1px solid black;' src='https://lh5.googleusercontent.com/-J669tqYOWz4/TutOP6JqMdI/AAAAAAAAAu8/s5vAqqvs10M/s1600/' />"
      ],
      "text/plain": [
       "<IPython.core.display.HTML object>"
      ]
     },
     "metadata": {},
     "output_type": "display_data"
    },
    {
     "data": {
      "text/html": [
       "<img style='width: 500px; margin: 0px; float: left; border: 1px solid black;' src='http://mw2.google.com/mw-panoramio/photos/medium/2939480.jpg' />"
      ],
      "text/plain": [
       "<IPython.core.display.HTML object>"
      ]
     },
     "metadata": {},
     "output_type": "display_data"
    },
    {
     "data": {
      "text/html": [
       "<img style='width: 500px; margin: 0px; float: left; border: 1px solid black;' src='https://lh4.googleusercontent.com/-TwFDK0LdD9o/SRgpuMmDGhI/AAAAAAAABcY/wMY2pJiEjPc/s1600/' />"
      ],
      "text/plain": [
       "<IPython.core.display.HTML object>"
      ]
     },
     "metadata": {},
     "output_type": "display_data"
    },
    {
     "data": {
      "text/html": [
       "<img style='width: 500px; margin: 0px; float: left; border: 1px solid black;' src='http://mw2.google.com/mw-panoramio/photos/medium/64966624.jpg' />"
      ],
      "text/plain": [
       "<IPython.core.display.HTML object>"
      ]
     },
     "metadata": {},
     "output_type": "display_data"
    },
    {
     "data": {
      "text/html": [
       "<img style='width: 500px; margin: 0px; float: left; border: 1px solid black;' src='http://lh4.ggpht.com/-837P_UgHipw/S3OE4CuMKpI/AAAAAAAACsY/ZiMxR1QJweE/s1600/' />"
      ],
      "text/plain": [
       "<IPython.core.display.HTML object>"
      ]
     },
     "metadata": {},
     "output_type": "display_data"
    },
    {
     "data": {
      "text/html": [
       "<img style='width: 500px; margin: 0px; float: left; border: 1px solid black;' src='https://lh3.googleusercontent.com/-KZOCjDz0Ge0/T3ttKslJPfI/AAAAAAAAtjI/lJIEXbNCbM4/s1600/' />"
      ],
      "text/plain": [
       "<IPython.core.display.HTML object>"
      ]
     },
     "metadata": {},
     "output_type": "display_data"
    },
    {
     "data": {
      "text/html": [
       "<img style='width: 500px; margin: 0px; float: left; border: 1px solid black;' src='http://lh6.ggpht.com/-P02jQKxFG1w/Sk0nfwM126I/AAAAAAAAGoQ/fpa4DKnibms/s1600/' />"
      ],
      "text/plain": [
       "<IPython.core.display.HTML object>"
      ]
     },
     "metadata": {},
     "output_type": "display_data"
    },
    {
     "data": {
      "text/html": [
       "<img style='width: 500px; margin: 0px; float: left; border: 1px solid black;' src='http://mw2.google.com/mw-panoramio/photos/medium/54284641.jpg' />"
      ],
      "text/plain": [
       "<IPython.core.display.HTML object>"
      ]
     },
     "metadata": {},
     "output_type": "display_data"
    },
    {
     "data": {
      "text/html": [
       "<img style='width: 500px; margin: 0px; float: left; border: 1px solid black;' src='https://lh3.googleusercontent.com/-zMA19gGDZw4/SuS-zvmk3MI/AAAAAAAABHY/EyjGyBwDTSc/s1600/' />"
      ],
      "text/plain": [
       "<IPython.core.display.HTML object>"
      ]
     },
     "metadata": {},
     "output_type": "display_data"
    },
    {
     "data": {
      "text/html": [
       "<img style='width: 500px; margin: 0px; float: left; border: 1px solid black;' src='https://lh3.googleusercontent.com/-rrkBHlqkDAg/UeMHdCVf2_I/AAAAAAAAP28/E90oz4QgixI/s1600/' />"
      ],
      "text/plain": [
       "<IPython.core.display.HTML object>"
      ]
     },
     "metadata": {},
     "output_type": "display_data"
    },
    {
     "data": {
      "text/html": [
       "<img style='width: 500px; margin: 0px; float: left; border: 1px solid black;' src='http://static.panoramio.com/photos/original/90298798.jpg' />"
      ],
      "text/plain": [
       "<IPython.core.display.HTML object>"
      ]
     },
     "metadata": {},
     "output_type": "display_data"
    },
    {
     "data": {
      "text/html": [
       "<img style='width: 500px; margin: 0px; float: left; border: 1px solid black;' src='http://lh6.ggpht.com/-sTEK2EruWrw/R0mMcDBcV3I/AAAAAAAAAaI/-xybs-cjmSs/s1600/' />"
      ],
      "text/plain": [
       "<IPython.core.display.HTML object>"
      ]
     },
     "metadata": {},
     "output_type": "display_data"
    },
    {
     "data": {
      "text/html": [
       "<img style='width: 500px; margin: 0px; float: left; border: 1px solid black;' src='http://lh4.ggpht.com/-Vg9xPYFed0s/S1q9JnVD00I/AAAAAAAAATM/Tt3PQqyRS-4/s1600/' />"
      ],
      "text/plain": [
       "<IPython.core.display.HTML object>"
      ]
     },
     "metadata": {},
     "output_type": "display_data"
    },
    {
     "data": {
      "text/html": [
       "<img style='width: 500px; margin: 0px; float: left; border: 1px solid black;' src='https://lh4.googleusercontent.com/-c-NbUPuf0mA/STzeBu39kkI/AAAAAAAACos/S98S9WhigYk/s1600/' />"
      ],
      "text/plain": [
       "<IPython.core.display.HTML object>"
      ]
     },
     "metadata": {},
     "output_type": "display_data"
    },
    {
     "data": {
      "text/html": [
       "<img style='width: 500px; margin: 0px; float: left; border: 1px solid black;' src='http://lh3.ggpht.com/-qt1FCv1FZsM/TGvMFCVXiHI/AAAAAAAADkE/F7S_5iDseD0/s1600/' />"
      ],
      "text/plain": [
       "<IPython.core.display.HTML object>"
      ]
     },
     "metadata": {},
     "output_type": "display_data"
    }
   ],
   "source": [
    "#Displaying the images\n",
    "for x in range(20):\n",
    "    display_image(train_data['url'][x])"
   ]
  },
  {
   "cell_type": "code",
   "execution_count": 9,
   "metadata": {},
   "outputs": [
    {
     "name": "stderr",
     "output_type": "stream",
     "text": [
      "Using TensorFlow backend.\n"
     ]
    }
   ],
   "source": [
    "from keras.preprocessing import image\n",
    "def path_to_tensor(img_path):\n",
    "    # loads RGB image as PIL.Image.Image type\n",
    "    img = image.load_img(img_path, target_size=(224, 224))\n",
    "    # convert PIL.Image.Image type to 3D tensor with shape (224, 224, 3)\n",
    "    x = image.img_to_array(img)\n",
    "    # convert 3D tensor to 4D tensor with shape (1, 224, 224, 3) and return 4D tensor\n",
    "    return np.expand_dims(x, axis=0)"
   ]
  },
  {
   "cell_type": "code",
   "execution_count": 24,
   "metadata": {},
   "outputs": [
    {
     "name": "stderr",
     "output_type": "stream",
     "text": [
      "/anaconda3/lib/python3.7/site-packages/keras_applications/resnet50.py:265: UserWarning: The output shape of `ResNet50(include_top=False)` has been changed since Keras 2.2.0.\n",
      "  warnings.warn('The output shape of `ResNet50(include_top=False)` '\n"
     ]
    },
    {
     "data": {
      "text/plain": [
       "751.7959594726562"
      ]
     },
     "execution_count": 24,
     "metadata": {},
     "output_type": "execute_result"
    }
   ],
   "source": [
    "from tensorflow.python.keras.applications import ResNet50\n",
    "from tensorflow.python.keras.models import Sequential\n",
    "import urllib.request\n",
    "import scipy\n",
    "\n",
    "url0 = train_data['url'][0]\n",
    "url1 = train_data['url'][4]\n",
    "urllib.request.urlretrieve(url0, 'evaluated.jpg')\n",
    "urllib.request.urlretrieve(url1, 'compareto.jpg')\n",
    "\n",
    "model = Sequential()\n",
    "model = ResNet50(include_top=False, weights='imagenet')\n",
    "\n",
    "\n",
    "evaluated_coords = model.predict(path_to_tensor(\"evaluated.jpg\"))\n",
    "compareto_coords = model.predict(path_to_tensor(\"compareto.jpg\"))\n",
    "\n",
    "flat1 = evaluated_coords.flatten()\n",
    "flat2 = compareto_coords.flatten()\n",
    "\n",
    "scipy.spatial.distance.euclidean(flat1,flat2)\n"
   ]
  },
  {
   "cell_type": "code",
   "execution_count": null,
   "metadata": {},
   "outputs": [],
   "source": []
  }
 ],
 "metadata": {
  "kernelspec": {
   "display_name": "Python 3",
   "language": "python",
   "name": "python3"
  },
  "language_info": {
   "codemirror_mode": {
    "name": "ipython",
    "version": 3
   },
   "file_extension": ".py",
   "mimetype": "text/x-python",
   "name": "python",
   "nbconvert_exporter": "python",
   "pygments_lexer": "ipython3",
   "version": "3.7.3"
  }
 },
 "nbformat": 4,
 "nbformat_minor": 1
}
